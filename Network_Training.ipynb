{
 "cells": [
  {
   "cell_type": "code",
   "execution_count": 1,
   "metadata": {},
   "outputs": [],
   "source": [
    "import numpy as np\n",
    "import matplotlib.pyplot as plt\n",
    "import glob\n",
    "import os\n",
    "from collections import OrderedDict\n",
    "\n",
    "from src.Dataset import HiC_Dataset\n",
    "from src.layers.WEGATConv import Deep_WEGAT_Conv\n",
    "from src.layers.utils import PositionalEncoding\n",
    "\n",
    "import torch\n",
    "from torch import Tensor\n",
    "import torch.nn.functional as F\n",
    "from torch.nn import Parameter, Linear, Sequential, Dropout\n",
    "from torch.utils.data import random_split\n",
    "from torch.optim.lr_scheduler import OneCycleLR\n",
    "\n",
    "import torch_geometric as tgm\n",
    "from torch_geometric.data import DataLoader\n",
    "from torch_geometric.nn import TopKPooling as TKP\n",
    "from torch_geometric.nn import global_max_pool\n",
    "\n",
    "import pytorch_lightning as pl\n",
    "from pytorch_lightning import loggers as pl_loggers\n",
    "\n",
    "DATASET = \"Data/test_dset_18features_custom_norm.pt\"\n",
    "NUMEPOCHS = 10\n",
    "BATCHSIZE = 500\n",
    "LEARNING_RATE = 0.00005\n",
    "WEIGHT_DECAY = 5e-4\n",
    "MANUAL_SEED = 40\n",
    "TRAIN_FRACTION = 0.7"
   ]
  },
  {
   "cell_type": "markdown",
   "metadata": {},
   "source": [
    "# Modules"
   ]
  },
  {
   "cell_type": "code",
   "execution_count": 29,
   "metadata": {},
   "outputs": [],
   "source": [
    "'''\n",
    "UTILITY FUNCTIONS\n",
    "'''\n",
    "def get_middle_features(x,\n",
    "                        numnodes = 51\n",
    "                       ):\n",
    "    mid = int((numnodes-1)/2)\n",
    "    idxs = torch.arange(mid, x.shape[0], numnodes)\n",
    "    return x[idxs,:]\n",
    "\n",
    "\n",
    "'''\n",
    "WEIGHTED EDGE GRAPH ATTENTION MODULE\n",
    "'''\n",
    "class WEGATModule(torch.nn.Module):\n",
    "    def __init__(self,\n",
    "                 hidden_channels=20,\n",
    "                 numchip = 18,\n",
    "                 numedge = 3,\n",
    "                 heads = 4,\n",
    "                 num_graph_convs = 6,\n",
    "                 embedding_layers = 5,\n",
    "                 num_fc = 8,\n",
    "                 fc_channels = [15,15,15,10,10,10,5,2],\n",
    "                 num_prom_fc = 10,\n",
    "                 prom_fc_channels = [15,15,15,15,10,10,10,10,5,2],\n",
    "                 positional_encoding = True,\n",
    "                 pos_embedding_dropout = 0.1,\n",
    "                 fc_dropout = 0.5,\n",
    "                 conv_dropout = 0.1\n",
    "                ):\n",
    "        if isinstance(fc_channels,int):\n",
    "            fc_channels = [fc_channels]*num_fc\n",
    "        elif len(fc_channels) != num_fc:\n",
    "            print(\"number of fully connected channels must match the number of fully connected layers\")\n",
    "            raise\n",
    "\n",
    "        if num_graph_convs < 1:\n",
    "            print(\"need at least one graph convolution\")\n",
    "            raise\n",
    "        num_graph_convs = int(num_graph_convs)\n",
    "\n",
    "        if isinstance(prom_fc_channels,int):\n",
    "            prom_fc_channels = [prom_fc_channels]*num_prom_fc\n",
    "        elif len(prom_fc_channels) != num_prom_fc:\n",
    "            raise\n",
    "\n",
    "        super().__init__()\n",
    "        torch.manual_seed(12345)\n",
    "        #dropout layer\n",
    "        self.dropout = Dropout(p=fc_dropout)\n",
    "\n",
    "        #number of input chip features\n",
    "        self.numchip = numchip\n",
    "\n",
    "        #Whether to apply positional encoding to nodes\n",
    "        self.positional_encoding = positional_encoding\n",
    "        if positional_encoding:\n",
    "            self.posencoder = PositionalEncoding(hidden_channels,\n",
    "                                                 dropout=pos_embedding_dropout,\n",
    "                                                 identical_sizes = True\n",
    "                                                )\n",
    "\n",
    "        #initial embeddding layer\n",
    "        embedding = []\n",
    "        embedding.append(Linear(numchip,\n",
    "                                hidden_channels)\n",
    "                        )\n",
    "        embedding.append(torch.nn.Dropout(p=fc_dropout))\n",
    "        embedding.append(torch.nn.ReLU())\n",
    "        for idx in torch.arange(embedding_layers - 1):\n",
    "            embedding.append(Linear(hidden_channels,\n",
    "                                    hidden_channels)\n",
    "                            )\n",
    "            embedding.append(torch.nn.Dropout(p=fc_dropout))\n",
    "            embedding.append(torch.nn.ReLU())\n",
    "        self.embedding = Sequential(*embedding)\n",
    "\n",
    "        #graph convolution layers\n",
    "        gconv = []\n",
    "        for idx in np.arange(num_graph_convs):\n",
    "            gconv.append(Deep_WEGAT_Conv(node_inchannels = hidden_channels,\n",
    "                                     node_outchannels = hidden_channels,\n",
    "                                     edge_inchannels = numedge,\n",
    "                                     edge_outchannels = numedge,\n",
    "                                     heads = heads,\n",
    "                                     node_dropout = conv_dropout,\n",
    "                                     edge_dropout = conv_dropout\n",
    "                                    )\n",
    "                        )\n",
    "\n",
    "        self.gconv = Sequential(*gconv)\n",
    "\n",
    "        #fully connected channels\n",
    "        fc_channels = [hidden_channels]+fc_channels\n",
    "        lin = []\n",
    "        for idx in torch.arange(num_fc):\n",
    "            lin.append(Linear(fc_channels[idx],fc_channels[idx+1]))\n",
    "            lin.append(torch.nn.Dropout(p=fc_dropout))\n",
    "            lin.append(torch.nn.ReLU())\n",
    "        self.lin = Sequential(*lin)\n",
    "        self.num_fc = num_fc\n",
    "\n",
    "        #fully connected promoter channels\n",
    "        prom_fc_channels = [numchip]+prom_fc_channels\n",
    "        linprom = []\n",
    "        for idx in torch.arange(num_prom_fc):\n",
    "            linprom.append(Linear(prom_fc_channels[idx],prom_fc_channels[idx+1]))\n",
    "            linprom.append(torch.nn.Dropout(p=fc_dropout))\n",
    "            linprom.append(torch.nn.ReLU())\n",
    "        self.linprom = Sequential(*linprom)\n",
    "        self.num_prom_fc = num_prom_fc\n",
    "\n",
    "        #final readout function\n",
    "        self.readout = Linear(prom_fc_channels[-1]+fc_channels[-1], 1)\n",
    "\n",
    "    def forward(self,\n",
    "                batch):\n",
    "        batch.prom_x = batch.prom_x.view(-1,self.numchip).float()\n",
    "        batch.edge_attr[torch.isnan(batch.edge_attr)] = 0\n",
    "        batch.x[torch.isnan(batch.x)] = 0\n",
    "        batch.prom_x[torch.isnan(batch.prom_x)] = 0\n",
    "        \n",
    "        #hack for now\n",
    "        batch.edge_attr[batch.edge_attr>100] = 100 \n",
    "        batch.edge_attr[:,:2] /= 100\n",
    "        \n",
    "        #initial dropout and embedding\n",
    "        batch.x = self.dropout(batch.x)\n",
    "        batch.x = self.embedding(batch.x.float())\n",
    "\n",
    "        #positional encoding\n",
    "        if self.positional_encoding:\n",
    "            batch.x = self.posencoder(batch.x,\n",
    "                                      batch.batch)\n",
    "\n",
    "        #graph convolutions\n",
    "        batch = self.gconv(batch)\n",
    "\n",
    "        #extracting node of interest from graph\n",
    "        x = get_middle_features(batch.x)\n",
    "\n",
    "        # 3. Apply fully connected linear layers to graph\n",
    "        x = self.lin(x)\n",
    "\n",
    "        # 3. Apply fully connected linear layers to promoter\n",
    "        prom_x = self.linprom(batch.prom_x)\n",
    "\n",
    "        r_x = torch.cat([x,prom_x],\n",
    "                        dim = 1)\n",
    "        \n",
    "        # 4. Apply readout layers\n",
    "        x = self.readout(r_x)\n",
    "\n",
    "        return x\n"
   ]
  },
  {
   "cell_type": "markdown",
   "metadata": {},
   "source": [
    "# Lightning Net"
   ]
  },
  {
   "cell_type": "code",
   "execution_count": 30,
   "metadata": {},
   "outputs": [],
   "source": [
    "'''\n",
    "LIGHTNING NET\n",
    "'''\n",
    "class LitWEGATNet(pl.LightningModule):\n",
    "    def __init__(self,\n",
    "                 module,\n",
    "                 train_loader,\n",
    "                 val_loader,\n",
    "                 learning_rate,\n",
    "                 numsteps\n",
    "                ):\n",
    "        super().__init__()\n",
    "        self.module = module\n",
    "        self.learning_rate = learning_rate\n",
    "        self.train_loader = train_loader\n",
    "        self.val_loader = val_loader\n",
    "        self.numsteps = numsteps\n",
    "\n",
    "    def train_dataloader(self):\n",
    "        return self.train_loader\n",
    "    def validation_dataloader(self):\n",
    "        return self.test_loader\n",
    "\n",
    "\n",
    "    def shared_step(self, batch):\n",
    "        pred = self.module(batch).squeeze()\n",
    "        idxs = abs(batch.y.float())>0.01\n",
    "        loss = F.l1_loss(pred[idxs], batch.y.float()[idxs])\n",
    "        return loss, pred\n",
    "\n",
    "    def customlog(self, name, loss, pred):\n",
    "        self.log(f'{name}_loss', loss)\n",
    "        self.log(f'{name}_maxabs_prediction',\n",
    "                 torch.max(abs(pred)).item())\n",
    "        self.log(f'{name}_mean_prediction',\n",
    "                 torch.mean(pred).item())\n",
    "        self.log(f'{name}_std_prediction',\n",
    "                 torch.std(pred).item())\n",
    "\n",
    "    def training_step(self, batch, batch_idx):\n",
    "        loss, pred = self.shared_step(batch)\n",
    "        self.customlog('train',loss, pred)\n",
    "        return loss\n",
    "\n",
    "    def validation_step(self, batch, batch_idx):\n",
    "        loss, pred = self.shared_step(batch)\n",
    "        self.customlog('val',loss, pred)\n",
    "        return loss\n",
    "\n",
    "    def test_step(self, batch, batch_idx):\n",
    "        loss, pred = self.shared_step(batch)\n",
    "        self.customlog('test',loss, pred)\n",
    "        return loss\n",
    "\n",
    "    def configure_optimizers(self):\n",
    "        optimizer = torch.optim.Adam(self.parameters(),\n",
    "                                     lr=self.learning_rate)\n",
    "        return {\n",
    "            'optimizer': optimizer,\n",
    "            'lr_scheduler': {\n",
    "                'scheduler': OneCycleLR(optimizer,\n",
    "                                        max_lr = 10*self.learning_rate,\n",
    "                                        total_steps = self.numsteps\n",
    "                                       )\n",
    "            }\n",
    "        }\n",
    "\n"
   ]
  },
  {
   "cell_type": "markdown",
   "metadata": {},
   "source": [
    "# Data Loaders"
   ]
  },
  {
   "cell_type": "code",
   "execution_count": 31,
   "metadata": {},
   "outputs": [
    {
     "name": "stdout",
     "output_type": "stream",
     "text": [
      "Loading in memory datasets\n",
      "Loaded in memory datasets\n"
     ]
    }
   ],
   "source": [
    "'''\n",
    "CONSTRUCTING THE DATALOADERS\n",
    "'''\n",
    "print(\"Loading in memory datasets\")\n",
    "dset = torch.load(DATASET,map_location=torch.device('cpu'))\n",
    "\n",
    "numdatapoints = len(dset)\n",
    "trainsize = int(numdatapoints*TRAIN_FRACTION)\n",
    "train_dset, val_dset = random_split(dset,\n",
    "                                    [trainsize, numdatapoints-trainsize],\n",
    "                                    generator=torch.Generator().manual_seed(MANUAL_SEED)\n",
    "                                   )\n",
    "\n",
    "print(\"Loaded in memory datasets\")\n",
    "train_loader = DataLoader(train_dset, \n",
    "                              batch_size=BATCHSIZE,\n",
    "                              num_workers=20\n",
    "                             )\n",
    "val_loader = DataLoader(val_dset, \n",
    "                             batch_size=BATCHSIZE,\n",
    "                            num_workers=20\n",
    "                           )"
   ]
  },
  {
   "cell_type": "code",
   "execution_count": 32,
   "metadata": {},
   "outputs": [
    {
     "data": {
      "text/plain": [
       "'\\nvals = []\\ni = 0\\nfor dat in train_loader:\\n    vals.append(dat.y.detach().numpy())\\n    i+=1\\n    if i > 500:\\n        break\\n'"
      ]
     },
     "execution_count": 32,
     "metadata": {},
     "output_type": "execute_result"
    }
   ],
   "source": [
    "'''\n",
    "vals = []\n",
    "i = 0\n",
    "for dat in train_loader:\n",
    "    vals.append(dat.y.detach().numpy())\n",
    "    i+=1\n",
    "    if i > 500:\n",
    "        break\n",
    "'''"
   ]
  },
  {
   "cell_type": "code",
   "execution_count": 33,
   "metadata": {},
   "outputs": [
    {
     "data": {
      "text/plain": [
       "'\\nvals = np.concatenate(vals)\\nvals = vals[~((vals<0.01)&(vals>-0.01))]\\n'"
      ]
     },
     "execution_count": 33,
     "metadata": {},
     "output_type": "execute_result"
    }
   ],
   "source": [
    "'''\n",
    "vals = np.concatenate(vals)\n",
    "vals = vals[~((vals<0.01)&(vals>-0.01))]\n",
    "'''"
   ]
  },
  {
   "cell_type": "code",
   "execution_count": 34,
   "metadata": {},
   "outputs": [
    {
     "data": {
      "text/plain": [
       "\"\\nwith plt.xkcd():\\n    fig = plt.figure()\\n    ax = fig.add_axes((0.1, 0.2, 0.8, 0.7))\\n    ax.spines['right'].set_color('none')\\n    ax.spines['top'].set_color('none')\\n    #ax.set_xticks([])\\n    ax.set_yticks([])\\n    h=ax.hist(vals,bins = 100)\\n    ax.set_xlim([-0.5,0.5])\\n\""
      ]
     },
     "execution_count": 34,
     "metadata": {},
     "output_type": "execute_result"
    }
   ],
   "source": [
    "'''\n",
    "with plt.xkcd():\n",
    "    fig = plt.figure()\n",
    "    ax = fig.add_axes((0.1, 0.2, 0.8, 0.7))\n",
    "    ax.spines['right'].set_color('none')\n",
    "    ax.spines['top'].set_color('none')\n",
    "    #ax.set_xticks([])\n",
    "    ax.set_yticks([])\n",
    "    h=ax.hist(vals,bins = 100)\n",
    "    ax.set_xlim([-0.5,0.5])\n",
    "'''"
   ]
  },
  {
   "cell_type": "code",
   "execution_count": 35,
   "metadata": {},
   "outputs": [
    {
     "data": {
      "text/plain": [
       "\"\\nidx = np.argmax(h[0].astype('int'))\\nh[1][idx:idx+2]\\n\""
      ]
     },
     "execution_count": 35,
     "metadata": {},
     "output_type": "execute_result"
    }
   ],
   "source": [
    "'''\n",
    "idx = np.argmax(h[0].astype('int'))\n",
    "h[1][idx:idx+2]\n",
    "'''"
   ]
  },
  {
   "cell_type": "code",
   "execution_count": 36,
   "metadata": {
    "scrolled": false
   },
   "outputs": [
    {
     "name": "stdout",
     "output_type": "stream",
     "text": [
      "############################LAYER########################\n",
      "INPUT FEATURES\n",
      "nodes:\n",
      "\tmin:\t-0.9999129772186279\n",
      "\tmax:\t1.2642322778701782\n",
      "\tmean:\t0.42540255188941956\n",
      "edges:\n",
      "\tmin:\t0.0\n",
      "\tmax:\t1.0\n",
      "\tmean:\t0.1499070757256292\n",
      "MESSAGES\n",
      "nodes:\n",
      "\tmin:\t-0.4545431137084961\n",
      "\tmax:\t2.1450958251953125\n",
      "\tmean:\t0.36135536432266235\n",
      "edges:\n",
      "\tmin:\t-1.4297250509262085\n",
      "\tmax:\t2.1160027980804443\n",
      "\tmean:\t0.06548897176980972\n",
      "OUTPUT FEATURES\n",
      "nodes:\n",
      "\tmin:\t-0.8205474019050598\n",
      "\tmax:\t1.9046975374221802\n",
      "\tmean:\t0.585176408290863\n",
      "edges:\n",
      "\tmin:\t-1.0112165236799333\n",
      "\tmax:\t1.5778392140832698\n",
      "\tmean:\t0.06515128093188206\n",
      "############################LAYER########################\n",
      "INPUT FEATURES\n",
      "nodes:\n",
      "\tmin:\t-0.8205474019050598\n",
      "\tmax:\t1.9046975374221802\n",
      "\tmean:\t0.585176408290863\n",
      "edges:\n",
      "\tmin:\t-1.0112165236799333\n",
      "\tmax:\t1.5778392140832698\n",
      "\tmean:\t0.06515128093188206\n",
      "MESSAGES\n",
      "nodes:\n",
      "\tmin:\t-0.4124680161476135\n",
      "\tmax:\t1.6783734560012817\n",
      "\tmean:\t0.42786648869514465\n",
      "edges:\n",
      "\tmin:\t-0.15496711432933807\n",
      "\tmax:\t5.026882648468018\n",
      "\tmean:\t0.33499783277511597\n",
      "OUTPUT FEATURES\n",
      "nodes:\n",
      "\tmin:\t-0.5684245228767395\n",
      "\tmax:\t1.8295435905456543\n",
      "\tmean:\t0.5989341735839844\n",
      "edges:\n",
      "\tmin:\t-0.05323789803364599\n",
      "\tmax:\t1.3384937276730766\n",
      "\tmean:\t0.12668725336694914\n",
      "############################LAYER########################\n",
      "INPUT FEATURES\n",
      "nodes:\n",
      "\tmin:\t-0.5684245228767395\n",
      "\tmax:\t1.8295435905456543\n",
      "\tmean:\t0.5989341735839844\n",
      "edges:\n",
      "\tmin:\t-0.05323789803364599\n",
      "\tmax:\t1.3384937276730766\n",
      "\tmean:\t0.12668725336694914\n",
      "MESSAGES\n",
      "nodes:\n",
      "\tmin:\t-0.7729548215866089\n",
      "\tmax:\t1.8806543350219727\n",
      "\tmean:\t0.4661310613155365\n",
      "edges:\n",
      "\tmin:\t-0.10742029547691345\n",
      "\tmax:\t1.8040496110916138\n",
      "\tmean:\t0.08988060057163239\n",
      "OUTPUT FEATURES\n",
      "nodes:\n",
      "\tmin:\t-0.941149115562439\n",
      "\tmax:\t1.9579691886901855\n",
      "\tmean:\t0.6051859855651855\n",
      "edges:\n",
      "\tmin:\t-0.07020392038242991\n",
      "\tmax:\t1.5428033375350652\n",
      "\tmean:\t0.11272393356528143\n",
      "############################LAYER########################\n",
      "INPUT FEATURES\n",
      "nodes:\n",
      "\tmin:\t-0.941149115562439\n",
      "\tmax:\t1.9579691886901855\n",
      "\tmean:\t0.6051859855651855\n",
      "edges:\n",
      "\tmin:\t-0.07020392038242991\n",
      "\tmax:\t1.5428033375350652\n",
      "\tmean:\t0.11272393356528143\n",
      "MESSAGES\n",
      "nodes:\n",
      "\tmin:\t-0.5075539350509644\n",
      "\tmax:\t1.9626492261886597\n",
      "\tmean:\t0.4194853603839874\n",
      "edges:\n",
      "\tmin:\t0.0\n",
      "\tmax:\t4.934064865112305\n",
      "\tmean:\t0.4242408871650696\n",
      "OUTPUT FEATURES\n",
      "nodes:\n",
      "\tmin:\t-0.7854175567626953\n",
      "\tmax:\t2.1669394969940186\n",
      "\tmean:\t0.5886439085006714\n",
      "edges:\n",
      "\tmin:\t0.0\n",
      "\tmax:\t1.1551568390515143\n",
      "\tmean:\t0.1315006205075454\n",
      "############################LAYER########################\n",
      "INPUT FEATURES\n",
      "nodes:\n",
      "\tmin:\t-0.7854175567626953\n",
      "\tmax:\t2.1669394969940186\n",
      "\tmean:\t0.5886439085006714\n",
      "edges:\n",
      "\tmin:\t0.0\n",
      "\tmax:\t1.1551568390515143\n",
      "\tmean:\t0.1315006205075454\n",
      "MESSAGES\n",
      "nodes:\n",
      "\tmin:\t-0.6450448036193848\n",
      "\tmax:\t1.6180795431137085\n",
      "\tmean:\t0.4924083948135376\n",
      "edges:\n",
      "\tmin:\t-0.0297809187322855\n",
      "\tmax:\t3.5510003566741943\n",
      "\tmean:\t0.21642029285430908\n",
      "OUTPUT FEATURES\n",
      "nodes:\n",
      "\tmin:\t-0.7398678064346313\n",
      "\tmax:\t1.9034414291381836\n",
      "\tmean:\t0.6236792802810669\n",
      "edges:\n",
      "\tmin:\t-0.08395633878058005\n",
      "\tmax:\t1.4082432476846576\n",
      "\tmean:\t0.12252892416687786\n",
      "############################LAYER########################\n",
      "INPUT FEATURES\n",
      "nodes:\n",
      "\tmin:\t-0.7398678064346313\n",
      "\tmax:\t1.9034414291381836\n",
      "\tmean:\t0.6236792802810669\n",
      "edges:\n",
      "\tmin:\t-0.08395633878058005\n",
      "\tmax:\t1.4082432476846576\n",
      "\tmean:\t0.12252892416687786\n",
      "MESSAGES\n",
      "nodes:\n",
      "\tmin:\t-0.5233166813850403\n",
      "\tmax:\t1.8596150875091553\n",
      "\tmean:\t0.49210941791534424\n",
      "edges:\n",
      "\tmin:\t-0.10306014865636826\n",
      "\tmax:\t1.9927606582641602\n",
      "\tmean:\t0.15825434029102325\n",
      "OUTPUT FEATURES\n",
      "nodes:\n",
      "\tmin:\t-0.6975904703140259\n",
      "\tmax:\t1.8285927772521973\n",
      "\tmean:\t0.6221224069595337\n",
      "edges:\n",
      "\tmin:\t-0.30456480833012617\n",
      "\tmax:\t1.274310362086007\n",
      "\tmean:\t0.12990029133882874\n"
     ]
    }
   ],
   "source": [
    "NUMCHIP = dset[0].x.shape[1]\n",
    "NUMEDGE = dset[0].edge_attr.shape[1]\n",
    "module = WEGATModule(hidden_channels = 20,\n",
    "                         numchip = NUMCHIP,\n",
    "                         numedge = NUMEDGE,\n",
    "                         embedding_layers = 4,\n",
    "                         positional_encoding = True,\n",
    "                         pos_embedding_dropout = 0,\n",
    "                         fc_dropout = 0,\n",
    "                         conv_dropout = 0\n",
    "                        )\n",
    "for dat in val_loader:\n",
    "    module(dat)\n",
    "    break"
   ]
  },
  {
   "cell_type": "markdown",
   "metadata": {},
   "source": [
    "# Training"
   ]
  },
  {
   "cell_type": "code",
   "execution_count": 15,
   "metadata": {},
   "outputs": [
    {
     "name": "stderr",
     "output_type": "stream",
     "text": [
      "GPU available: False, used: False\n",
      "TPU available: False, using: 0 TPU cores\n",
      "\n",
      "  | Name   | Type        | Params\n",
      "---------------------------------------\n",
      "0 | module | WEGATModule | 15.4 K\n",
      "---------------------------------------\n",
      "15.4 K    Trainable params\n",
      "0         Non-trainable params\n",
      "15.4 K    Total params\n",
      "0.062     Total estimated model params size (MB)\n"
     ]
    },
    {
     "data": {
      "application/vnd.jupyter.widget-view+json": {
       "model_id": "",
       "version_major": 2,
       "version_minor": 0
      },
      "text/plain": [
       "Validation sanity check: 0it [00:00, ?it/s]"
      ]
     },
     "metadata": {},
     "output_type": "display_data"
    },
    {
     "name": "stdout",
     "output_type": "stream",
     "text": [
      "X pre processing\n",
      "tensor(0.3971, dtype=torch.float64) tensor(1., dtype=torch.float64) tensor(0., dtype=torch.float64)\n",
      "X post embedding\n",
      "tensor(0.0427) tensor(0.2669) tensor(0.)\n",
      "X post positional encoding\n",
      "tensor(0.4254) tensor(1.2642) tensor(-0.9999)\n",
      "X post graph convolutions\n",
      "tensor(0.) tensor(0.) tensor(0.)\n",
      "X post processing\n",
      "tensor(0.) tensor(0.) tensor(0.)\n",
      "X pre processing\n",
      "tensor(0.3866, dtype=torch.float64) tensor(1., dtype=torch.float64) tensor(0., dtype=torch.float64)\n",
      "X post embedding\n",
      "tensor(0.0428) tensor(0.2668) tensor(0.)\n",
      "X post positional encoding\n",
      "tensor(0.4254) tensor(1.2651) tensor(-0.9999)\n",
      "X post graph convolutions\n",
      "tensor(0.) tensor(0.) tensor(0.)\n",
      "X post processing\n",
      "tensor(0.) tensor(0.) tensor(0.)\n"
     ]
    },
    {
     "data": {
      "application/vnd.jupyter.widget-view+json": {
       "model_id": "003ff25155444cc7bf4e6c1e78c38e6e",
       "version_major": 2,
       "version_minor": 0
      },
      "text/plain": [
       "Training: 0it [00:00, ?it/s]"
      ]
     },
     "metadata": {},
     "output_type": "display_data"
    },
    {
     "name": "stdout",
     "output_type": "stream",
     "text": [
      "X pre processing\n",
      "tensor(0.3989, dtype=torch.float64) tensor(1., dtype=torch.float64) tensor(0., dtype=torch.float64)\n",
      "X post embedding\n",
      "tensor(0.2408, grad_fn=<MeanBackward0>) tensor(430.0927, grad_fn=<MaxBackward1>) tensor(0., grad_fn=<MinBackward1>)\n",
      "X post positional encoding\n",
      "tensor(0.6270, grad_fn=<MeanBackward0>) tensor(3252.6562, grad_fn=<MaxBackward1>) tensor(-9.9999, grad_fn=<MinBackward1>)\n",
      "X post graph convolutions\n",
      "tensor(0., grad_fn=<MeanBackward0>) tensor(0., grad_fn=<MaxBackward1>) tensor(0., grad_fn=<MinBackward1>)\n",
      "X post processing\n",
      "tensor(0., grad_fn=<MeanBackward0>) tensor(0., grad_fn=<MaxBackward1>) tensor(0., grad_fn=<MinBackward1>)\n",
      "X pre processing\n",
      "tensor(0.4027, dtype=torch.float64) tensor(1., dtype=torch.float64) tensor(0., dtype=torch.float64)\n",
      "X post embedding\n",
      "tensor(0.2327, grad_fn=<MeanBackward0>) tensor(391.0336, grad_fn=<MaxBackward1>) tensor(0., grad_fn=<MinBackward1>)\n",
      "X post positional encoding\n",
      "tensor(0.6108, grad_fn=<MeanBackward0>) tensor(1876.0699, grad_fn=<MaxBackward1>) tensor(-9.9999, grad_fn=<MinBackward1>)\n",
      "X post graph convolutions\n",
      "tensor(0., grad_fn=<MeanBackward0>) tensor(0., grad_fn=<MaxBackward1>) tensor(0., grad_fn=<MinBackward1>)\n",
      "X post processing\n",
      "tensor(0., grad_fn=<MeanBackward0>) tensor(0., grad_fn=<MaxBackward1>) tensor(0., grad_fn=<MinBackward1>)\n",
      "X pre processing\n",
      "tensor(0.4061, dtype=torch.float64) tensor(1., dtype=torch.float64) tensor(0., dtype=torch.float64)\n",
      "X post embedding\n",
      "tensor(0.2377, grad_fn=<MeanBackward0>) tensor(617.4684, grad_fn=<MaxBackward1>) tensor(0., grad_fn=<MinBackward1>)\n",
      "X post positional encoding\n",
      "tensor(0.6193, grad_fn=<MeanBackward0>) tensor(2050.0190, grad_fn=<MaxBackward1>) tensor(-9.9999, grad_fn=<MinBackward1>)\n",
      "X post graph convolutions\n",
      "tensor(0., grad_fn=<MeanBackward0>) tensor(0., grad_fn=<MaxBackward1>) tensor(0., grad_fn=<MinBackward1>)\n",
      "X post processing\n",
      "tensor(0., grad_fn=<MeanBackward0>) tensor(0., grad_fn=<MaxBackward1>) tensor(0., grad_fn=<MinBackward1>)\n",
      "X pre processing\n",
      "tensor(0.4070, dtype=torch.float64) tensor(1., dtype=torch.float64) tensor(0., dtype=torch.float64)\n",
      "X post embedding\n",
      "tensor(0.2404, grad_fn=<MeanBackward0>) tensor(536.1006, grad_fn=<MaxBackward1>) tensor(0., grad_fn=<MinBackward1>)\n",
      "X post positional encoding\n",
      "tensor(0.6605, grad_fn=<MeanBackward0>) tensor(5279.4756, grad_fn=<MaxBackward1>) tensor(-9.9999, grad_fn=<MinBackward1>)\n",
      "X post graph convolutions\n",
      "tensor(0., grad_fn=<MeanBackward0>) tensor(0., grad_fn=<MaxBackward1>) tensor(0., grad_fn=<MinBackward1>)\n",
      "X post processing\n",
      "tensor(0., grad_fn=<MeanBackward0>) tensor(0., grad_fn=<MaxBackward1>) tensor(0., grad_fn=<MinBackward1>)\n",
      "X pre processing\n",
      "tensor(0.4067, dtype=torch.float64) tensor(1., dtype=torch.float64) tensor(0., dtype=torch.float64)\n",
      "X post embedding\n",
      "tensor(0.2521, grad_fn=<MeanBackward0>) tensor(486.3310, grad_fn=<MaxBackward1>) tensor(0., grad_fn=<MinBackward1>)\n",
      "X post positional encoding\n",
      "tensor(0.6215, grad_fn=<MeanBackward0>) tensor(2163.1785, grad_fn=<MaxBackward1>) tensor(-9.9999, grad_fn=<MinBackward1>)\n",
      "X post graph convolutions\n",
      "tensor(0., grad_fn=<MeanBackward0>) tensor(0., grad_fn=<MaxBackward1>) tensor(0., grad_fn=<MinBackward1>)\n",
      "X post processing\n",
      "tensor(0., grad_fn=<MeanBackward0>) tensor(0., grad_fn=<MaxBackward1>) tensor(0., grad_fn=<MinBackward1>)\n"
     ]
    },
    {
     "name": "stderr",
     "output_type": "stream",
     "text": [
      "Exception ignored in: <bound method _MultiProcessingDataLoaderIter.__del__ of <torch.utils.data.dataloader._MultiProcessingDataLoaderIter object at 0x2b5aba7e23c8>>\n",
      "Traceback (most recent call last):\n",
      "  File \"/home/dh486/gnn-env/lib/python3.6/site-packages/torch/utils/data/dataloader.py\", line 1324, in __del__\n",
      "    self._shutdown_workers()\n",
      "  File \"/home/dh486/gnn-env/lib/python3.6/site-packages/torch/utils/data/dataloader.py\", line 1297, in _shutdown_workers\n",
      "    w.join(timeout=_utils.MP_STATUS_CHECK_INTERVAL)\n",
      "  File \"/usr/local/software/master/python/3.6/lib/python3.6/multiprocessing/process.py\", line 124, in join\n",
      "    res = self._popen.wait(timeout)\n",
      "  File \"/usr/local/software/master/python/3.6/lib/python3.6/multiprocessing/popen_fork.py\", line 47, in wait\n",
      "    if not wait([self.sentinel], timeout):\n",
      "  File \"/usr/local/software/master/python/3.6/lib/python3.6/multiprocessing/connection.py\", line 911, in wait\n",
      "    ready = selector.select(timeout)\n",
      "  File \"/usr/local/software/master/python/3.6/lib/python3.6/selectors.py\", line 376, in select\n",
      "    fd_event_list = self._poll.poll(timeout)\n",
      "KeyboardInterrupt: \n"
     ]
    }
   ],
   "source": [
    "NUMCHIP = dset[0].x.shape[1]\n",
    "NUMEDGE = dset[0].edge_attr.shape[1]\n",
    "\n",
    "module = WEGATModule(hidden_channels = 20,\n",
    "                         numchip = NUMCHIP,\n",
    "                         numedge = NUMEDGE,\n",
    "                         embedding_layers = 4,\n",
    "                         positional_encoding = True,\n",
    "                         pos_embedding_dropout = 0.9,\n",
    "                         fc_dropout = 0.9,\n",
    "                         conv_dropout = 0.9\n",
    "                        )\n",
    "Net = LitWEGATNet(module,\n",
    "                  train_loader,\n",
    "                  val_loader,\n",
    "                  LEARNING_RATE,\n",
    "                  50000)\n",
    "    \n",
    "\n",
    "tb_logger = pl_loggers.TensorBoardLogger('runs',\n",
    "                                         name = 'printing_test',\n",
    "                                         version = 0\n",
    "                                        )\n",
    "trainer = pl.Trainer(gpus=0,\n",
    "                     max_epochs=100,\n",
    "                     progress_bar_refresh_rate=1,\n",
    "                     #logger=tb_logger,\n",
    "                     auto_lr_find=False)\n",
    "\n",
    "trainer.fit(Net, train_loader, val_loader)"
   ]
  },
  {
   "cell_type": "markdown",
   "metadata": {},
   "source": [
    "# Model Analysis"
   ]
  },
  {
   "cell_type": "code",
   "execution_count": 3,
   "metadata": {},
   "outputs": [
    {
     "data": {
      "text/plain": [
       "ERROR: Failed to launch TensorBoard (exited with 255).\n",
       "Contents of stderr:\n",
       "TensorFlow installation not found - running with reduced feature set.\n",
       "E0519 13:54:06.474670 47233012180864 program.py:311] TensorBoard could not bind to port 8081, it was already in use\n",
       "ERROR: TensorBoard could not bind to port 8081, it was already in use"
      ]
     },
     "metadata": {},
     "output_type": "display_data"
    }
   ],
   "source": [
    "# Start tensorboard.\n",
    "%reload_ext tensorboard\n",
    "%tensorboard --logdir runs/ --port=8081"
   ]
  },
  {
   "cell_type": "code",
   "execution_count": 18,
   "metadata": {},
   "outputs": [],
   "source": [
    "from torch.distributions.laplace import Laplace"
   ]
  },
  {
   "cell_type": "code",
   "execution_count": 20,
   "metadata": {},
   "outputs": [],
   "source": [
    "m = Laplace(torch.tensor([0.0]), torch.tensor([1.0]))"
   ]
  },
  {
   "cell_type": "code",
   "execution_count": 27,
   "metadata": {},
   "outputs": [
    {
     "name": "stdout",
     "output_type": "stream",
     "text": [
      "tensor(394.5218, dtype=torch.float64, grad_fn=<NegBackward>)\n"
     ]
    }
   ],
   "source": [
    "model = WEGATModule()\n",
    "for batch in train_loader:\n",
    "    pred = model(batch).squeeze()\n",
    "    print(-m.log_prob(pred-batch.y).sum())\n",
    "    break"
   ]
  },
  {
   "cell_type": "code",
   "execution_count": 5,
   "metadata": {},
   "outputs": [],
   "source": [
    "import pandas as pd\n",
    "x = pd.read_table(\"Data/raw/target.tsv\")['target'].values"
   ]
  },
  {
   "cell_type": "code",
   "execution_count": 14,
   "metadata": {},
   "outputs": [
    {
     "data": {
      "image/png": "[encoded data removed]",
      "text/plain": [
       "<Figure size 576x576 with 1 Axes>"
      ]
     },
     "metadata": {
      "needs_background": "light"
     },
     "output_type": "display_data"
    }
   ],
   "source": [
    "fig, ax = plt.subplots(1, figsize = (8,8))\n",
    "lim = 0.75\n",
    "numbins = 100\n",
    "h = ax.hist(x, bins = np.linspace(-lim,lim,numbins))\n",
    "ax.set_ylabel('Frequency',size = 20)\n",
    "ax.set_xlabel('Mbd3 KO--> WT\\nLog-fold Expression Change', size = 20)\n",
    "ax.tick_params(labelsize = 15)"
   ]
  },
  {
   "cell_type": "code",
   "execution_count": 15,
   "metadata": {},
   "outputs": [
    {
     "data": {
      "text/plain": [
       "array([-0.00757576,  0.00757576])"
      ]
     },
     "execution_count": 15,
     "metadata": {},
     "output_type": "execute_result"
    }
   ],
   "source": [
    "idx = np.argmax(h[0])\n",
    "h[1][idx:idx+2]"
   ]
  },
  {
   "cell_type": "code",
   "execution_count": 16,
   "metadata": {},
   "outputs": [
    {
     "data": {
      "text/plain": [
       "0.379006701018458"
      ]
     },
     "execution_count": 16,
     "metadata": {},
     "output_type": "execute_result"
    }
   ],
   "source": [
    "h[0][idx]/np.sum(h[0])"
   ]
  },
  {
   "cell_type": "code",
   "execution_count": 20,
   "metadata": {},
   "outputs": [
    {
     "data": {
      "text/plain": [
       "0.04751191426566998"
      ]
     },
     "execution_count": 20,
     "metadata": {},
     "output_type": "execute_result"
    }
   ],
   "source": [
    "np.sum(h[0][abs(h[1][:-1])>0.3])/np.sum(h[0])"
   ]
  },
  {
   "cell_type": "code",
   "execution_count": null,
   "metadata": {},
   "outputs": [],
   "source": []
  }
 ],
 "metadata": {
  "kernelspec": {
   "display_name": "Python 3",
   "language": "python",
   "name": "python3"
  },
  "language_info": {
   "codemirror_mode": {
    "name": "ipython",
    "version": 3
   },
   "file_extension": ".py",
   "mimetype": "text/x-python",
   "name": "python",
   "nbconvert_exporter": "python",
   "pygments_lexer": "ipython3",
   "version": "3.6.8"
  }
 },
 "nbformat": 4,
 "nbformat_minor": 4
}
