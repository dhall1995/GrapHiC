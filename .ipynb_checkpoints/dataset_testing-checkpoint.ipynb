{
 "cells": [
  {
   "cell_type": "code",
   "execution_count": 1,
   "metadata": {},
   "outputs": [
    {
     "name": "stderr",
     "output_type": "stream",
     "text": [
      "/home/dh486/.pip/lib/python3.7/site-packages/numba/errors.py:137: UserWarning: Insufficiently recent colorama version found. Numba requires colorama >= 0.3.9\n",
      "  warnings.warn(msg)\n"
     ]
    }
   ],
   "source": [
    "import torch\n",
    "from utils.datasets import pop_HiC_Dataset\n",
    "\n"
   ]
  },
  {
   "cell_type": "code",
   "execution_count": 3,
   "metadata": {},
   "outputs": [],
   "source": [
    "import os\n",
    "\n",
    "popfeatures = [file for file in os.listdir('../GNN_data/SLX-7671_haploid/raw/') if '.npz' in file and 'RNA' not in file and 'genes' not in file and 'SLX' not in file]\n",
    "\n"
   ]
  },
  {
   "cell_type": "code",
   "execution_count": 4,
   "metadata": {},
   "outputs": [
    {
     "data": {
      "text/plain": [
       "['CTCF_highconfpeaks.npz',\n",
       " 'GSE22562_Med1_ESC_peaks.npz',\n",
       " 'GSE22562_Med12_ESC_peaks.npz',\n",
       " 'GSE56098_Oct4_ESC_peaks.npz',\n",
       " 'GSE56098_Otx2_ESC_peaks.npz',\n",
       " 'GSE56098_p300_ESC_peaks.npz',\n",
       " 'GSEXXXXXHendrich20150626_Chd4_ESC_peaks.npz',\n",
       " 'GSEXXXXXHendrich20150626_Mbd3_ESC_peaks.npz',\n",
       " 'H3K4me1_hapmESC_highconfpeaks.npz',\n",
       " 'H3K4me3_hapmESC_highconfpeaks.npz',\n",
       " 'H3K9me3_hapmESC_highconfpeaks.npz',\n",
       " 'H3K27ac_hapmESC_highconfpeaks.npz',\n",
       " 'H3K27me3_hapmESC_highconfpeaks.npz',\n",
       " 'H3K36me3_hapmESC_highconfpeaks.npz',\n",
       " 'Klf4_hapmESC_highconfpeaks.npz',\n",
       " 'mESC_active_enhancers.npz',\n",
       " 'mESC_active_promoters.npz',\n",
       " 'mESC_bivalent_promoters.npz',\n",
       " 'mESC_enhancers.npz',\n",
       " 'mESC_poised_enhancers.npz',\n",
       " 'Nanog_hapmESC_highconfpeaks.npz',\n",
       " 'Smc3_hapmESC_highconfpeaks.npz']"
      ]
     },
     "execution_count": 4,
     "metadata": {},
     "output_type": "execute_result"
    }
   ],
   "source": [
    "# TODO (Dom): Make file names more informative e.g. .chip for chipseq files. \n",
    "popfeatures\n",
    "\n"
   ]
  },
  {
   "cell_type": "code",
   "execution_count": 4,
   "metadata": {},
   "outputs": [
    {
     "name": "stdout",
     "output_type": "stream",
     "text": [
      "Looking for files...\n",
      "Processing...\n",
      "binning CTCF_highconfpeaks.npz...\n",
      "binning GSE22562_Med1_ESC_peaks.npz...\n",
      "binning GSE22562_Med12_ESC_peaks.npz...\n",
      "binning GSE56098_Oct4_ESC_peaks.npz...\n",
      "binning GSE56098_Otx2_ESC_peaks.npz...\n",
      "binning GSE56098_p300_ESC_peaks.npz...\n",
      "binning GSEXXXXXHendrich20150626_Chd4_ESC_peaks.npz...\n",
      "binning GSEXXXXXHendrich20150626_Mbd3_ESC_peaks.npz...\n",
      "binning H3K4me1_hapmESC_highconfpeaks.npz...\n",
      "binning H3K4me3_hapmESC_highconfpeaks.npz...\n",
      "binning H3K9me3_hapmESC_highconfpeaks.npz...\n",
      "binning H3K27ac_hapmESC_highconfpeaks.npz...\n",
      "binning H3K27me3_hapmESC_highconfpeaks.npz...\n",
      "binning H3K36me3_hapmESC_highconfpeaks.npz...\n",
      "binning Klf4_hapmESC_highconfpeaks.npz...\n",
      "binning Nanog_hapmESC_highconfpeaks.npz...\n",
      "binning Smc3_hapmESC_highconfpeaks.npz...\n",
      "binning mESC_active_enhancers.npz...\n",
      "binning mESC_active_promoters.npz...\n",
      "binning mESC_bivalent_promoters.npz...\n",
      "binning mESC_enhancers.npz...\n",
      "binning mESC_poised_enhancers.npz...\n",
      "Done!\n"
     ]
    }
   ],
   "source": [
    "dset = pop_HiC_Dataset(\"/mnt/delphi/dh486/PhD/GNN_Work/data/\",\n",
    "                       condition = 'SLX-7671_haploid',\n",
    "                       popfeatures = popfeatures,\n",
    "                       target = 'totalRNA.npz',\n",
    "                       targetIDs = False,\n",
    "                       binSize = 50\n",
    "                      )"
   ]
  },
  {
   "cell_type": "code",
   "execution_count": 5,
   "metadata": {},
   "outputs": [],
   "source": [
    "import numpy as np\n",
    "x = dict(np.load(\"/mnt/delphi/dh486/PhD/GNN_Work/data/SLX-7671_haploid/processed/feature_indexes.npz\"))"
   ]
  },
  {
   "cell_type": "code",
   "execution_count": 6,
   "metadata": {},
   "outputs": [
    {
     "data": {
      "text/plain": [
       "{'CTCF_highconfpeaks': array(21),\n",
       " 'GSE22562_Med1_ESC_peaks': array(22),\n",
       " 'GSE22562_Med12_ESC_peaks': array(23),\n",
       " 'GSE56098_Oct4_ESC_peaks': array(24),\n",
       " 'GSE56098_Otx2_ESC_peaks': array(25),\n",
       " 'GSE56098_p300_ESC_peaks': array(26),\n",
       " 'GSEXXXXXHendrich20150626_Chd4_ESC_peaks': array(27),\n",
       " 'GSEXXXXXHendrich20150626_Mbd3_ESC_peaks': array(28),\n",
       " 'H3K4me1_hapmESC_highconfpeaks': array(29),\n",
       " 'H3K4me3_hapmESC_highconfpeaks': array(30),\n",
       " 'H3K9me3_hapmESC_highconfpeaks': array(31),\n",
       " 'H3K27ac_hapmESC_highconfpeaks': array(32),\n",
       " 'H3K27me3_hapmESC_highconfpeaks': array(33),\n",
       " 'H3K36me3_hapmESC_highconfpeaks': array(34),\n",
       " 'Klf4_hapmESC_highconfpeaks': array(35),\n",
       " 'Nanog_hapmESC_highconfpeaks': array(36),\n",
       " 'Smc3_hapmESC_highconfpeaks': array(37),\n",
       " 'mESC_active_enhancers': array(38),\n",
       " 'mESC_active_promoters': array(39),\n",
       " 'mESC_bivalent_promoters': array(40),\n",
       " 'mESC_enhancers': array(41),\n",
       " 'mESC_poised_enhancers': array(42)}"
      ]
     },
     "execution_count": 6,
     "metadata": {},
     "output_type": "execute_result"
    }
   ],
   "source": [
    "x"
   ]
  },
  {
   "cell_type": "code",
   "execution_count": 1,
   "metadata": {},
   "outputs": [],
   "source": [
    "from utils import processing as p\n",
    "import os"
   ]
  },
  {
   "cell_type": "code",
   "execution_count": 2,
   "metadata": {},
   "outputs": [],
   "source": [
    "scfiles = ['../GNN_data/SLX-7671_haploid/raw/single_cells/'+file for file in os.listdir('../GNN_data/SLX-7671_haploid/raw/single_cells/')]"
   ]
  },
  {
   "cell_type": "code",
   "execution_count": null,
   "metadata": {},
   "outputs": [],
   "source": [
    "contactfile = \"/mnt/delphi/dh486/PhD/GNN_data/SLX-7671_haploid/raw/SLX-7671_haploid_50kb.npz\"\n",
    "shape, binSize, chr_lims = p.make_ptg_pophic_edge_index(contactfile)[:3]"
   ]
  },
  {
   "cell_type": "code",
   "execution_count": null,
   "metadata": {},
   "outputs": [],
   "source": [
    "from utils import misc as m\n",
    "features = ['nuclear_depth', 'local_RoG2Mb', 'chromosomal_depth']\n",
    "chroms = [str(i+1) for i in np.arange(19)] + ['X']\n",
    "for feature in features:\n",
    "    mean, std = p.collate_sc_features(scfiles, feature, chr_lims, binSize, (shape[0],1))\n",
    "    \n",
    "    regions = {chrom: []}\n",
    "    vals = {chrom: []}\n",
    "    for idx in np.arange(len(means)):\n",
    "        chrom, bp = idx_to_bp(idx, chr_lims, binSize, chroms)\n",
    "        reg = [bp, bp+binSize]\n",
    "        mvals = [means[idx]]\n",
    "        svals = [std[idx]]\n",
    "        \n",
    "        regions[chrom].append(reg)\n",
    "        mvals[chrom].append(mvals)\n",
    "        svals[chrom].append(svals)\n",
    "    \n",
    "    m_out_dict = {}\n",
    "    s_out_dict = {}\n",
    "    \n",
    "    for chrom in chroms:\n",
    "        mrkey = \"dataTrack/regions/{}_{}/{}\".format('mean', feature, chrom)\n",
    "        srkey = \"dataTrack/regions/{}_{}/{}\".format('std', feature, chrom)\n",
    "        mvkey = \"dataTrack/values/{}_{}/{}\".format('mean', feature, chrom)\n",
    "        svkey = \"dataTrack/values/{}_{}/{}\".format('std', feature, chrom)\n",
    "            \n",
    "        m_out_dict[mrkey] = regions[chrom]\n",
    "        s_out_dict[srkey] = regions[chrom]\n",
    "        m_out_dict[mvkey] = mvals[chrom]\n",
    "        s_out_dict[svkey] = svals[chrom]\n",
    "        \n",
    "    np.savez(\"/mnt/delphi/dh486/PhD/GNN_data/SLX-7671_haploid/raw/mESC_mean_{}\".format(feature), **m_out_dict)\n",
    "    np.savez(\"/mnt/delphi/dh486/PhD/GNN_data/SLX-7671_haploid/raw/mESC_std_{}\".format(feature), **s_out_dict)\n",
    "    \n",
    "    del(m_out_dict)\n",
    "    del(s_out_dict)\n",
    "    del(mean)\n",
    "    del(std)\n",
    "    del(regions)\n",
    "    del(vals)"
   ]
  },
  {
   "cell_type": "code",
   "execution_count": null,
   "metadata": {},
   "outputs": [],
   "source": []
  }
 ],
 "metadata": {
  "kernelspec": {
   "display_name": "Python 3",
   "language": "python",
   "name": "python3"
  },
  "language_info": {
   "codemirror_mode": {
    "name": "ipython",
    "version": 3
   },
   "file_extension": ".py",
   "mimetype": "text/x-python",
   "name": "python",
   "nbconvert_exporter": "python",
   "pygments_lexer": "ipython3",
   "version": "3.7.4+"
  }
 },
 "nbformat": 4,
 "nbformat_minor": 2
}
