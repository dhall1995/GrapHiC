{
 "cells": [
  {
   "cell_type": "code",
   "execution_count": 42,
   "id": "engaging-finish",
   "metadata": {},
   "outputs": [],
   "source": [
    "import pandas as pd\n",
    "import numpy as np\n",
    "import glob\n",
    "import cooler\n",
    "import itertools\n",
    "import os\n",
    "from src.Datatrack import DataTrack_bigwig as dtbw"
   ]
  },
  {
   "cell_type": "code",
   "execution_count": 43,
   "id": "speaking-county",
   "metadata": {},
   "outputs": [],
   "source": [
    "tmp = pd.read_csv('/disk1/dh486/Data/rnaseq/kallisto_ncrna_ERCC92_wayne_processed_abundance_norm.txt',\n",
    "                  sep = \"\\t\"\n",
    "                 )\n",
    "coolerpath ={'WT':'/disk2/dh486/cooler_files/WT/manually_downsampled/KR/KR_downsampled_WT_merged_10000.cool',\n",
    "             'KO':'/disk2/dh486/cooler_files/KO/KR/KR_KO_merged_10000.cool'\n",
    "            }"
   ]
  },
  {
   "cell_type": "code",
   "execution_count": 44,
   "id": "twelve-tampa",
   "metadata": {},
   "outputs": [
    {
     "data": {
      "text/plain": [
       "['/disk2/dh486/bigwigs/WT',\n",
       " '/disk2/dh486/bigwigs/GSEXXXXXLaue_CTCF_dipmESC_treat_pileup_filter_norm.bw',\n",
       " '/disk2/dh486/bigwigs/GSEXXXXXLaue_CTCF_MBD3nullESC_treat_pileup_filter_norm.bw',\n",
       " '/disk2/dh486/bigwigs/KO',\n",
       " '/disk2/dh486/bigwigs/GSEXXXXXLaue_Smc3_dipmESC_treat_pileup_filter_norm.bw',\n",
       " '/disk2/dh486/bigwigs/GSEXXXXXHendrich20150626_Mbd3_ESC_treat_pileup_filter_norm.bw',\n",
       " '/disk2/dh486/bigwigs/GSEXXXXXLaue_Smc3_MBD3nullESC_treat_pileup_filter_norm.bw']"
      ]
     },
     "execution_count": 44,
     "metadata": {},
     "output_type": "execute_result"
    }
   ],
   "source": [
    "glob.glob(\"/disk2/dh486/bigwigs/*\")"
   ]
  },
  {
   "cell_type": "code",
   "execution_count": null,
   "id": "practical-upgrade",
   "metadata": {},
   "outputs": [],
   "source": [
    "def evaluate_bigwig_over_cooler_bins(cooler_path,\n",
    "                                     bwpaths = [],\n",
    "                                     stats_type = 'max',\n",
    "                                     allowed_chroms = ['str{}'.format(idx+1) for idx in np.arange(19)]+['chrX']\n",
    "                                    ):\n",
    "    c = cooler.Cooler(cooler_path)\n",
    "    bins = c.bins()\n",
    "    chrom_binregs = {k1: np.concatenate([item[None,1:3] for item in list(g1)],\n",
    "                                        axis = 0) for k1,g1 in itertools.groupby(sorted(bins[:].values,key = lambda x:x[0]),lambda x: x[0])}\n",
    "    clr_index = np.concatenate([bins[:][['chrom']].values,\n",
    "                               bins[:].index.values[:,None]],\n",
    "                               axis = 1)\n",
    "    chrom_stats = {k1: np.concatenate([item[None,[-1]] for item in list(g1)],\n",
    "                                       axis = 0) for k1,g1 in itertools.groupby(sorted(clr_index,key = lambda x:x[0]),lambda x: x[0])}\n",
    "    \n",
    "    chrom_binregs = {chrom: chrom_binregs[chrom] for chrom in chrom_binregs if chrom in allowed_chroms}\n",
    "    chrom_stats = {chrom: chrom_stats[chrom] for chrom in chrom_stats if chrom in allowed_chroms}\n",
    "    names = []\n",
    "    for bigwig in bwpaths:\n",
    "        bwname = os.path.split(bigwig)[1].split(\".\")[0]\n",
    "        names.append(bwname)\n",
    "        bw = dtbw('bigwig').from_bw(bigwig)\n",
    "        for chrom in chrom_binregs:\n",
    "            if chrom in bw.chr_lims:\n",
    "                stats_add = bw.bin_single_interval(chrom, \n",
    "                                               chrom_binregs[chrom],\n",
    "                                               type = stats_type\n",
    "                                              )[1]\n",
    "            else:\n",
    "                stats_add = np.zeros(chrom_binregs[chrom].shape[0])\n",
    "            chrom_stats[chrom] = np.append(chrom_stats[chrom], stats_add[:,None])\n",
    "        \n",
    "    chrom_stats = np.concatenate([chrom_stats[chrom] for chrom in c.chromnames],axis = 0)\n",
    "    \n",
    "    return pd.DataFrame(data = chrom_stats[:,1:], \n",
    "                        index = chrom_stats[:,0], \n",
    "                        columns = names)"
   ]
  },
  {
   "cell_type": "code",
   "execution_count": null,
   "id": "clinical-poker",
   "metadata": {},
   "outputs": [],
   "source": [
    "evaluate_bigwig_over_cooler_bins(coolerpath['WT'], \n",
    "                                 bwpaths = ['/disk2/dh486/bigwigs/GSEXXXXXLaue_CTCF_dipmESC_treat_pileup_filter_norm.bw']\n",
    "                                )\n"
   ]
  },
  {
   "cell_type": "code",
   "execution_count": null,
   "id": "compact-jaguar",
   "metadata": {},
   "outputs": [],
   "source": []
  },
  {
   "cell_type": "code",
   "execution_count": null,
   "id": "seven-magnet",
   "metadata": {},
   "outputs": [],
   "source": []
  }
 ],
 "metadata": {
  "kernelspec": {
   "display_name": "hicexplorer",
   "language": "python",
   "name": "hicexplorer"
  },
  "language_info": {
   "codemirror_mode": {
    "name": "ipython",
    "version": 3
   },
   "file_extension": ".py",
   "mimetype": "text/x-python",
   "name": "python",
   "nbconvert_exporter": "python",
   "pygments_lexer": "ipython3",
   "version": "3.7.8"
  }
 },
 "nbformat": 4,
 "nbformat_minor": 5
}
