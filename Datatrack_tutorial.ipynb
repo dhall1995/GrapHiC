{
 "cells": [
  {
   "cell_type": "markdown",
   "metadata": {},
   "source": [
    "# Datatrack.py Tutorial\n",
    "Datatracks are the bread and butter of a great deal of research computational biology. After much of the preprocessing of experimental sequencing data we are usually left with a file which in some way details how some measurement of interest varies across the genome. The simplest way of thinking about a datatrack is just as a function which can take real values. If we let $\\mathbf{C}$ be the set of chromosomes then we might define a datatrack as a function:\n",
    "\n",
    "\n",
    "\\begin{equation}\n",
    "    f: \\mathbb{N}_{+}\\times\\mathbf{C} \\to \\mathbb{R}\n",
    "\\end{equation}\n",
    "\n",
    "Where we input a positive integer and chromosome and we get a real value. This value could, for example, tell us about the strength of binding of a given protein to a given basepair. Or it could be the number of reads which we observe at that basepair.\n",
    "\n",
    "### The DataTrack Class\n",
    "Simple and quick manipulation of the functions which we come across for various ChIPseq datasets (or, for example, DNA methylation dataset datasets) vastly increases the speed at which different hypotheses can be tested. Being able to keep track of variables also greatly reduces mental load! The Datatrack class is a quick way to load up data from standard data sources and interrogate them to find out properties of the underlying functions which they represent. \n",
    "\n",
    "### dtrack_utils\n",
    "The Datatrack class makes heavy use of a cython module called GrapHiC.utils.dtrack_utils. Mastering this module will allow users to implement much more complicated things than in this notebook. However, the datatrack class is useful as-is for a lot of analysis. It's been implemented in cython so that many of the most common tasks such as overlapping two datatracks or collecting statistics on some group of regions can be done faster than would be possible in python.\n"
   ]
  },
  {
   "cell_type": "markdown",
   "metadata": {},
   "source": [
    "## Importing Modules"
   ]
  },
  {
   "cell_type": "code",
   "execution_count": 1,
   "metadata": {},
   "outputs": [],
   "source": [
    "#dtrack_utils Cython Module\n",
    "#from GrapHiC.utils import dtrack_utils as dtu\n",
    "#Numpy is always useful for numerical manipulation\n",
    "import numpy as np\n",
    "import itertools\n",
    "import pandas as pd\n",
    "#Import our datatrack classes!\n",
    "from GrapHiC.utils.Datatrack import DataTrack_rvp as dtrvp\n",
    "from GrapHiC.utils.Datatrack import DataTrack_bigwig as dtbw\n",
    "\n",
    "from GrapHiC.Datatrack_creation import evaluate_tracks_over_cooler_bins, evaluate_tracks_over_bed_dataframe"
   ]
  },
  {
   "cell_type": "markdown",
   "metadata": {},
   "source": [
    "# Basic Datatrack creation over cooler bins\n",
    "\n",
    "One of the basic things to do with datatracks is to collect statistics for those tracks over hi-C data for each bin. We can do this using the evaluate_tracks_over_cooler_bins function:"
   ]
  },
  {
   "cell_type": "code",
   "execution_count": 9,
   "metadata": {},
   "outputs": [],
   "source": [
    "contact_path = '../tutorial_data/WT_contacts.cool'\n",
    "nanog_peaks = \"../tutorial_data/GSEXXXXXHendrich20161026_Nanog_ESC_peaks.bed\"\n",
    "nanog_bigwig = \"../tutorial_data/GSE71932_Nanog_mESCs_treat_pileup_filter.bw\""
   ]
  },
  {
   "cell_type": "code",
   "execution_count": 10,
   "metadata": {},
   "outputs": [
    {
     "name": "stdout",
     "output_type": "stream",
     "text": [
      "nanog_bigwig ../tutorial_data/GSEXXXXXHendrich20161026_Nanog_ESC_peaks.bed\n",
      "\tmean\n",
      "\tmax\n",
      "\tstd\n",
      "nanog_peaks ../tutorial_data/GSE71932_Nanog_mESCs_treat_pileup_filter.bw\n",
      "\tmean\n",
      "\tmax\n",
      "\tstd\n"
     ]
    },
    {
     "data": {
      "text/html": [
       "<div>\n",
       "<style scoped>\n",
       "    .dataframe tbody tr th:only-of-type {\n",
       "        vertical-align: middle;\n",
       "    }\n",
       "\n",
       "    .dataframe tbody tr th {\n",
       "        vertical-align: top;\n",
       "    }\n",
       "\n",
       "    .dataframe thead th {\n",
       "        text-align: right;\n",
       "    }\n",
       "</style>\n",
       "<table border=\"1\" class=\"dataframe\">\n",
       "  <thead>\n",
       "    <tr style=\"text-align: right;\">\n",
       "      <th></th>\n",
       "      <th>nanog_bigwig_mean</th>\n",
       "      <th>nanog_bigwig_max</th>\n",
       "      <th>nanog_bigwig_std</th>\n",
       "      <th>nanog_peaks_mean</th>\n",
       "      <th>nanog_peaks_max</th>\n",
       "      <th>nanog_peaks_std</th>\n",
       "    </tr>\n",
       "  </thead>\n",
       "  <tbody>\n",
       "    <tr>\n",
       "      <th>0</th>\n",
       "      <td>0.0</td>\n",
       "      <td>0.0</td>\n",
       "      <td>0.0</td>\n",
       "      <td>0.0</td>\n",
       "      <td>0.0</td>\n",
       "      <td>0.0</td>\n",
       "    </tr>\n",
       "    <tr>\n",
       "      <th>1</th>\n",
       "      <td>0.0</td>\n",
       "      <td>0.0</td>\n",
       "      <td>0.0</td>\n",
       "      <td>0.0</td>\n",
       "      <td>0.0</td>\n",
       "      <td>0.0</td>\n",
       "    </tr>\n",
       "    <tr>\n",
       "      <th>2</th>\n",
       "      <td>0.0</td>\n",
       "      <td>0.0</td>\n",
       "      <td>0.0</td>\n",
       "      <td>0.0</td>\n",
       "      <td>0.0</td>\n",
       "      <td>0.0</td>\n",
       "    </tr>\n",
       "    <tr>\n",
       "      <th>3</th>\n",
       "      <td>0.0</td>\n",
       "      <td>0.0</td>\n",
       "      <td>0.0</td>\n",
       "      <td>0.0</td>\n",
       "      <td>0.0</td>\n",
       "      <td>0.0</td>\n",
       "    </tr>\n",
       "    <tr>\n",
       "      <th>4</th>\n",
       "      <td>0.0</td>\n",
       "      <td>0.0</td>\n",
       "      <td>0.0</td>\n",
       "      <td>0.0</td>\n",
       "      <td>0.0</td>\n",
       "      <td>0.0</td>\n",
       "    </tr>\n",
       "    <tr>\n",
       "      <th>...</th>\n",
       "      <td>...</td>\n",
       "      <td>...</td>\n",
       "      <td>...</td>\n",
       "      <td>...</td>\n",
       "      <td>...</td>\n",
       "      <td>...</td>\n",
       "    </tr>\n",
       "    <tr>\n",
       "      <th>26346</th>\n",
       "      <td>0.0</td>\n",
       "      <td>0.0</td>\n",
       "      <td>0.0</td>\n",
       "      <td>0.0</td>\n",
       "      <td>0.0</td>\n",
       "      <td>0.0</td>\n",
       "    </tr>\n",
       "    <tr>\n",
       "      <th>26347</th>\n",
       "      <td>0.0</td>\n",
       "      <td>0.0</td>\n",
       "      <td>0.0</td>\n",
       "      <td>0.10049</td>\n",
       "      <td>6.0</td>\n",
       "      <td>0.586188</td>\n",
       "    </tr>\n",
       "    <tr>\n",
       "      <th>26348</th>\n",
       "      <td>0.0</td>\n",
       "      <td>0.0</td>\n",
       "      <td>0.0</td>\n",
       "      <td>0.092287</td>\n",
       "      <td>6.0</td>\n",
       "      <td>0.501517</td>\n",
       "    </tr>\n",
       "    <tr>\n",
       "      <th>26349</th>\n",
       "      <td>0.0</td>\n",
       "      <td>0.0</td>\n",
       "      <td>0.0</td>\n",
       "      <td>0.147928</td>\n",
       "      <td>3.0</td>\n",
       "      <td>0.489231</td>\n",
       "    </tr>\n",
       "    <tr>\n",
       "      <th>26350</th>\n",
       "      <td>0.0</td>\n",
       "      <td>0.0</td>\n",
       "      <td>0.0</td>\n",
       "      <td>0.0</td>\n",
       "      <td>0.0</td>\n",
       "      <td>0.0</td>\n",
       "    </tr>\n",
       "  </tbody>\n",
       "</table>\n",
       "<p>5488 rows × 6 columns</p>\n",
       "</div>"
      ],
      "text/plain": [
       "      nanog_bigwig_mean nanog_bigwig_max nanog_bigwig_std nanog_peaks_mean  \\\n",
       "0                   0.0              0.0              0.0              0.0   \n",
       "1                   0.0              0.0              0.0              0.0   \n",
       "2                   0.0              0.0              0.0              0.0   \n",
       "3                   0.0              0.0              0.0              0.0   \n",
       "4                   0.0              0.0              0.0              0.0   \n",
       "...                 ...              ...              ...              ...   \n",
       "26346               0.0              0.0              0.0              0.0   \n",
       "26347               0.0              0.0              0.0          0.10049   \n",
       "26348               0.0              0.0              0.0         0.092287   \n",
       "26349               0.0              0.0              0.0         0.147928   \n",
       "26350               0.0              0.0              0.0              0.0   \n",
       "\n",
       "      nanog_peaks_max nanog_peaks_std  \n",
       "0                 0.0             0.0  \n",
       "1                 0.0             0.0  \n",
       "2                 0.0             0.0  \n",
       "3                 0.0             0.0  \n",
       "4                 0.0             0.0  \n",
       "...               ...             ...  \n",
       "26346             0.0             0.0  \n",
       "26347             6.0        0.586188  \n",
       "26348             6.0        0.501517  \n",
       "26349             3.0        0.489231  \n",
       "26350             0.0             0.0  \n",
       "\n",
       "[5488 rows x 6 columns]"
      ]
     },
     "execution_count": 10,
     "metadata": {},
     "output_type": "execute_result"
    }
   ],
   "source": [
    "df = evaluate_tracks_over_cooler_bins(contact_path,\n",
    "                             paths = [nanog_peaks,nanog_bigwig],\n",
    "                             names = ['nanog_bigwig','nanog_peaks'],\n",
    "                             stats_types = ['mean','max','std'],\n",
    "                             allowed_chroms = ['chr1','chr2','chrX'],\n",
    "                                      value_col = 4\n",
    "                            )\n",
    "df"
   ]
  },
  {
   "cell_type": "markdown",
   "metadata": {},
   "source": [
    "## Evaluation over arbitrary regions\n",
    "alternatively, we can evaluate datatracks over arbitrary regions specificed by a bed file. Let's take a look at some regions of active promoters:"
   ]
  },
  {
   "cell_type": "code",
   "execution_count": 11,
   "metadata": {},
   "outputs": [
    {
     "name": "stdout",
     "output_type": "stream",
     "text": [
      "nanog_bigwig ../tutorial_data/GSEXXXXXHendrich20161026_Nanog_ESC_peaks.bed\n",
      "\tmean\n",
      "\tmax\n",
      "\tstd\n",
      "nanog_peaks ../tutorial_data/GSE71932_Nanog_mESCs_treat_pileup_filter.bw\n",
      "\tmean\n",
      "\tmax\n",
      "\tstd\n"
     ]
    },
    {
     "data": {
      "text/html": [
       "<div>\n",
       "<style scoped>\n",
       "    .dataframe tbody tr th:only-of-type {\n",
       "        vertical-align: middle;\n",
       "    }\n",
       "\n",
       "    .dataframe tbody tr th {\n",
       "        vertical-align: top;\n",
       "    }\n",
       "\n",
       "    .dataframe thead th {\n",
       "        text-align: right;\n",
       "    }\n",
       "</style>\n",
       "<table border=\"1\" class=\"dataframe\">\n",
       "  <thead>\n",
       "    <tr style=\"text-align: right;\">\n",
       "      <th></th>\n",
       "      <th>nanog_bigwig_mean</th>\n",
       "      <th>nanog_bigwig_max</th>\n",
       "      <th>nanog_bigwig_std</th>\n",
       "      <th>nanog_peaks_mean</th>\n",
       "      <th>nanog_peaks_max</th>\n",
       "      <th>nanog_peaks_std</th>\n",
       "    </tr>\n",
       "  </thead>\n",
       "  <tbody>\n",
       "    <tr>\n",
       "      <th>0</th>\n",
       "      <td>0.00000</td>\n",
       "      <td>0.0</td>\n",
       "      <td>0.000000</td>\n",
       "      <td>7.225386</td>\n",
       "      <td>37.0</td>\n",
       "      <td>7.559524</td>\n",
       "    </tr>\n",
       "    <tr>\n",
       "      <th>1</th>\n",
       "      <td>0.00000</td>\n",
       "      <td>0.0</td>\n",
       "      <td>0.000000</td>\n",
       "      <td>4.174326</td>\n",
       "      <td>13.0</td>\n",
       "      <td>2.608505</td>\n",
       "    </tr>\n",
       "    <tr>\n",
       "      <th>2</th>\n",
       "      <td>0.00000</td>\n",
       "      <td>0.0</td>\n",
       "      <td>0.000000</td>\n",
       "      <td>3.006454</td>\n",
       "      <td>9.0</td>\n",
       "      <td>1.850368</td>\n",
       "    </tr>\n",
       "    <tr>\n",
       "      <th>3</th>\n",
       "      <td>0.00000</td>\n",
       "      <td>0.0</td>\n",
       "      <td>0.000000</td>\n",
       "      <td>3.074620</td>\n",
       "      <td>8.0</td>\n",
       "      <td>1.882457</td>\n",
       "    </tr>\n",
       "    <tr>\n",
       "      <th>4</th>\n",
       "      <td>7.74675</td>\n",
       "      <td>99.0</td>\n",
       "      <td>26.587894</td>\n",
       "      <td>4.073532</td>\n",
       "      <td>16.0</td>\n",
       "      <td>3.523583</td>\n",
       "    </tr>\n",
       "    <tr>\n",
       "      <th>...</th>\n",
       "      <td>...</td>\n",
       "      <td>...</td>\n",
       "      <td>...</td>\n",
       "      <td>...</td>\n",
       "      <td>...</td>\n",
       "      <td>...</td>\n",
       "    </tr>\n",
       "    <tr>\n",
       "      <th>10208</th>\n",
       "      <td>0.00000</td>\n",
       "      <td>0.0</td>\n",
       "      <td>0.000000</td>\n",
       "      <td>2.200084</td>\n",
       "      <td>6.0</td>\n",
       "      <td>1.574169</td>\n",
       "    </tr>\n",
       "    <tr>\n",
       "      <th>10209</th>\n",
       "      <td>0.00000</td>\n",
       "      <td>0.0</td>\n",
       "      <td>0.000000</td>\n",
       "      <td>1.917015</td>\n",
       "      <td>8.0</td>\n",
       "      <td>1.600306</td>\n",
       "    </tr>\n",
       "    <tr>\n",
       "      <th>10210</th>\n",
       "      <td>0.00000</td>\n",
       "      <td>0.0</td>\n",
       "      <td>0.000000</td>\n",
       "      <td>2.287324</td>\n",
       "      <td>18.0</td>\n",
       "      <td>2.841367</td>\n",
       "    </tr>\n",
       "    <tr>\n",
       "      <th>10211</th>\n",
       "      <td>0.00000</td>\n",
       "      <td>0.0</td>\n",
       "      <td>0.000000</td>\n",
       "      <td>1.609052</td>\n",
       "      <td>5.0</td>\n",
       "      <td>1.164586</td>\n",
       "    </tr>\n",
       "    <tr>\n",
       "      <th>10212</th>\n",
       "      <td>0.00000</td>\n",
       "      <td>0.0</td>\n",
       "      <td>0.000000</td>\n",
       "      <td>2.955551</td>\n",
       "      <td>14.0</td>\n",
       "      <td>3.159173</td>\n",
       "    </tr>\n",
       "  </tbody>\n",
       "</table>\n",
       "<p>10213 rows × 6 columns</p>\n",
       "</div>"
      ],
      "text/plain": [
       "       nanog_bigwig_mean  nanog_bigwig_max  nanog_bigwig_std  \\\n",
       "0                0.00000               0.0          0.000000   \n",
       "1                0.00000               0.0          0.000000   \n",
       "2                0.00000               0.0          0.000000   \n",
       "3                0.00000               0.0          0.000000   \n",
       "4                7.74675              99.0         26.587894   \n",
       "...                  ...               ...               ...   \n",
       "10208            0.00000               0.0          0.000000   \n",
       "10209            0.00000               0.0          0.000000   \n",
       "10210            0.00000               0.0          0.000000   \n",
       "10211            0.00000               0.0          0.000000   \n",
       "10212            0.00000               0.0          0.000000   \n",
       "\n",
       "       nanog_peaks_mean  nanog_peaks_max  nanog_peaks_std  \n",
       "0              7.225386             37.0         7.559524  \n",
       "1              4.174326             13.0         2.608505  \n",
       "2              3.006454              9.0         1.850368  \n",
       "3              3.074620              8.0         1.882457  \n",
       "4              4.073532             16.0         3.523583  \n",
       "...                 ...              ...              ...  \n",
       "10208          2.200084              6.0         1.574169  \n",
       "10209          1.917015              8.0         1.600306  \n",
       "10210          2.287324             18.0         2.841367  \n",
       "10211          1.609052              5.0         1.164586  \n",
       "10212          2.955551             14.0         3.159173  \n",
       "\n",
       "[10213 rows x 6 columns]"
      ]
     },
     "execution_count": 11,
     "metadata": {},
     "output_type": "execute_result"
    }
   ],
   "source": [
    "df = pd.read_table(\"../tutorial_data/active_promoters.csv\")\n",
    "\n",
    "colnames, arr = evaluate_tracks_over_bed_dataframe(df,\n",
    "                             paths = [nanog_peaks,nanog_bigwig],\n",
    "                             names = ['nanog_bigwig','nanog_peaks'],\n",
    "                             stats_types = ['mean','max','std'],\n",
    "                             value_col = 4\n",
    "                            )\n",
    "pd.DataFrame(data = arr, columns = colnames)"
   ]
  },
  {
   "cell_type": "markdown",
   "metadata": {},
   "source": [
    "# Region-Value Pair Datatracks\n",
    "## BED format files\n",
    "One of the most common formats for storing datatracks is in region-value-pair format. That is, on each chromosome we simple detail the regions where the function $f$ takes nonzero values and we specify the value that the function takes in that region. Below is an example of bed file created for a Nanog ChIPseq from naive embryonic stem cells:"
   ]
  },
  {
   "cell_type": "code",
   "execution_count": 12,
   "metadata": {},
   "outputs": [
    {
     "name": "stdout",
     "output_type": "stream",
     "text": [
      "chr1\t3062626\t3063246\tGSEXXXXXHendrich20161026_Nanog_ESC_peak_1\t1091\r\n",
      "chr1\t3445421\t3446366\tGSEXXXXXHendrich20161026_Nanog_ESC_peak_2\t658\r\n",
      "chr1\t3681365\t3681811\tGSEXXXXXHendrich20161026_Nanog_ESC_peak_3\t48\r\n",
      "chr1\t3947036\t3947306\tGSEXXXXXHendrich20161026_Nanog_ESC_peak_4\t55\r\n",
      "chr1\t4150783\t4151277\tGSEXXXXXHendrich20161026_Nanog_ESC_peak_5\t1017\r\n",
      "chr1\t4447859\t4448346\tGSEXXXXXHendrich20161026_Nanog_ESC_peak_6\t329\r\n",
      "chr1\t4611937\t4612228\tGSEXXXXXHendrich20161026_Nanog_ESC_peak_7\t104\r\n",
      "chr1\t4660171\t4660590\tGSEXXXXXHendrich20161026_Nanog_ESC_peak_8\t195\r\n",
      "chr1\t4802495\t4802928\tGSEXXXXXHendrich20161026_Nanog_ESC_peak_9\t424\r\n",
      "chr1\t4819456\t4819933\tGSEXXXXXHendrich20161026_Nanog_ESC_peak_10\t346\r\n"
     ]
    }
   ],
   "source": [
    "!head ../tutorial_data/GSEXXXXXHendrich20161026_Nanog_ESC_peaks.bed"
   ]
  },
  {
   "cell_type": "markdown",
   "metadata": {},
   "source": [
    "We can see that there is chromosome information in collumn zero, then a region start collumn, a region end collumn, some unique IDs for each peak and then a value collumn detailing the size of the function at each peak. Lets go ahead and load this information into a DataTrack_rvp object (the rvp stands for region-value-pairs) using the .from_bed() method:"
   ]
  },
  {
   "cell_type": "code",
   "execution_count": 13,
   "metadata": {},
   "outputs": [
    {
     "data": {
      "text/plain": [
       "<GrapHiC.utils.Datatrack.DataTrack_rvp at 0x7fd6ed15e250>"
      ]
     },
     "execution_count": 13,
     "metadata": {},
     "output_type": "execute_result"
    }
   ],
   "source": [
    "#In order to initialise our Datatrack all we need to do is specify a name. So lets create datatrack object\n",
    "#with name nanog and save it in the variable nanog\n",
    "nanog = dtrvp(\"Nanog\")\n",
    "\n",
    "#Lets now construct the datatrack from the bed file\n",
    "nanog.from_bed(nanog_peaks,\n",
    "               chrom_col = 0, #What collumn is our chromosome information in?\n",
    "               region_cols = (1,2), #What collumns are our region start and region end?\n",
    "               value_col = 4, #What collumns are our values in?\n",
    "               ID_col = 3) #What collumns are our region IDs in?)"
   ]
  },
  {
   "cell_type": "markdown",
   "metadata": {},
   "source": [
    "Note that we could also ignore the ID and value information and simply put all values as a constant:"
   ]
  },
  {
   "cell_type": "code",
   "execution_count": 14,
   "metadata": {},
   "outputs": [],
   "source": [
    "nanog = dtrvp(\"Nanog\").from_bed(nanog_peaks,\n",
    "                                chrom_col = 0, #What collumn is our chromosome information in?\n",
    "                                region_cols = (1,2), #What collumns are our region start and region end?\n",
    "                                value_col = None, #What collumns are our values in?\n",
    "                                value_fill = 1,\n",
    "                                ID_col = None)"
   ]
  },
  {
   "cell_type": "markdown",
   "metadata": {},
   "source": [
    "Now we can take a look at the data which is in our datatrack object:"
   ]
  },
  {
   "cell_type": "code",
   "execution_count": 15,
   "metadata": {},
   "outputs": [
    {
     "data": {
      "text/plain": [
       "array([[  3062626,   3063246],\n",
       "       [  3445421,   3446366],\n",
       "       [  3681365,   3681811],\n",
       "       ...,\n",
       "       [194354695, 194354978],\n",
       "       [194472371, 194472801],\n",
       "       [194890314, 194890780]], dtype=int32)"
      ]
     },
     "execution_count": 15,
     "metadata": {},
     "output_type": "execute_result"
    }
   ],
   "source": [
    "#Lets take a look at our regions first\n",
    "nanog.regions['chr1']"
   ]
  },
  {
   "cell_type": "code",
   "execution_count": 16,
   "metadata": {},
   "outputs": [
    {
     "data": {
      "text/plain": [
       "array([[1.],\n",
       "       [1.],\n",
       "       [1.],\n",
       "       ...,\n",
       "       [1.],\n",
       "       [1.],\n",
       "       [1.]])"
      ]
     },
     "execution_count": 16,
     "metadata": {},
     "output_type": "execute_result"
    }
   ],
   "source": [
    "#Now our values in chromosome 2\n",
    "nanog.values['chr2']"
   ]
  },
  {
   "cell_type": "code",
   "execution_count": 17,
   "metadata": {},
   "outputs": [
    {
     "name": "stdout",
     "output_type": "stream",
     "text": [
      "'nanog' is a datatrack of type: region-value-pairs\n",
      "It has name: Nanog\n"
     ]
    }
   ],
   "source": [
    "#We can also look at the name and type of our datatrack if we forget\n",
    "print(\"'nanog' is a datatrack of type: {}\".format(nanog.dtrack_type))\n",
    "print(\"It has name: {}\".format(nanog.name))"
   ]
  },
  {
   "cell_type": "markdown",
   "metadata": {},
   "source": [
    "## Interrogating the datatrack function\n",
    "Lets now look at functions for investigating region-value-pair functions. "
   ]
  },
  {
   "cell_type": "markdown",
   "metadata": {},
   "source": [
    "### Chromosome Limits\n",
    "One of the first things we might be interested in is what the lengths of our chromosomes actually are! The Datatrack class doesn't assume that the chromosomes have any particular length and leaves these as functions which are free to be input by the user. However, we can estimate the chromosome limits from the maximum and minimum values of the regions we observe on each chromosome:"
   ]
  },
  {
   "cell_type": "code",
   "execution_count": 18,
   "metadata": {},
   "outputs": [
    {
     "data": {
      "text/plain": [
       "{'chr1': [3062626, 194890780],\n",
       " 'chr10': [3302560, 130420449],\n",
       " 'chr11': [3145328, 121964594],\n",
       " 'chr12': [3124034, 119777974],\n",
       " 'chr13': [3712816, 119334473],\n",
       " 'chr14': [7809188, 124446400],\n",
       " 'chr15': [3748080, 103383326],\n",
       " 'chr16': [3531957, 97936334],\n",
       " 'chr17': [3505534, 94866952],\n",
       " 'chr18': [3006850, 90581368],\n",
       " 'chr19': [3532657, 61321440],\n",
       " 'chr2': [3100032, 181773870],\n",
       " 'chr3': [3370820, 159615381],\n",
       " 'chr4': [3368156, 156194661],\n",
       " 'chr5': [3293540, 151645339],\n",
       " 'chr6': [4118617, 149357512],\n",
       " 'chr7': [3507008, 145139802],\n",
       " 'chr8': [3100430, 128538866],\n",
       " 'chr9': [3376306, 123731738],\n",
       " 'chrX': [6279324, 169906459],\n",
       " 'chrY': [4829304, 4829578]}"
      ]
     },
     "execution_count": 18,
     "metadata": {},
     "output_type": "execute_result"
    }
   ],
   "source": [
    "nanog.chrlims_from_regions()\n",
    "nanog.chr_lims"
   ]
  },
  {
   "cell_type": "markdown",
   "metadata": {},
   "source": [
    "### Datatrack function evaluation\n",
    "\n",
    "Now that we have estimated our chromosome limits let's look at interrogating our function. Looking at the function for all values in a given region is simple and just uses the .func method. We just provide a midpoint and a windowsize (or buffer) around that midpoint where we want to evaluate the function:"
   ]
  },
  {
   "cell_type": "code",
   "execution_count": 19,
   "metadata": {},
   "outputs": [
    {
     "data": {
      "text/plain": [
       "array([[0., 0., 0., 0., 0., 0., 0., 0., 0., 0., 0., 0., 0., 0., 0., 0.,\n",
       "        0., 0., 0., 0., 0., 0., 0., 0., 0., 0., 0., 0., 0., 0., 0., 0.,\n",
       "        0., 0., 0., 0., 0., 0., 0., 0., 0., 0., 0., 0., 0., 0., 0., 0.,\n",
       "        0., 0., 0., 0., 0., 0., 0., 0., 0., 0., 0., 0., 0., 0., 0., 0.,\n",
       "        0., 0., 0., 0., 0., 0., 0., 0., 0., 0., 0., 0., 0., 0., 0., 0.,\n",
       "        0., 0., 0., 0., 0., 0., 0., 0., 0., 0., 0., 0., 0., 0., 0., 0.,\n",
       "        0., 0., 0., 0., 0., 0., 0., 0., 0., 0., 0., 0., 0., 0., 0., 0.,\n",
       "        0., 0., 0., 0., 0., 0., 0., 0., 0., 0., 0., 0., 0., 0., 0., 0.,\n",
       "        0., 0., 0., 0., 0., 0., 0., 0., 0., 0., 0., 0., 0., 0., 0., 0.,\n",
       "        0., 0., 0., 0., 0., 0., 0., 0., 0., 0., 0., 0., 0., 0., 0., 0.,\n",
       "        0., 0., 0., 0., 0., 0., 0., 0., 0., 0., 0., 0., 0., 0., 0., 0.,\n",
       "        0., 0., 0., 0., 0., 0., 0., 0., 0., 0., 0., 0., 0., 0., 0., 0.,\n",
       "        0., 0., 0., 0., 0., 0., 0., 0.]])"
      ]
     },
     "execution_count": 19,
     "metadata": {},
     "output_type": "execute_result"
    }
   ],
   "source": [
    "#Here is the start of a peak in our Nanog datatrack on chromosome 1\n",
    "nanog.func('1',[3062586], buffer = 100)"
   ]
  },
  {
   "cell_type": "markdown",
   "metadata": {},
   "source": [
    "Note that we can provide multiple midpoints and we'll get multiple rows in our output array:"
   ]
  },
  {
   "cell_type": "code",
   "execution_count": 20,
   "metadata": {},
   "outputs": [
    {
     "data": {
      "text/plain": [
       "array([[0., 0., 0., 0., 0., 0., 0., 0., 0., 0., 0., 0., 0., 0., 0., 0.,\n",
       "        0., 0., 0., 0.],\n",
       "       [0., 0., 0., 0., 0., 0., 0., 0., 0., 0., 0., 0., 0., 0., 0., 0.,\n",
       "        0., 0., 0., 0.]])"
      ]
     },
     "execution_count": 20,
     "metadata": {},
     "output_type": "execute_result"
    }
   ],
   "source": [
    "#Here is the start of a peak in our Nanog datatrack on chromosome 1\n",
    "nanog.func('1',[3062686,194354695], buffer = 10)"
   ]
  },
  {
   "cell_type": "markdown",
   "metadata": {},
   "source": [
    "This comes in use when we might want to evaluate a function across an entire set of genomic regions. For example active promoters:"
   ]
  },
  {
   "cell_type": "code",
   "execution_count": 21,
   "metadata": {},
   "outputs": [
    {
     "ename": "FileNotFoundError",
     "evalue": "[Errno 2] No such file or directory: 'tutorial_data/active_promoters.csv'",
     "output_type": "error",
     "traceback": [
      "\u001b[0;31m---------------------------------------------------------------------------\u001b[0m",
      "\u001b[0;31mFileNotFoundError\u001b[0m                         Traceback (most recent call last)",
      "\u001b[0;32m<ipython-input-21-0c2f690b8a10>\u001b[0m in \u001b[0;36m<module>\u001b[0;34m\u001b[0m\n\u001b[0;32m----> 1\u001b[0;31m \u001b[0mx\u001b[0m \u001b[0;34m=\u001b[0m \u001b[0mpd\u001b[0m\u001b[0;34m.\u001b[0m\u001b[0mread_table\u001b[0m\u001b[0;34m(\u001b[0m\u001b[0;34m'tutorial_data/active_promoters.csv'\u001b[0m\u001b[0;34m)\u001b[0m\u001b[0;34m\u001b[0m\u001b[0;34m\u001b[0m\u001b[0m\n\u001b[0m\u001b[1;32m      2\u001b[0m x = {k1: np.concatenate([item[None,1:3] for item in list(g1)],\n\u001b[1;32m      3\u001b[0m                                        axis = 0).astype('int32') for k1,g1 in itertools.groupby(sorted(x.values,\n\u001b[1;32m      4\u001b[0m                                                                                                        key = lambda x:x[0]),\n\u001b[1;32m      5\u001b[0m                                                                                                 lambda x: x[0])}\n",
      "\u001b[0;32m~/anaconda3/envs/graphic/lib/python3.7/site-packages/pandas/io/parsers.py\u001b[0m in \u001b[0;36mread_table\u001b[0;34m(filepath_or_buffer, sep, delimiter, header, names, index_col, usecols, squeeze, prefix, mangle_dupe_cols, dtype, engine, converters, true_values, false_values, skipinitialspace, skiprows, skipfooter, nrows, na_values, keep_default_na, na_filter, verbose, skip_blank_lines, parse_dates, infer_datetime_format, keep_date_col, date_parser, dayfirst, cache_dates, iterator, chunksize, compression, thousands, decimal, lineterminator, quotechar, quoting, doublequote, escapechar, comment, encoding, dialect, error_bad_lines, warn_bad_lines, delim_whitespace, low_memory, memory_map, float_precision)\u001b[0m\n\u001b[1;32m    687\u001b[0m     \u001b[0mkwds\u001b[0m\u001b[0;34m.\u001b[0m\u001b[0mupdate\u001b[0m\u001b[0;34m(\u001b[0m\u001b[0mkwds_defaults\u001b[0m\u001b[0;34m)\u001b[0m\u001b[0;34m\u001b[0m\u001b[0;34m\u001b[0m\u001b[0m\n\u001b[1;32m    688\u001b[0m \u001b[0;34m\u001b[0m\u001b[0m\n\u001b[0;32m--> 689\u001b[0;31m     \u001b[0;32mreturn\u001b[0m \u001b[0m_read\u001b[0m\u001b[0;34m(\u001b[0m\u001b[0mfilepath_or_buffer\u001b[0m\u001b[0;34m,\u001b[0m \u001b[0mkwds\u001b[0m\u001b[0;34m)\u001b[0m\u001b[0;34m\u001b[0m\u001b[0;34m\u001b[0m\u001b[0m\n\u001b[0m\u001b[1;32m    690\u001b[0m \u001b[0;34m\u001b[0m\u001b[0m\n\u001b[1;32m    691\u001b[0m \u001b[0;34m\u001b[0m\u001b[0m\n",
      "\u001b[0;32m~/anaconda3/envs/graphic/lib/python3.7/site-packages/pandas/io/parsers.py\u001b[0m in \u001b[0;36m_read\u001b[0;34m(filepath_or_buffer, kwds)\u001b[0m\n\u001b[1;32m    460\u001b[0m \u001b[0;34m\u001b[0m\u001b[0m\n\u001b[1;32m    461\u001b[0m     \u001b[0;31m# Create the parser.\u001b[0m\u001b[0;34m\u001b[0m\u001b[0;34m\u001b[0m\u001b[0;34m\u001b[0m\u001b[0m\n\u001b[0;32m--> 462\u001b[0;31m     \u001b[0mparser\u001b[0m \u001b[0;34m=\u001b[0m \u001b[0mTextFileReader\u001b[0m\u001b[0;34m(\u001b[0m\u001b[0mfilepath_or_buffer\u001b[0m\u001b[0;34m,\u001b[0m \u001b[0;34m**\u001b[0m\u001b[0mkwds\u001b[0m\u001b[0;34m)\u001b[0m\u001b[0;34m\u001b[0m\u001b[0;34m\u001b[0m\u001b[0m\n\u001b[0m\u001b[1;32m    463\u001b[0m \u001b[0;34m\u001b[0m\u001b[0m\n\u001b[1;32m    464\u001b[0m     \u001b[0;32mif\u001b[0m \u001b[0mchunksize\u001b[0m \u001b[0;32mor\u001b[0m \u001b[0miterator\u001b[0m\u001b[0;34m:\u001b[0m\u001b[0;34m\u001b[0m\u001b[0;34m\u001b[0m\u001b[0m\n",
      "\u001b[0;32m~/anaconda3/envs/graphic/lib/python3.7/site-packages/pandas/io/parsers.py\u001b[0m in \u001b[0;36m__init__\u001b[0;34m(self, f, engine, **kwds)\u001b[0m\n\u001b[1;32m    817\u001b[0m             \u001b[0mself\u001b[0m\u001b[0;34m.\u001b[0m\u001b[0moptions\u001b[0m\u001b[0;34m[\u001b[0m\u001b[0;34m\"has_index_names\"\u001b[0m\u001b[0;34m]\u001b[0m \u001b[0;34m=\u001b[0m \u001b[0mkwds\u001b[0m\u001b[0;34m[\u001b[0m\u001b[0;34m\"has_index_names\"\u001b[0m\u001b[0;34m]\u001b[0m\u001b[0;34m\u001b[0m\u001b[0;34m\u001b[0m\u001b[0m\n\u001b[1;32m    818\u001b[0m \u001b[0;34m\u001b[0m\u001b[0m\n\u001b[0;32m--> 819\u001b[0;31m         \u001b[0mself\u001b[0m\u001b[0;34m.\u001b[0m\u001b[0m_engine\u001b[0m \u001b[0;34m=\u001b[0m \u001b[0mself\u001b[0m\u001b[0;34m.\u001b[0m\u001b[0m_make_engine\u001b[0m\u001b[0;34m(\u001b[0m\u001b[0mself\u001b[0m\u001b[0;34m.\u001b[0m\u001b[0mengine\u001b[0m\u001b[0;34m)\u001b[0m\u001b[0;34m\u001b[0m\u001b[0;34m\u001b[0m\u001b[0m\n\u001b[0m\u001b[1;32m    820\u001b[0m \u001b[0;34m\u001b[0m\u001b[0m\n\u001b[1;32m    821\u001b[0m     \u001b[0;32mdef\u001b[0m \u001b[0mclose\u001b[0m\u001b[0;34m(\u001b[0m\u001b[0mself\u001b[0m\u001b[0;34m)\u001b[0m\u001b[0;34m:\u001b[0m\u001b[0;34m\u001b[0m\u001b[0;34m\u001b[0m\u001b[0m\n",
      "\u001b[0;32m~/anaconda3/envs/graphic/lib/python3.7/site-packages/pandas/io/parsers.py\u001b[0m in \u001b[0;36m_make_engine\u001b[0;34m(self, engine)\u001b[0m\n\u001b[1;32m   1048\u001b[0m             )\n\u001b[1;32m   1049\u001b[0m         \u001b[0;31m# error: Too many arguments for \"ParserBase\"\u001b[0m\u001b[0;34m\u001b[0m\u001b[0;34m\u001b[0m\u001b[0;34m\u001b[0m\u001b[0m\n\u001b[0;32m-> 1050\u001b[0;31m         \u001b[0;32mreturn\u001b[0m \u001b[0mmapping\u001b[0m\u001b[0;34m[\u001b[0m\u001b[0mengine\u001b[0m\u001b[0;34m]\u001b[0m\u001b[0;34m(\u001b[0m\u001b[0mself\u001b[0m\u001b[0;34m.\u001b[0m\u001b[0mf\u001b[0m\u001b[0;34m,\u001b[0m \u001b[0;34m**\u001b[0m\u001b[0mself\u001b[0m\u001b[0;34m.\u001b[0m\u001b[0moptions\u001b[0m\u001b[0;34m)\u001b[0m  \u001b[0;31m# type: ignore[call-arg]\u001b[0m\u001b[0;34m\u001b[0m\u001b[0;34m\u001b[0m\u001b[0m\n\u001b[0m\u001b[1;32m   1051\u001b[0m \u001b[0;34m\u001b[0m\u001b[0m\n\u001b[1;32m   1052\u001b[0m     \u001b[0;32mdef\u001b[0m \u001b[0m_failover_to_python\u001b[0m\u001b[0;34m(\u001b[0m\u001b[0mself\u001b[0m\u001b[0;34m)\u001b[0m\u001b[0;34m:\u001b[0m\u001b[0;34m\u001b[0m\u001b[0;34m\u001b[0m\u001b[0m\n",
      "\u001b[0;32m~/anaconda3/envs/graphic/lib/python3.7/site-packages/pandas/io/parsers.py\u001b[0m in \u001b[0;36m__init__\u001b[0;34m(self, src, **kwds)\u001b[0m\n\u001b[1;32m   1865\u001b[0m \u001b[0;34m\u001b[0m\u001b[0m\n\u001b[1;32m   1866\u001b[0m         \u001b[0;31m# open handles\u001b[0m\u001b[0;34m\u001b[0m\u001b[0;34m\u001b[0m\u001b[0;34m\u001b[0m\u001b[0m\n\u001b[0;32m-> 1867\u001b[0;31m         \u001b[0mself\u001b[0m\u001b[0;34m.\u001b[0m\u001b[0m_open_handles\u001b[0m\u001b[0;34m(\u001b[0m\u001b[0msrc\u001b[0m\u001b[0;34m,\u001b[0m \u001b[0mkwds\u001b[0m\u001b[0;34m)\u001b[0m\u001b[0;34m\u001b[0m\u001b[0;34m\u001b[0m\u001b[0m\n\u001b[0m\u001b[1;32m   1868\u001b[0m         \u001b[0;32massert\u001b[0m \u001b[0mself\u001b[0m\u001b[0;34m.\u001b[0m\u001b[0mhandles\u001b[0m \u001b[0;32mis\u001b[0m \u001b[0;32mnot\u001b[0m \u001b[0;32mNone\u001b[0m\u001b[0;34m\u001b[0m\u001b[0;34m\u001b[0m\u001b[0m\n\u001b[1;32m   1869\u001b[0m         \u001b[0;32mfor\u001b[0m \u001b[0mkey\u001b[0m \u001b[0;32min\u001b[0m \u001b[0;34m(\u001b[0m\u001b[0;34m\"storage_options\"\u001b[0m\u001b[0;34m,\u001b[0m \u001b[0;34m\"encoding\"\u001b[0m\u001b[0;34m,\u001b[0m \u001b[0;34m\"memory_map\"\u001b[0m\u001b[0;34m,\u001b[0m \u001b[0;34m\"compression\"\u001b[0m\u001b[0;34m)\u001b[0m\u001b[0;34m:\u001b[0m\u001b[0;34m\u001b[0m\u001b[0;34m\u001b[0m\u001b[0m\n",
      "\u001b[0;32m~/anaconda3/envs/graphic/lib/python3.7/site-packages/pandas/io/parsers.py\u001b[0m in \u001b[0;36m_open_handles\u001b[0;34m(self, src, kwds)\u001b[0m\n\u001b[1;32m   1366\u001b[0m             \u001b[0mcompression\u001b[0m\u001b[0;34m=\u001b[0m\u001b[0mkwds\u001b[0m\u001b[0;34m.\u001b[0m\u001b[0mget\u001b[0m\u001b[0;34m(\u001b[0m\u001b[0;34m\"compression\"\u001b[0m\u001b[0;34m,\u001b[0m \u001b[0;32mNone\u001b[0m\u001b[0;34m)\u001b[0m\u001b[0;34m,\u001b[0m\u001b[0;34m\u001b[0m\u001b[0;34m\u001b[0m\u001b[0m\n\u001b[1;32m   1367\u001b[0m             \u001b[0mmemory_map\u001b[0m\u001b[0;34m=\u001b[0m\u001b[0mkwds\u001b[0m\u001b[0;34m.\u001b[0m\u001b[0mget\u001b[0m\u001b[0;34m(\u001b[0m\u001b[0;34m\"memory_map\"\u001b[0m\u001b[0;34m,\u001b[0m \u001b[0;32mFalse\u001b[0m\u001b[0;34m)\u001b[0m\u001b[0;34m,\u001b[0m\u001b[0;34m\u001b[0m\u001b[0;34m\u001b[0m\u001b[0m\n\u001b[0;32m-> 1368\u001b[0;31m             \u001b[0mstorage_options\u001b[0m\u001b[0;34m=\u001b[0m\u001b[0mkwds\u001b[0m\u001b[0;34m.\u001b[0m\u001b[0mget\u001b[0m\u001b[0;34m(\u001b[0m\u001b[0;34m\"storage_options\"\u001b[0m\u001b[0;34m,\u001b[0m \u001b[0;32mNone\u001b[0m\u001b[0;34m)\u001b[0m\u001b[0;34m,\u001b[0m\u001b[0;34m\u001b[0m\u001b[0;34m\u001b[0m\u001b[0m\n\u001b[0m\u001b[1;32m   1369\u001b[0m         )\n\u001b[1;32m   1370\u001b[0m \u001b[0;34m\u001b[0m\u001b[0m\n",
      "\u001b[0;32m~/anaconda3/envs/graphic/lib/python3.7/site-packages/pandas/io/common.py\u001b[0m in \u001b[0;36mget_handle\u001b[0;34m(path_or_buf, mode, encoding, compression, memory_map, is_text, errors, storage_options)\u001b[0m\n\u001b[1;32m    645\u001b[0m                 \u001b[0mencoding\u001b[0m\u001b[0;34m=\u001b[0m\u001b[0mioargs\u001b[0m\u001b[0;34m.\u001b[0m\u001b[0mencoding\u001b[0m\u001b[0;34m,\u001b[0m\u001b[0;34m\u001b[0m\u001b[0;34m\u001b[0m\u001b[0m\n\u001b[1;32m    646\u001b[0m                 \u001b[0merrors\u001b[0m\u001b[0;34m=\u001b[0m\u001b[0merrors\u001b[0m\u001b[0;34m,\u001b[0m\u001b[0;34m\u001b[0m\u001b[0;34m\u001b[0m\u001b[0m\n\u001b[0;32m--> 647\u001b[0;31m                 \u001b[0mnewline\u001b[0m\u001b[0;34m=\u001b[0m\u001b[0;34m\"\"\u001b[0m\u001b[0;34m,\u001b[0m\u001b[0;34m\u001b[0m\u001b[0;34m\u001b[0m\u001b[0m\n\u001b[0m\u001b[1;32m    648\u001b[0m             )\n\u001b[1;32m    649\u001b[0m         \u001b[0;32melse\u001b[0m\u001b[0;34m:\u001b[0m\u001b[0;34m\u001b[0m\u001b[0;34m\u001b[0m\u001b[0m\n",
      "\u001b[0;31mFileNotFoundError\u001b[0m: [Errno 2] No such file or directory: 'tutorial_data/active_promoters.csv'"
     ]
    }
   ],
   "source": [
    "x = pd.read_table('tutorial_data/active_promoters.csv')\n",
    "x = {k1: np.concatenate([item[None,1:3] for item in list(g1)],\n",
    "                                       axis = 0).astype('int32') for k1,g1 in itertools.groupby(sorted(x.values,\n",
    "                                                                                                       key = lambda x:x[0]),\n",
    "                                                                                                lambda x: x[0])}\n",
    "x['chr1']"
   ]
  },
  {
   "cell_type": "markdown",
   "metadata": {},
   "source": [
    "These are the active promoter regions on chromosome 1 in naive ES cells. Lets look at nanog signal within +/-1kb of the active promoter centres on chromosome 1:"
   ]
  },
  {
   "cell_type": "code",
   "execution_count": null,
   "metadata": {},
   "outputs": [],
   "source": [
    "buffer = 1000\n",
    "promoter_nanog_signal = np.zeros(2*buffer)\n",
    "numproms = 0\n",
    "for chrom in nanog.chromosomes:\n",
    "    try:\n",
    "        mids = np.mean(x[chrom], axis = 1).astype('int')\n",
    "    except:\n",
    "        print(\"couldn't find active promoter info for chromosome {}\".format(chrom))\n",
    "        continue\n",
    "        \n",
    "    promoter_nanog_signal += np.sum(nanog.func(chrom, mids, buffer = buffer), axis = 0)\n",
    "    numproms += len(mids)\n",
    "\n",
    "promoter_nanog_signal /= numproms"
   ]
  },
  {
   "cell_type": "code",
   "execution_count": null,
   "metadata": {},
   "outputs": [],
   "source": [
    "import matplotlib.pyplot as plt\n",
    "\n",
    "fig = plt.figure(figsize = (12,10))\n",
    "plot = plt.plot(np.arange(len(promoter_nanog_signal)), promoter_nanog_signal)\n",
    "xticks = plt.xticks([0,500,1000,1500,2000], [-1000, -500, 0, 500,1000])\n",
    "plt.tick_params(labelsize = 15)\n",
    "plt.ylabel(\"Average Signal\", size = 20)\n",
    "plt.xlabel(\"Distance from active promoter centre\", size = 20)\n",
    "plt.title(\"Active promoter nanog signal\\nNaive mESCs\", size = 20)"
   ]
  },
  {
   "cell_type": "markdown",
   "metadata": {},
   "source": [
    "We might also just be interested in looking at coverage over certain regions. We can therefore replace the datatrack values with constants if we want to when evaluating the function:"
   ]
  },
  {
   "cell_type": "code",
   "execution_count": null,
   "metadata": {},
   "outputs": [],
   "source": [
    "buffer = 1000\n",
    "promoter_nanog_signal = np.zeros(2*buffer)\n",
    "numproms = 0\n",
    "for chrom in nanog.chromosomes:\n",
    "    try:\n",
    "        mids = np.mean(x[chrom], axis = 1).astype('int')\n",
    "    except:\n",
    "        print(\"couldn't find active promoter info for chromosome {}\".format(chrom))\n",
    "        continue\n",
    "        \n",
    "    promoter_nanog_signal += np.sum(nanog.func(chrom, mids, buffer = buffer, use_constant_val = 1), axis = 0)\n",
    "    numproms += len(mids)\n",
    "\n",
    "promoter_nanog_signal /= numproms\n",
    "fig = plt.figure(figsize = (12,10))\n",
    "plot = plt.plot(np.arange(len(promoter_nanog_signal)), promoter_nanog_signal)\n",
    "xticks = plt.xticks([0,500,1000,1500,2000], [-1000, -500, 0, 500,1000])\n",
    "plt.tick_params(labelsize = 15)\n",
    "plt.ylabel(\"Average Coverage\", size = 20)\n",
    "plt.xlabel(\"Distance from active promoter centre\", size = 20)\n",
    "plt.title(\"Chromosome 1 active promoter nanog signal\\nNaive mESCs\", size = 20)"
   ]
  },
  {
   "cell_type": "markdown",
   "metadata": {},
   "source": [
    "### Raw data within an interval \n",
    "We might instead want to get the actual raw region-value-pair information which overlaps with a region:"
   ]
  },
  {
   "cell_type": "code",
   "execution_count": null,
   "metadata": {},
   "outputs": [],
   "source": [
    "nanog.data_in_interval('chr1', [3062586, 3062686])"
   ]
  },
  {
   "cell_type": "markdown",
   "metadata": {},
   "source": [
    "### Binning Data within an interval\n",
    "One more thing we might like to do is bin all of our information within a given region. For example, we might want to bin the entirety of chromosome 19 at a bin-size of 1000000 basepairs per bin and we're interested in the average Nanog signal per basepair in each bin:\n",
    "\n",
    "#### mean per-basepair signal"
   ]
  },
  {
   "cell_type": "code",
   "execution_count": null,
   "metadata": {},
   "outputs": [],
   "source": [
    "nanog.bin_single_interval('chr19',\n",
    "                          int(1e6),\n",
    "                          interval = nanog.chr_lims['chr19'],\n",
    "                          stats_type = 'mean')[1]"
   ]
  },
  {
   "cell_type": "markdown",
   "metadata": {},
   "source": [
    "We could also look at the coverage (in basepairs) within each bin:\n",
    "\n",
    "#### Coverage"
   ]
  },
  {
   "cell_type": "code",
   "execution_count": null,
   "metadata": {},
   "outputs": [],
   "source": [
    "nanog.bin_single_interval('chr19',\n",
    "                          int(1e6),\n",
    "                          interval = nanog.chr_lims['chr19'],\n",
    "                          stats_type = 'coverage')[1]"
   ]
  },
  {
   "cell_type": "markdown",
   "metadata": {},
   "source": [
    "We may also be interested in the mean signal within basepairs where we observe any signal at all:\n",
    "\n",
    "#### Mean per-region signal"
   ]
  },
  {
   "cell_type": "code",
   "execution_count": null,
   "metadata": {},
   "outputs": [],
   "source": [
    "nanog.bin_single_interval('chr19',\n",
    "                          int(1e6),\n",
    "                          interval = nanog.chr_lims['chr19'],\n",
    "                          stats_type = 'per_region_mean')[1]"
   ]
  },
  {
   "cell_type": "markdown",
   "metadata": {},
   "source": [
    "Finally we might be interested in the sum of all basepair signals in our data over each bin\n",
    "#### Sum of all signals"
   ]
  },
  {
   "cell_type": "code",
   "execution_count": null,
   "metadata": {},
   "outputs": [],
   "source": [
    "nanog.bin_single_interval('chr19',\n",
    "                          int(1e6),\n",
    "                          interval = nanog.chr_lims['chr19'],\n",
    "                          stats_type = 'sum')[1]"
   ]
  },
  {
   "cell_type": "markdown",
   "metadata": {},
   "source": [
    "## Statistics over an interval\n",
    "We can also just input random intervals and get statistics across these intervals. Here we can use the stats function to pass an interval as well as a statistic of interest (stats_type) for regions within this interval. As with the func method we can also access multiple intervals at once:"
   ]
  },
  {
   "cell_type": "markdown",
   "metadata": {},
   "source": [
    "### Coverage"
   ]
  },
  {
   "cell_type": "code",
   "execution_count": null,
   "metadata": {},
   "outputs": [],
   "source": [
    "nanog.stats('chr1', [[0,1e7],[1e7,2e7]], stats_type= 'coverage')"
   ]
  },
  {
   "cell_type": "markdown",
   "metadata": {},
   "source": [
    "### Maximum value"
   ]
  },
  {
   "cell_type": "code",
   "execution_count": null,
   "metadata": {},
   "outputs": [],
   "source": [
    "nanog.stats('chr1', [[0,1e7],[1e7,2e7]], stats_type= 'max')"
   ]
  },
  {
   "cell_type": "markdown",
   "metadata": {},
   "source": [
    "### Minimum value"
   ]
  },
  {
   "cell_type": "code",
   "execution_count": null,
   "metadata": {},
   "outputs": [],
   "source": [
    "nanog.stats('chr1', [[0,1e7],[1e7,2e7]], stats_type= 'min')"
   ]
  },
  {
   "cell_type": "markdown",
   "metadata": {},
   "source": [
    "### Minimum value in regions with coverage"
   ]
  },
  {
   "cell_type": "code",
   "execution_count": null,
   "metadata": {},
   "outputs": [],
   "source": [
    "nanog.stats('chr1', [[0,1e7],[1e7,2e7]], stats_type= 'per_region_min')"
   ]
  },
  {
   "cell_type": "markdown",
   "metadata": {},
   "source": [
    "### Standard deviation of values"
   ]
  },
  {
   "cell_type": "code",
   "execution_count": null,
   "metadata": {},
   "outputs": [],
   "source": [
    "nanog.stats('chr1', [[0,1e7],[1e7,2e7]], stats_type= 'std')"
   ]
  },
  {
   "cell_type": "markdown",
   "metadata": {},
   "source": [
    "### Standard deviation of values in regions with coverage"
   ]
  },
  {
   "cell_type": "code",
   "execution_count": null,
   "metadata": {},
   "outputs": [],
   "source": [
    "nanog.stats('chr1', [[0,1e7],[1e7,2e7]], stats_type= 'per_region_std')"
   ]
  },
  {
   "cell_type": "markdown",
   "metadata": {},
   "source": [
    "### Mean value"
   ]
  },
  {
   "cell_type": "code",
   "execution_count": null,
   "metadata": {},
   "outputs": [],
   "source": [
    "nanog.stats('chr1', [[0,1e7],[1e7,2e7]], stats_type= 'mean')"
   ]
  },
  {
   "cell_type": "markdown",
   "metadata": {},
   "source": [
    "### Mean value in regions with coverage"
   ]
  },
  {
   "cell_type": "code",
   "execution_count": null,
   "metadata": {},
   "outputs": [],
   "source": [
    "nanog.stats('chr1', [[0,1e7],[1e7,2e7]], stats_type= 'per_region_mean')"
   ]
  },
  {
   "cell_type": "markdown",
   "metadata": {},
   "source": [
    "### Sum of all values"
   ]
  },
  {
   "cell_type": "code",
   "execution_count": null,
   "metadata": {},
   "outputs": [],
   "source": [
    "nanog.stats('chr1', [[0,1e7],[1e7,2e7]], stats_type= 'sum')"
   ]
  },
  {
   "cell_type": "markdown",
   "metadata": {},
   "source": [
    "# BigWig files\n",
    "\n",
    "BigWig data isn't actually included in the tutorial data since it is a"
   ]
  },
  {
   "cell_type": "code",
   "execution_count": null,
   "metadata": {},
   "outputs": [],
   "source": [
    "nanog = dtbw(\"Nanog\").from_bw(nanog_bigwig)"
   ]
  },
  {
   "cell_type": "code",
   "execution_count": null,
   "metadata": {},
   "outputs": [],
   "source": [
    "nanog.chr_lims"
   ]
  },
  {
   "cell_type": "code",
   "execution_count": null,
   "metadata": {},
   "outputs": [],
   "source": [
    "nanog.header"
   ]
  },
  {
   "cell_type": "code",
   "execution_count": null,
   "metadata": {},
   "outputs": [],
   "source": [
    "#Here is the start of a peak in our Nanog datatrack on chromosome 1\n",
    "nanog.func('chr1',[3062586], buffer = 100)"
   ]
  },
  {
   "cell_type": "markdown",
   "metadata": {},
   "source": [
    "Lets reload our promoter info and see if we can form similar plots as above when we used the BED files:"
   ]
  },
  {
   "cell_type": "code",
   "execution_count": null,
   "metadata": {},
   "outputs": [],
   "source": [
    "buffer = 1000\n",
    "promoter_nanog_signal = np.zeros(100)\n",
    "numproms = 0\n",
    "for chrom in nanog.chromosomes:\n",
    "    print(chrom)\n",
    "    try:\n",
    "        mids = np.mean(x[chrom], axis = 1).astype('int')\n",
    "    except:\n",
    "        print(\"couldn't find active promoter info for chromosome {}\".format(chrom))\n",
    "        continue\n",
    "        \n",
    "    promoter_nanog_signal += np.sum(nanog.func(chrom, mids, buffer = buffer, binSize = 10), axis = 0)\n",
    "    numproms += len(mids)\n",
    "\n",
    "promoter_nanog_signal /= numproms"
   ]
  },
  {
   "cell_type": "code",
   "execution_count": null,
   "metadata": {},
   "outputs": [],
   "source": [
    "import matplotlib.pyplot as plt\n",
    "fig = plt.figure(figsize = (12,10))\n",
    "plot = plt.plot(np.arange(len(promoter_nanog_signal)), promoter_nanog_signal)\n",
    "xticks = plt.xticks([0,50,100,150,200], [-1000, -500, 0, 500,1000])\n",
    "plt.tick_params(labelsize = 15)\n",
    "plt.ylabel(\"Average Signal\", size = 20)\n",
    "plt.xlabel(\"Distance from active promoter centre\", size = 20)\n",
    "plt.title(\"Active promoter nanog signal\\nNaive mESCs\", size = 20)"
   ]
  },
  {
   "cell_type": "code",
   "execution_count": null,
   "metadata": {},
   "outputs": [],
   "source": []
  },
  {
   "cell_type": "code",
   "execution_count": null,
   "metadata": {},
   "outputs": [],
   "source": []
  }
 ],
 "metadata": {
  "kernelspec": {
   "display_name": "graphic",
   "language": "python",
   "name": "graphic"
  },
  "language_info": {
   "codemirror_mode": {
    "name": "ipython",
    "version": 3
   },
   "file_extension": ".py",
   "mimetype": "text/x-python",
   "name": "python",
   "nbconvert_exporter": "python",
   "pygments_lexer": "ipython3",
   "version": "3.7.10"
  }
 },
 "nbformat": 4,
 "nbformat_minor": 4
}
