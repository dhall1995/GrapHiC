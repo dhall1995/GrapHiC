{
 "cells": [
  {
   "cell_type": "code",
   "execution_count": 1,
   "id": "jewish-basics",
   "metadata": {},
   "outputs": [],
   "source": [
    "import pandas as pd\n",
    "import numpy as np\n",
    "import glob\n",
    "import cooler\n",
    "import itertools\n",
    "import os\n",
    "from src.Datatrack_creation import evaluate_bigwig_over_cooler_bins as bw_clr_eval"
   ]
  },
  {
   "cell_type": "code",
   "execution_count": 2,
   "id": "identical-tooth",
   "metadata": {},
   "outputs": [],
   "source": [
    "coolerpath ={'WT':'/disk2/dh486/cooler_files/WT/manually_downsampled/KR/KR_downsampled_WT_merged_10000.cool',\n",
    "             'KO':'/disk2/dh486/cooler_files/KO/KR/KR_KO_merged_10000.cool'\n",
    "            }\n",
    "bwpaths = {'CTCF_WT':'/disk2/dh486/bigwigs/GSEXXXXXLaue_CTCF_dipmESC_treat_pileup_filter_norm.bw'}"
   ]
  },
  {
   "cell_type": "code",
   "execution_count": 3,
   "id": "loaded-portland",
   "metadata": {},
   "outputs": [],
   "source": [
    "#This step could take a while\n",
    "bw_eval = bw_clr_eval(coolerpath['WT'],\n",
    "               bwpaths = [bwpaths['CTCF_WT']],\n",
    "               stats_types = ['max','std'])\n"
   ]
  },
  {
   "cell_type": "code",
   "execution_count": 4,
   "id": "legendary-arbor",
   "metadata": {},
   "outputs": [
    {
     "data": {
      "text/html": [
       "<div>\n",
       "<style scoped>\n",
       "    .dataframe tbody tr th:only-of-type {\n",
       "        vertical-align: middle;\n",
       "    }\n",
       "\n",
       "    .dataframe tbody tr th {\n",
       "        vertical-align: top;\n",
       "    }\n",
       "\n",
       "    .dataframe thead th {\n",
       "        text-align: right;\n",
       "    }\n",
       "</style>\n",
       "<table border=\"1\" class=\"dataframe\">\n",
       "  <thead>\n",
       "    <tr style=\"text-align: right;\">\n",
       "      <th></th>\n",
       "      <th>GSEXXXXXLaue_CTCF_dipmESC_treat_pileup_filter_norm_max</th>\n",
       "      <th>GSEXXXXXLaue_CTCF_dipmESC_treat_pileup_filter_norm_std</th>\n",
       "    </tr>\n",
       "  </thead>\n",
       "  <tbody>\n",
       "    <tr>\n",
       "      <th>10000</th>\n",
       "      <td>0.0873246</td>\n",
       "      <td>0.0196689</td>\n",
       "    </tr>\n",
       "    <tr>\n",
       "      <th>10001</th>\n",
       "      <td>0.152818</td>\n",
       "      <td>0.0257253</td>\n",
       "    </tr>\n",
       "    <tr>\n",
       "      <th>10002</th>\n",
       "      <td>0.109156</td>\n",
       "      <td>0.0227507</td>\n",
       "    </tr>\n",
       "    <tr>\n",
       "      <th>10003</th>\n",
       "      <td>0.0873246</td>\n",
       "      <td>0.02159</td>\n",
       "    </tr>\n",
       "    <tr>\n",
       "      <th>10004</th>\n",
       "      <td>0.130987</td>\n",
       "      <td>0.0220854</td>\n",
       "    </tr>\n",
       "    <tr>\n",
       "      <th>...</th>\n",
       "      <td>...</td>\n",
       "      <td>...</td>\n",
       "    </tr>\n",
       "    <tr>\n",
       "      <th>14995</th>\n",
       "      <td>0.109156</td>\n",
       "      <td>0.0240831</td>\n",
       "    </tr>\n",
       "    <tr>\n",
       "      <th>14996</th>\n",
       "      <td>0.109156</td>\n",
       "      <td>0.0217669</td>\n",
       "    </tr>\n",
       "    <tr>\n",
       "      <th>14997</th>\n",
       "      <td>0.130987</td>\n",
       "      <td>0.0263916</td>\n",
       "    </tr>\n",
       "    <tr>\n",
       "      <th>14998</th>\n",
       "      <td>0.109156</td>\n",
       "      <td>0.0199108</td>\n",
       "    </tr>\n",
       "    <tr>\n",
       "      <th>14999</th>\n",
       "      <td>0.130987</td>\n",
       "      <td>0.0261796</td>\n",
       "    </tr>\n",
       "  </tbody>\n",
       "</table>\n",
       "<p>5000 rows × 2 columns</p>\n",
       "</div>"
      ],
      "text/plain": [
       "      GSEXXXXXLaue_CTCF_dipmESC_treat_pileup_filter_norm_max  \\\n",
       "10000                                          0.0873246       \n",
       "10001                                           0.152818       \n",
       "10002                                           0.109156       \n",
       "10003                                          0.0873246       \n",
       "10004                                           0.130987       \n",
       "...                                                  ...       \n",
       "14995                                           0.109156       \n",
       "14996                                           0.109156       \n",
       "14997                                           0.130987       \n",
       "14998                                           0.109156       \n",
       "14999                                           0.130987       \n",
       "\n",
       "      GSEXXXXXLaue_CTCF_dipmESC_treat_pileup_filter_norm_std  \n",
       "10000                                          0.0196689      \n",
       "10001                                          0.0257253      \n",
       "10002                                          0.0227507      \n",
       "10003                                            0.02159      \n",
       "10004                                          0.0220854      \n",
       "...                                                  ...      \n",
       "14995                                          0.0240831      \n",
       "14996                                          0.0217669      \n",
       "14997                                          0.0263916      \n",
       "14998                                          0.0199108      \n",
       "14999                                          0.0261796      \n",
       "\n",
       "[5000 rows x 2 columns]"
      ]
     },
     "execution_count": 4,
     "metadata": {},
     "output_type": "execute_result"
    }
   ],
   "source": [
    "bw_eval[10000:15000]"
   ]
  },
  {
   "cell_type": "code",
   "execution_count": null,
   "id": "moderate-elder",
   "metadata": {},
   "outputs": [],
   "source": []
  }
 ],
 "metadata": {
  "kernelspec": {
   "display_name": "hicexplorer",
   "language": "python",
   "name": "hicexplorer"
  },
  "language_info": {
   "codemirror_mode": {
    "name": "ipython",
    "version": 3
   },
   "file_extension": ".py",
   "mimetype": "text/x-python",
   "name": "python",
   "nbconvert_exporter": "python",
   "pygments_lexer": "ipython3",
   "version": "3.7.8"
  }
 },
 "nbformat": 4,
 "nbformat_minor": 5
}
