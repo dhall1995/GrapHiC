{
 "cells": [
  {
   "cell_type": "markdown",
   "metadata": {},
   "source": [
    "# Utilities and Functions for Manipulating single-cell/ population Hi-C or ChIPseq data\n",
    "\n",
    "So far all the functions I have been using have been written into the utils folder in this directory. Where possible, I have written up some utility functions in cython but other than that there are also python utils which you should feel free to add to. In general, all we're really doing is binning/ re-binning data. Getting the data into pytorch useable format is probably the hardest point here so i'll also dedicate some time to that. \n",
    "\n",
    "First though, modules..."
   ]
  },
  {
   "cell_type": "code",
   "execution_count": 3,
   "metadata": {},
   "outputs": [],
   "source": [
    "import utils.processing as p\n",
    "import utils.io as io\n",
    "import utils.misc as misc\n",
    "#from utils.GDC import GDC\n",
    "\n",
    "from scipy.sparse import coo_matrix\n",
    "from preprocessing.pop_HiC.formats.npz import load_npz_contacts as lnc\n",
    "import torch\n",
    "\n",
    "from sklearn.preprocessing import MinMaxScaler as MMS\n",
    "\n",
    "import numpy as np\n",
    "from numpy import int32\n",
    "import pandas as pd\n",
    "import h5py as h\n",
    "import networkx as nx\n",
    "\n",
    "import matplotlib.pyplot as plt\n",
    "import matplotlib as mpl\n",
    "import matplotlib.cm as cm\n",
    "from matplotlib import colors as mplc\n",
    "plt.style.use('seaborn-colorblind')\n",
    "mpl.rcParams['figure.figsize'] = (10,10)"
   ]
  },
  {
   "cell_type": "code",
   "execution_count": 5,
   "metadata": {},
   "outputs": [
    {
     "ename": "IndexError",
     "evalue": "Out of bounds on buffer access (axis 0)",
     "output_type": "error",
     "traceback": [
      "\u001b[0;31m---------------------------------------------------------------------------\u001b[0m",
      "\u001b[0;31mIndexError\u001b[0m                                Traceback (most recent call last)",
      "\u001b[0;32m<ipython-input-5-a8072c3ea495>\u001b[0m in \u001b[0;36m<module>\u001b[0;34m()\u001b[0m\n\u001b[1;32m     21\u001b[0m IDdf, tvals = p.get_binned_feature(\"data/SLX-7671_haploid/raw/totalRNA.npz\",\n\u001b[1;32m     22\u001b[0m                                     \u001b[0mchr_lims\u001b[0m\u001b[0;34m,\u001b[0m\u001b[0;34m\u001b[0m\u001b[0;34m\u001b[0m\u001b[0m\n\u001b[0;32m---> 23\u001b[0;31m                                     5e4)\n\u001b[0m\u001b[1;32m     24\u001b[0m \u001b[0;34m\u001b[0m\u001b[0m\n\u001b[1;32m     25\u001b[0m c_vals = p.get_binned_feature(\"/mnt/delphi/dh486/PhD/Data/AB_Compartment/c_score_regions_0hr.npz\",\n",
      "\u001b[0;32m/mnt/delphi/dh486/PhD/GNN_Work/utils/processing.py\u001b[0m in \u001b[0;36mget_binned_feature\u001b[0;34m(file, chrlims, binSize, input_params, ID)\u001b[0m\n\u001b[1;32m    371\u001b[0m                                       \u001b[0mchrlims\u001b[0m\u001b[0;34m,\u001b[0m\u001b[0;34m\u001b[0m\u001b[0;34m\u001b[0m\u001b[0m\n\u001b[1;32m    372\u001b[0m                                       \u001b[0mbinSize\u001b[0m \u001b[0;34m=\u001b[0m \u001b[0mbinSize\u001b[0m\u001b[0;34m,\u001b[0m\u001b[0;34m\u001b[0m\u001b[0;34m\u001b[0m\u001b[0m\n\u001b[0;32m--> 373\u001b[0;31m                                       \u001b[0minput_params\u001b[0m \u001b[0;34m=\u001b[0m \u001b[0minput_params\u001b[0m\u001b[0;34m\u001b[0m\u001b[0;34m\u001b[0m\u001b[0m\n\u001b[0m\u001b[1;32m    374\u001b[0m                                      )\n\u001b[1;32m    375\u001b[0m         \u001b[0;32mreturn\u001b[0m \u001b[0mIDdf\u001b[0m\u001b[0;34m,\u001b[0m \u001b[0mtvals\u001b[0m\u001b[0;34m\u001b[0m\u001b[0;34m\u001b[0m\u001b[0m\n",
      "\u001b[0;32m/mnt/delphi/dh486/PhD/GNN_Work/utils/io.py\u001b[0m in \u001b[0;36mbinDatatrackIDs\u001b[0;34m(dataTrack_path, chr_lims, void_path, normby, binSize, input_params)\u001b[0m\n\u001b[1;32m    536\u001b[0m                                                    \u001b[0mID\u001b[0m \u001b[0;34m=\u001b[0m \u001b[0mIDs\u001b[0m\u001b[0;34m,\u001b[0m\u001b[0;34m\u001b[0m\u001b[0;34m\u001b[0m\u001b[0m\n\u001b[1;32m    537\u001b[0m                                                    \u001b[0mbinSize\u001b[0m \u001b[0;34m=\u001b[0m \u001b[0mbinSize\u001b[0m\u001b[0;34m,\u001b[0m\u001b[0;34m\u001b[0m\u001b[0;34m\u001b[0m\u001b[0m\n\u001b[0;32m--> 538\u001b[0;31m                                                    \u001b[0mnorm_value_by_region\u001b[0m \u001b[0;34m=\u001b[0m \u001b[0mmyparams\u001b[0m\u001b[0;34m[\u001b[0m\u001b[0;34m'norm_value_by_region'\u001b[0m\u001b[0;34m]\u001b[0m\u001b[0;34m\u001b[0m\u001b[0;34m\u001b[0m\u001b[0m\n\u001b[0m\u001b[1;32m    539\u001b[0m                                                   )\n\u001b[1;32m    540\u001b[0m     \u001b[0mvals\u001b[0m \u001b[0;34m=\u001b[0m \u001b[0;34m[\u001b[0m\u001b[0mvals_dict\u001b[0m\u001b[0;34m[\u001b[0m\u001b[0mkey\u001b[0m\u001b[0;34m]\u001b[0m \u001b[0;32mfor\u001b[0m \u001b[0mkey\u001b[0m \u001b[0;32min\u001b[0m \u001b[0mchromosomes\u001b[0m\u001b[0;34m]\u001b[0m\u001b[0;34m\u001b[0m\u001b[0;34m\u001b[0m\u001b[0m\n",
      "\u001b[0;32m/mnt/delphi/dh486/PhD/GNN_Work/utils/io.py\u001b[0m in \u001b[0;36mbinDataTrack\u001b[0;34m(regions, values, chr_lims, void_path, ID, binSize, norm_value_by_region)\u001b[0m\n\u001b[1;32m    430\u001b[0m                                               \u001b[0mstart\u001b[0m \u001b[0;34m=\u001b[0m \u001b[0mchr_lim\u001b[0m\u001b[0;34m[\u001b[0m\u001b[0;36m0\u001b[0m\u001b[0;34m]\u001b[0m\u001b[0;34m,\u001b[0m\u001b[0;34m\u001b[0m\u001b[0;34m\u001b[0m\u001b[0m\n\u001b[1;32m    431\u001b[0m                                               \u001b[0mend\u001b[0m \u001b[0;34m=\u001b[0m \u001b[0mchr_lim\u001b[0m\u001b[0;34m[\u001b[0m\u001b[0;34m-\u001b[0m\u001b[0;36m1\u001b[0m\u001b[0;34m]\u001b[0m\u001b[0;34m,\u001b[0m\u001b[0;34m\u001b[0m\u001b[0;34m\u001b[0m\u001b[0m\n\u001b[0;32m--> 432\u001b[0;31m                                               \u001b[0mnorm_value_by_region\u001b[0m \u001b[0;34m=\u001b[0m \u001b[0mint\u001b[0m\u001b[0;34m(\u001b[0m\u001b[0mnvbr\u001b[0m\u001b[0;34m)\u001b[0m\u001b[0;34m\u001b[0m\u001b[0;34m\u001b[0m\u001b[0m\n\u001b[0m\u001b[1;32m    433\u001b[0m                                              )\n\u001b[1;32m    434\u001b[0m \u001b[0;34m\u001b[0m\u001b[0m\n",
      "\u001b[0;32mdtrack_utils.pyx\u001b[0m in \u001b[0;36mdtrack_utils.regionBinValues\u001b[0;34m()\u001b[0m\n",
      "\u001b[0;31mIndexError\u001b[0m: Out of bounds on buffer access (axis 0)"
     ]
    }
   ],
   "source": [
    "chr_lims = {'1': [3100000, 195220000],\n",
    "            '10': [3100000, 130620000],\n",
    "            '11': [3100000, 121920000],\n",
    "            '12': [3200000, 120020000],\n",
    "            '13': [3500000, 120220000],\n",
    "            '14': [3100000, 124620000],\n",
    "            '15': [3200000, 103920000],\n",
    "            '16': [3400000, 98120000],\n",
    "            '17': [3200000, 94920000],\n",
    "            '18': [3100000, 90620000],\n",
    "            '19': [3300000, 61220000],\n",
    "            '2': [3200000, 182020000],\n",
    "            '3': [3200000, 159920000],\n",
    "            '4': [3500000, 156220000],\n",
    "            '5': [3100000, 151720000],\n",
    "            '6': [3200000, 149620000],\n",
    "            '7': [3400000, 145320000],\n",
    "            '8': [3300000, 129120000],\n",
    "            '9': [3100000, 124320000],\n",
    "            'X': [3600000, 170020000]}\n",
    "IDdf, tvals = p.get_binned_feature(\"data/SLX-7671_haploid/raw/totalRNA.npz\",\n",
    "                                    chr_lims,\n",
    "                                    5e4)\n",
    "\n",
    "c_vals = p.get_binned_feature(\"/mnt/delphi/dh486/PhD/Data/AB_Compartment/c_score_regions_0hr.npz\",\n",
    "                              chr_lims,\n",
    "                              5e4\n",
    "                             )"
   ]
  },
  {
   "cell_type": "markdown",
   "metadata": {},
   "source": [
    "Let's also define all of the files where we have our structural data stored. Below we have:\n",
    "- structure files in \".nuc\" or \".hdf5\" format (they're the same thing with different names)\n",
    "- C-score files. This is the compartment score derived from population level Hi-C which has been pre-computed by the lab. It's up for debate whether this should be an input if we end up using the whole Hi-C graph as input since compartments are one of the most obvious learnable features from Hi-C maps. However, i've included them in this notebook anyway since they may prove useful as sanity checks."
   ]
  },
  {
   "cell_type": "code",
   "execution_count": 2,
   "metadata": {},
   "outputs": [],
   "source": [
    "root = \"/mnt/delphi/dh486\"\n",
    "c_score_path = {0:\"{}/PhD/jan_2019_scHi-C/local_enrichment/data/c_score_regions_0hr.npz\".format(root),\n",
    "                48:\"{}/PhD/jan_2019_scHi-C/local_enrichment/data/c_score_regions_48hr.npz\".format(root),\n",
    "               'Rexhigh': \"{}/PhD/jan_2019_scHi-C/local_enrichment/data/c_score_regions_24Rexpos.npz\".format(root),\n",
    "               'Rexlow':  \"{}/PhD/jan_2019_scHi-C/local_enrichment/data/c_score_regions_24Rexlow.npz\".format(root)\n",
    "               }\n",
    "void_path = {0:\"data/void_0hrs.npz\"}\n",
    "\n",
    "structures_path = \"{}/PhD/Data/nuc_files/\".format(root)\n",
    "\n",
    "structure_files_0hrs = [\"P30G8_ambig_10x_100kb.nuc\",\n",
    "               \"Cell_1_P2E8_ambig_10x_100kb.nuc\", \n",
    "               \"Cell_6_P30E8_ambig_10x_100kb.nuc\",\n",
    "               \"Cell_7_UpL13_ambig_10x_100kb.nuc\",\n",
    "               \"Cell_2_P30E4_ambig_10x_100kb.nuc\",\n",
    "               \"Cell_8_P30D4_ambig_10x_100kb.nuc\",\n",
    "               \"Cell_3_Q6_ambig_10x_100kb.nuc\",\n",
    "               \"Cell_4_P2J8_ambig_10x_100kb.nuc\",\n",
    "               \"P44F12_ambig_10x_100kb.nuc\",\n",
    "               \"P44F6_ambig_10x_100.nuc\",\n",
    "               \"Cell_5_P2I5_ambig_10x_100kb.nuc\",\n",
    "               \"P44H4_ambig_10x_100kb.nuc\"\n",
    "                ]\n",
    "\n",
    "structure_files_rexhigh = [\"SLX-14520_INLINE_HNT7NBBXX_s_2_r_1_2_P62G7_100.hdf5\",\n",
    "                   \"SLX-15484_INLINE_HTFK2BBXX_s_8_r_1_2_P62E12.hdf5\",\n",
    "                   \"SLX-14520_INLINE_HNT7NBBXX_s_2_r_1_2_P62G8_100.hdf5\",\n",
    "                   \"SLX-15484_INLINE_HTFK2BBXX_s_8_r_1_2_P62E6.hdf5\",\n",
    "                   \"SLX-14520_INLINE_HNT7NBBXX_s_2_r_1_2_P62H10_100.hdf5\",\n",
    "                   \"SLX-15484_INLINE_HTFK2BBXX_s_8_r_1_2_P62F11.hdf5\",\n",
    "                   \"SLX-14520_INLINE_HNT7NBBXX_s_2_r_1_2_P62H13_100.hdf5\"]\n",
    "\n",
    "structure_files_rexlow = [\"SLX-14520_INLINE_HNT7NBBXX_s_2_r_1_2_P63E9_100.hdf5\",\n",
    "                   \"SLX-15484_INLINE_HTFK2BBXX_s_8_r_1_2_P63E14.hdf5\",\n",
    "                   \"SLX-14520_INLINE_HNT7NBBXX_s_2_r_1_2_P63F8_100.hdf5\",\n",
    "                   \"SLX-15484_INLINE_HTFK2BBXX_s_8_r_1_2_P63G12.hdf5\",\n",
    "                   \"SLX-14520_INLINE_HNT7NBBXX_s_2_r_1_2_P63G10_100.hdf5\",\n",
    "                   \"SLX-15484_INLINE_HTFK2BBXX_s_8_r_1_2_P63H14.hdf5\",\n",
    "                   \"SLX-14520_INLINE_HNT7NBBXX_s_2_r_1_2_P63H10_100.hdf5\",\n",
    "                   \"SLX-15484_INLINE_HTFK2BBXX_s_8_r_1_2_P63H7.hdf5\",\n",
    "                   \"SLX-14520_INLINE_HNT7NBBXX_s_2_r_1_2_P63H9_100.hdf5\",\n",
    "                   \"SLX-15484_INLINE_HTFK2BBXX_s_8_r_1_2_P64E5.hdf5\",\n",
    "                   \"SLX-14520_INLINE_HNT7NBBXX_s_2_r_1_2_P64E11_100.hdf5\"]\n",
    "\n",
    "structure_files_48hrs = [\"SLX-14520_INLINE_HNT7NBBXX_s_2_r_1_2_P45F10_100.hdf5\", \n",
    "                         \"SLX-14520_INLINE_HNT7NBBXX_s_2_r_1_2_P54G11_100.hdf5\",\n",
    "                         \"SLX-14520_INLINE_HNT7NBBXX_s_2_r_1_2_P46D12_100.hdf5\",\n",
    "                         \"SLX-14520_INLINE_HNT7NBBXX_s_2_r_1_2_P54G12_100.hdf5\",\n",
    "                         \"SLX-14520_INLINE_HNT7NBBXX_s_2_r_1_2_P46G10_100.hdf5\",\n",
    "                         \"SLX-14520_INLINE_HNT7NBBXX_s_2_r_1_2_P54G13_100.hdf5\",\n",
    "                         \"SLX-14520_INLINE_HNT7NBBXX_s_2_r_1_2_P54E14_100.hdf5\",\n",
    "                         \"SLX-15484_INLINE_HTFK2BBXX_s_8_r_1_2_P46D6_100.hdf5\",\n",
    "                         \"SLX-14520_INLINE_HNT7NBBXX_s_2_r_1_2_P54F7_100.hdf5\",\n",
    "                         \"SLX-15484_INLINE_HTFK2BBXX_s_8_r_1_2_P54H12_100.hdf5\"]\n",
    "\n",
    "cell_list = {\n",
    "            0:[structures_path + \"0/\" + item for item in structure_files_0hrs],\n",
    "            48:[structures_path + \"48/\" + item for item in structure_files_48hrs],\n",
    "            'Rexhi':[structures_path + \"Rexhi/\" + item for item in structure_files_rexhigh],\n",
    "            'Rexlow':[structures_path + \"Rexlow/\" + item for item in structure_files_rexlow]\n",
    "            }\n",
    "\n",
    "all_cells = cell_list[0] + cell_list[48] + cell_list['Rexhi'] + cell_list['Rexlow']\n",
    "\n",
    "num_cells = {0: len(structure_files_0hrs),\n",
    "            48: len(structure_files_48hrs),\n",
    "            'Rexhi': len(structure_files_rexhigh),\n",
    "            'Rexlow': len(structure_files_rexlow)}"
   ]
  },
  {
   "cell_type": "code",
   "execution_count": 11,
   "metadata": {},
   "outputs": [
    {
     "name": "stdout",
     "output_type": "stream",
     "text": [
      "(10, 1791)\n"
     ]
    }
   ],
   "source": [
    "x = h.File(all_cells[0],'r')\n",
    "print(x['dataTracks']['derived']['chromosomal_depth']['2'].shape)\n",
    "x.close()"
   ]
  },
  {
   "cell_type": "markdown",
   "metadata": {},
   "source": [
    "Below we also have the Population Hi-C data in \".ncc\" format. Hopefully we shouldn't need to use this format directly as I am trying to write scripts to efficiently convert this all into a numpy array once we choose a specific binning of the genome. According to Dave who did the experimental processing, the overall resolution of the Hi-C data is probably around 50kb but this won't be even across the genome. For example, if we wanted to go to a higher resolution we could restrict our learning to regions of the genome which have particularly good data coverage"
   ]
  },
  {
   "cell_type": "code",
   "execution_count": 3,
   "metadata": {},
   "outputs": [],
   "source": [
    "stem = '/mnt/delphi/dh486/PhD/GNN_Work/data/SLX-7671_haploid/raw/'\n",
    "pophic = {0:stem + \"SLX-7671_haploid_50kb.npz\"\n",
    "         }"
   ]
  },
  {
   "cell_type": "markdown",
   "metadata": {},
   "source": [
    "Lets also include all the paths to our ChIPseq data which is stored on Delphi (our main backed-up storage unit)"
   ]
  },
  {
   "cell_type": "code",
   "execution_count": 16,
   "metadata": {},
   "outputs": [],
   "source": [
    "import os\n",
    "chipdatapaths = [\"{}/PhD/Data/ChIPseq/peaks_bed_haploid_highconfidence\".format(root),\n",
    "                 \"{}/PhD/Data/ChIPseq/peaks_bed\".format(root),\n",
    "                 \"{}/PhD/Data/ChIPseq/peaks_bed/old_haploid\".format(root)]\n",
    "chiptracks = {}\n",
    "\n",
    "for item in chipdatapaths:\n",
    "    for file in os.listdir(item):\n",
    "        if \".npz\" in file:\n",
    "            if \"highconf\" in file:\n",
    "                name = \"_\".join(file.split(\".\")[0].split(\"_\")[1:]) \n",
    "                chiptracks[name] = item + \"/\" + file\n",
    "            else:\n",
    "                name = \"_\".join(file.split(\".\")[0].split(\"_\")[1:-1])\n",
    "                chiptracks[name] = item + \"/\" + file"
   ]
  },
  {
   "cell_type": "markdown",
   "metadata": {},
   "source": [
    "Finally lets include the RNAseq data which we could be using as our target variable in our regression problem:"
   ]
  },
  {
   "cell_type": "code",
   "execution_count": 17,
   "metadata": {},
   "outputs": [],
   "source": [
    "rnanumpypath = {0:\"{}/PhD/jan_2019_scHi-C/local_enrichment/data/mean_totalRNA_regions_0hr.npz\".format(root),\n",
    "                48:\"{}/PhD/jan_2019_scHi-C/local_enrichment/data/mean_totalRNA_regions_48hr.npz\".format(root),\n",
    "               'Rexhi': \"{}/PhD/jan_2019_scHi-C/local_enrichment/data/mean_totalRNA_regions_24high.npz\".format(root),\n",
    "                'Rexlow': \"{}/PhD/jan_2019_scHi-C/local_enrichment/data/mean_totalRNA_regions_24low.npz\".format(root)\n",
    "               }\n",
    "genenumpypath = \"{}/PhD/jan_2019_scHi-C/local_enrichment/data/raw_gene_regions_0hr.npz\".format(root)\n",
    "gene_locs = \"{}/PhD/Data/gene_data/mouse_genes.txt\".format(root)\n",
    "\n",
    "mse_path = \"/data1/dh486/PhD/Data/major_satellite_repeats_mouse.txt\"\n",
    "mse_dict = \"/data1/dh486/PhD/jan_2019_scHi-C/nuclear_depth/data/major_satellite_elements.npz\""
   ]
  },
  {
   "cell_type": "code",
   "execution_count": 18,
   "metadata": {},
   "outputs": [],
   "source": [
    "def idx_to_bp(idx, chr_lims, binSize, chroms):\n",
    "    \n",
    "    ordering = {idx: chrom for idx, chrom in enumerate(chroms)}\n",
    "    clens = {idx: int((chr_lims[ordering[idx]][-1] - chr_lims[ordering[idx]][0])/binSize) for idx in ordering}\n",
    "    tot = 0\n",
    "    for idx2 in np.arange(len(chroms)):\n",
    "        tot += clens[idx2]\n",
    "        if idx <= tot:\n",
    "            chrom = ordering[idx2]\n",
    "            chridx = idx - tot + clens[idx2]\n",
    "            break\n",
    "    \n",
    "    return chrom, chr_lims[chrom][0] + chridx*binSize           \n",
    "    \n",
    "        \n",
    "def bp_to_idx(bp, chrom, chr_lims, binSize, chroms):\n",
    "    \n",
    "    rounded_bp = binSize*np.floor(bp/binSize)\n",
    "    chr_idx = int((rounded_bp - chr_lims[chrom][0])/binSize)\n",
    "    tot = 0\n",
    "    if chrom != 'X':\n",
    "        for i in np.arange(1,int(chrom)):\n",
    "            tot += (chr_lims[str(i)][1] - chr_lims[str(i)][0])/binSize\n",
    "    else:\n",
    "        for i in np.arange(1,20):\n",
    "            tot += (chr_lims[str(i)][1] - chr_lims[str(i)][0])/binSize\n",
    "    \n",
    "    return int(tot + chr_idx)\n",
    "\n",
    "def make_ptg_pophic_edge_index(file):\n",
    "    x,y,z = lnc(file, store_sparse = True)\n",
    "    \n",
    "    \n",
    "    order = ['chr' + str(i+1) for i in np.arange(19)] + ['chrX']\n",
    "        \n",
    "    offsets = np.cumsum([int((y[i][1]-y[i][0])/x) for i in order])\n",
    "    shape = (offsets[-1], offsets[-1])\n",
    "    offsets -= offsets[0]\n",
    "    offsets = {chrom: offsets[i] for i, chrom in enumerate(order)}\n",
    "    \n",
    "    myrows = np.empty((1))\n",
    "    mycols = np.empty((1))\n",
    "    mydata = np.empty((1))\n",
    "    for item in z.keys():\n",
    "        z[item] = z[item].tocoo()\n",
    "        \n",
    "        chr1 = item[0]\n",
    "        chr2 = item[1]\n",
    "        if item[0] != 'chrY' and item[1] != 'chrY':\n",
    "            rowadd = z[item].row + offsets[chr1]\n",
    "            coladd = z[item].col + offsets[chr2]\n",
    "    \n",
    "            myrows = np.append(myrows, rowadd).astype(int)\n",
    "            mycols = np.append(mycols, coladd).astype(int)\n",
    "            mydata = np.append(mydata, z[item].data)\n",
    "    \n",
    "    del y['chrY']\n",
    "    chr_lims = {chrom[3:]: y[chrom] for chrom in y}\n",
    "    \n",
    "    temp_coo = coo_matrix((mydata, (myrows, mycols)), shape = shape)\n",
    "    \n",
    "    edge_index = np.append(temp_coo.row[None,:], temp_coo.col[None,:], axis = 0)\n",
    "    edge_attr = temp_coo.data[None,:]\n",
    "\n",
    "    chroms = [str(i+1) for i in np.arange(19)] + ['X']\n",
    "    backbone = np.zeros(edge_attr.shape)\n",
    "    newindex = []\n",
    "    newattr = []\n",
    "    for idx in np.arange(edge_index.shape[0]):\n",
    "        chrom, chrbp = idx_to_bp(idx, chr_lims , x, chroms)\n",
    "        myidx_contacts_idxs = np.where(edge_index[0,:] == idx)[0]\n",
    "    \n",
    "        if idx + 1 not in myidx_contacts_idxs:\n",
    "            chrom2, chrbp2 = idx_to_bp(idx+1, chr_lims, x, chroms)\n",
    "            if chrom2 == chrom:\n",
    "                newindex.append([idx,idx+1])\n",
    "                #zero hi-c contacts, but backbone_contact == True\n",
    "                newattr.append([0,1])\n",
    "        for contact_idx in myidx_contacts_idxs:\n",
    "            chrom2, chrbp2 = idx_to_bp(idx, chr_lims, x, chroms)\n",
    "            if (chrom2 == chrom) and (abs(chrbp2 - chrbp) == x):\n",
    "                backbone[contact_idx] = 1\n",
    "        \n",
    "    edge_index = np.append(edge_index, np.array(newindex).T, axis = 1)\n",
    "    edge_attr = np.append(edge_attr, backbone, axis = 0)\n",
    "    edge_attr = np.append(edge_attr, np.array(newattr).T, axis = 1).T  \n",
    "    \n",
    "    \n",
    "    return  temp_coo.shape, x, chr_lims, torch.tensor(edge_index, dtype = torch.long), torch.tensor(edge_attr, dtype = torch.long)\n",
    "\n",
    "def one_hot(chrom):    \n",
    "    vals = np.zeros((1,20))\n",
    "    \n",
    "    try:\n",
    "        c = int(chrom)\n",
    "        vals[0,c-1] = 1\n",
    "        return vals\n",
    "    except:\n",
    "        if chrom == 'X':\n",
    "            vals[0,-1] = 1\n",
    "            return vals\n",
    "        else:\n",
    "            raise ValueError\n",
    "            \n",
    "def make_basic_feature_matrix(chrlims):\n",
    "    order = [str(i+1) for i in np.arange(19)] + ['X']\n",
    "    \n",
    "    totalfmat = np.empty((0,21))\n",
    "    for chrom in order:\n",
    "        onehot = one_hot(chrom).astype(int)\n",
    "        \n",
    "        lenchrom = int((chrlims[chrom][1] - chrlims[chrom][0])/binSize)\n",
    "        chridxs = np.arange(chrlims[chrom][0], chrlims[chrom][1], binSize).astype(int)\n",
    "        \n",
    "        fmat = np.tile(onehot, (lenchrom,1))\n",
    "        fmat = np.append(fmat, chridxs[:,None], axis = 1)\n",
    "    \n",
    "        totalfmat = np.append(totalfmat, fmat, axis = 0).astype(int)\n",
    "        \n",
    "    return torch.tensor(totalfmat, dtype = torch.long)\n"
   ]
  },
  {
   "cell_type": "markdown",
   "metadata": {},
   "source": [
    "After defining these functions we can now simply call 'make_ptg_pophic_edge_index' (make pytorch geometric population hi-c edge index) on our .npz file which will give us our binSize, the limits of each chromosome and the entire population Hi-C matrix in COO format"
   ]
  },
  {
   "cell_type": "code",
   "execution_count": 19,
   "metadata": {},
   "outputs": [],
   "source": [
    "mat_shape, binSize, chrlims, edge_index, edge_attr = make_ptg_pophic_edge_index(pophic[0])"
   ]
  },
  {
   "cell_type": "code",
   "execution_count": 20,
   "metadata": {},
   "outputs": [
    {
     "data": {
      "text/plain": [
       "(51456, 51456)"
      ]
     },
     "execution_count": 20,
     "metadata": {},
     "output_type": "execute_result"
    }
   ],
   "source": [
    "mat_shape"
   ]
  },
  {
   "cell_type": "code",
   "execution_count": 21,
   "metadata": {},
   "outputs": [
    {
     "data": {
      "text/plain": [
       "{'1': (3000000, 195400000),\n",
       " '10': (3100000, 130700000),\n",
       " '11': (3100000, 122000000),\n",
       " '12': (3000000, 120150000),\n",
       " '13': (3000000, 120350000),\n",
       " '14': (3000000, 124950000),\n",
       " '15': (3050000, 104050000),\n",
       " '16': (3000000, 98250000),\n",
       " '17': (3000000, 95000000),\n",
       " '18': (3000000, 90750000),\n",
       " '19': (3050000, 61450000),\n",
       " '2': (3050000, 182150000),\n",
       " '3': (3000000, 160050000),\n",
       " '4': (3050000, 156400000),\n",
       " '5': (3000000, 151850000),\n",
       " '6': (3050000, 149750000),\n",
       " '7': (3000000, 145450000),\n",
       " '8': (3050000, 129350000),\n",
       " '9': (3000000, 124500000),\n",
       " 'X': (3050000, 170800000)}"
      ]
     },
     "execution_count": 21,
     "metadata": {},
     "output_type": "execute_result"
    }
   ],
   "source": [
    "chrlims"
   ]
  },
  {
   "cell_type": "code",
   "execution_count": 22,
   "metadata": {},
   "outputs": [],
   "source": [
    "x,y,z = lnc(pophic[0],store_sparse = True)"
   ]
  },
  {
   "cell_type": "code",
   "execution_count": 23,
   "metadata": {},
   "outputs": [],
   "source": [
    "temp2 = z[('chr19', 'chr19')].tocoo()"
   ]
  },
  {
   "cell_type": "code",
   "execution_count": 24,
   "metadata": {},
   "outputs": [
    {
     "name": "stdout",
     "output_type": "stream",
     "text": [
      "[   0    0    0 ... 1167 1167 1167] \n",
      " [ 159  202  211 ... 1162 1164 1165] \n",
      " [1. 1. 2. ... 1. 1. 1.]\n"
     ]
    }
   ],
   "source": [
    "print(temp2.row, \"\\n\", temp2.col, \"\\n\", temp2.data)"
   ]
  },
  {
   "cell_type": "code",
   "execution_count": 25,
   "metadata": {},
   "outputs": [
    {
     "data": {
      "text/plain": [
       "<matplotlib.image.AxesImage at 0x7f94407ae650>"
      ]
     },
     "execution_count": 25,
     "metadata": {},
     "output_type": "execute_result"
    },
    {
     "data": {
      "image/png": "[encoded data removed]",
      "text/plain": [
       "<Figure size 720x720 with 1 Axes>"
      ]
     },
     "metadata": {
      "needs_background": "light"
     },
     "output_type": "display_data"
    }
   ],
   "source": [
    "temp = z[('chr19', 'chr19')].toarray()\n",
    "mpl.rcParams['figure.figsize'] = (10,10)\n",
    "plt.imshow(temp, cmap = plt.cm.bwr, vmin = -np.percentile(temp, 99), vmax = np.percentile(temp, 99))"
   ]
  },
  {
   "cell_type": "markdown",
   "metadata": {},
   "source": [
    "Once we have the basic matrix, we should add in the most basic features which will be present for all nodes in the matrix"
   ]
  },
  {
   "cell_type": "code",
   "execution_count": 26,
   "metadata": {},
   "outputs": [],
   "source": [
    "fmat = make_basic_feature_matrix(chrlims)"
   ]
  },
  {
   "cell_type": "code",
   "execution_count": 27,
   "metadata": {},
   "outputs": [
    {
     "data": {
      "text/plain": [
       "torch.Size([51456, 21])"
      ]
     },
     "execution_count": 27,
     "metadata": {},
     "output_type": "execute_result"
    }
   ],
   "source": [
    "fmat.shape"
   ]
  },
  {
   "cell_type": "markdown",
   "metadata": {},
   "source": [
    "Now we may want to add in transcriptional data as our output so let's bin this (and also keep per-gene data available as well)"
   ]
  },
  {
   "cell_type": "code",
   "execution_count": 28,
   "metadata": {},
   "outputs": [],
   "source": [
    "########################################################################################################### \n",
    "# Get Transcriptional Data ################################################################################\n",
    "geneIDdf = {} \n",
    "tvals = {}\n",
    "for key in [0, 'Rexhi', 'Rexlow', 48]:\n",
    "    geneIDdf[key], tvals[key] = io.binDatatrackIDs(rnanumpypath[key], chrlims, binSize = binSize)"
   ]
  },
  {
   "cell_type": "code",
   "execution_count": 45,
   "metadata": {},
   "outputs": [],
   "source": [
    "########################################################################################################### \n",
    "# Get linear gene density for mESCs #######################################################################\n",
    "_, gvals = io.binDatatrackIDs(genenumpypath, chrlims, binSize = binSize)"
   ]
  },
  {
   "cell_type": "code",
   "execution_count": 16,
   "metadata": {},
   "outputs": [],
   "source": [
    "###########################################################################################################\n",
    "# Average transcript per gene per bead ####################################################################\n",
    "temp = {tpoint: np.zeros(np.shape(tvals[tpoint])) for tpoint in tvals.keys()}\n",
    "for tpoint in tvals.keys():\n",
    "    temp[tpoint][gvals!=0] = np.divide(tvals[tpoint][gvals!=0], gvals[gvals!=0])\n",
    "\n",
    "###########################################################################################################\n",
    "# Binning ChIPseq Tracks ##################################################################################\n",
    "#Dictionary to hold our binned ChIPseq data\n",
    "bb_chip_dict = {}\n",
    "chroms = [str(i+1) for i in np.arange(19)] + ['X']\n",
    "for key in chiptracks:\n",
    "    b = []\n",
    "    r,v = io.load_data_track(chiptracks[key])\n",
    "    for chrom in r:\n",
    "        for idx in np.arange(r[chrom].shape[0]):\n",
    "            if abs(r[chrom][idx,1] - r[chrom][idx,0]) > 5e3:\n",
    "                mean = 0.5*((r[chrom][idx,1] + r[chrom][idx,0]))\n",
    "                r[chrom][idx, :] = np.array([mean - 1e3, mean + 1e3])\n",
    "    t = io.binDataTrack(r,v, chrlims, binSize = 5e4)\n",
    "    for chrom in chroms:\n",
    "        b.append(t[chrom])\n",
    "    \n",
    "    b = np.concatenate(b)\n",
    "    \n",
    "    bb_chip_dict[key] = b"
   ]
  },
  {
   "cell_type": "code",
   "execution_count": 19,
   "metadata": {},
   "outputs": [
    {
     "data": {
      "text/plain": [
       "(51476,)"
      ]
     },
     "execution_count": 19,
     "metadata": {},
     "output_type": "execute_result"
    }
   ],
   "source": [
    "b.shape"
   ]
  },
  {
   "cell_type": "code",
   "execution_count": 18,
   "metadata": {},
   "outputs": [],
   "source": [
    "###########################################################################################################\n",
    "# Looking at Histone marks to define enhancers and promoters ##############################################\n",
    "hmarkertracks = {'h3k4me3':chiptracks['H3K4me3_hapmESC_highconfpeaks'],\n",
    "                 'h3k27ac':chiptracks['H3K27ac_hapmESC_highconfpeaks'],\n",
    "                 'h3k27me3': chiptracks['H3K27me3_hapmESC_highconfpeaks'],\n",
    "                 'h3k4me1':chiptracks['H3K4me1_hapmESC_highconfpeaks']}\n",
    "\n",
    "###########################################################################################################\n",
    "# Creating mESC Enhancer/Promoter Tracks ##################################################################################\n",
    "lowres = 5e4\n",
    "hires = 2e3\n",
    "temp_hmarker_dict = {}\n",
    "for key in hmarkertracks:\n",
    "    b = []\n",
    "    r,v = load.load_data_track(hmarkertracks[key])\n",
    "    for chrom in r:\n",
    "        for idx in np.arange(r[chrom].shape[0]):\n",
    "            if abs(r[chrom][idx,1] - r[chrom][idx,0]) > 5e3:\n",
    "                mean = 0.5*((r[chrom][idx,1] + r[chrom][idx,0]))\n",
    "                r[chrom][idx, :] = np.array([mean - 1e3, mean + 1e3])\n",
    "    t = load.binDataTrack(r,v, chrlims, binSize = hires)\n",
    "    for chrom in chroms:\n",
    "        b.append(t[chrom])\n",
    "    \n",
    "    b = np.concatenate(b)\n",
    "    \n",
    "    temp_hmarker_dict[key] = b\n",
    "    \n",
    "hires_dict = {}\n",
    "#### THESE ARE GOING TO BE OUR HI RES SUBSETS#####\n",
    "hires_dict['active_enhancers'] = (temp_hmarker_dict['h3k4me1'] > 0)&(temp_hmarker_dict['h3k27ac']>0)&(temp_hmarker_dict['h3k4me3']==0)\n",
    "hires_dict['poised_enhancers'] = (temp_hmarker_dict['h3k4me1'] > 0)&(temp_hmarker_dict['h3k27ac']==0)&(temp_hmarker_dict['h3k4me3'] ==0)\n",
    "hires_dict['enhancers'] = hires_dict['active_enhancers']|hires_dict['poised_enhancers']\n",
    "hires_dict['bivalent_promoters'] = (temp_hmarker_dict['h3k27me3']>0)&(temp_hmarker_dict['h3k4me3'] >0)\n",
    "hires_dict['active_promoters'] = (temp_hmarker_dict['h3k27ac']>0)&(temp_hmarker_dict['h3k4me3'] >0)\n",
    "\n",
    "ratio = lowres/hires\n",
    "glength = len(gvals)\n",
    "lowres_dict = {}\n",
    "for key in hires_dict:\n",
    "    lowres_dict[key] = []\n",
    "    for idx in np.arange(glength):\n",
    "        try:\n",
    "            lowres_dict[key].append(np.mean(hires_dict[key][int(ratio*idx):int(ratio*(idx+1))])>0)\n",
    "        except:\n",
    "            try:\n",
    "                lowres_dict[key].append(np.mean(hires_dict[key][int(ratio*idx):])>0)\n",
    "            except:\n",
    "                append(0)\n",
    "    \n",
    "    lowres_dict[key] = np.array(lowres_dict[key])\n",
    "\n",
    "for key in lowres_dict:\n",
    "    bb_chip_dict[key] = lowres_dict[key]"
   ]
  },
  {
   "cell_type": "code",
   "execution_count": 19,
   "metadata": {},
   "outputs": [
    {
     "data": {
      "text/plain": [
       "dict_keys(['H3K4me3_hapmESC_highconfpeaks', 'Smc3_hapmESC_highconfpeaks', 'Nanog_hapmESC_highconfpeaks_transcription_0', 'Klf4_hapmESC_highconfpeaks', 'H3K9me3_hapmESC_highconfpeaks', 'H3K4me1_hapmESC_highconfpeaks', 'Nanog_hapmESC_highconfpeaks_transcription_Rexlow', 'CTCF_hapmESC_highconfpeaks', 'Nanog_hapmESC_highconfpeaks', 'H3K27ac_hapmESC_highconfpeaks', 'Nanog_hapmESC_highconfpeaks_transcription_48', 'H3K36me3_hapmESC_highconfpeaks', 'Nanog_hapmESC_highconfpeaks_transcription_Rexhi', 'H3K27me3_hapmESC_highconfpeaks', 'H3K4me1_ESC', 'CTCF_CHD4ESC', 'Otx2_ESC', 'Nanog_ESC', 'Smc3_dipmESC', 'H3K9me3_MBD3nullESC', 'Med12_ESC', 'Klf4_Mbd3nullESC', 'H3K9me3_CHD4ESC', 'CTCF_dipmESC', 'Smc3_CHD4ESC', 'H3K27ac_ESC', 'Klf4_ESC', 'Smc3_OHTESC', 'H3K27me3_dipmESC', 'Nanog_Mbd3nullESC', 'H3K9me3_OHTESC', 'p300_ESC', 'H3K36me3_dipmESC', 'Med1_ESC', 'CTCF_OHTESC', 'CTCF_MBD3nullESC', 'H3K4me3_dipmESC', 'Nanog_dipmESC', 'Smc3_MBD3nullESC', 'Oct4_ESC', 'H3K9me3_dipmESC', 'Chd4_ESC', 'Mbd3_ESC', 'Nanog_mESCs', 'H3K9me3_hapmESC', 'Nanog_hapmESC', 'H3K36me3_hapmESC', 'H3K4me3_hapmESC', 'Smc3_hapmESC', 'H3K27me3_hapmESC', 'CTCF_hapmESC', 'active_enhancers', 'poised_enhancers', 'enhancers', 'bivalent_promoters', 'active_promoters'])"
      ]
     },
     "execution_count": 19,
     "metadata": {},
     "output_type": "execute_result"
    }
   ],
   "source": [
    "bb_chip_dict.keys()"
   ]
  },
  {
   "cell_type": "markdown",
   "metadata": {},
   "source": [
    "# Now we're ready to make our dataset!\n",
    "Lets import pytorch first"
   ]
  },
  {
   "cell_type": "code",
   "execution_count": 56,
   "metadata": {},
   "outputs": [],
   "source": [
    "import torch\n",
    "import torch_geometric.data as tgd\n",
    "import torch_geometric.io as tgio\n",
    "import torch_geometric.transforms as T\n",
    "from utils.my_transforms import GDC as gdc"
   ]
  },
  {
   "cell_type": "markdown",
   "metadata": {},
   "source": [
    "... and finally create our dataset. For now the only edge attributes we will add are the Hi-C contact frequencies. Backbone edge data can be re-added later after we attempt to use graph diffusion convolution (detailed here https://pytorch-geometric.readthedocs.io/en/latest/modules/transforms.html ) which is meant to improve GNN performance but requires only a single edge attribute. We'll therefore try and run diffusion on the Hi-C contact frequencies then detail which edges form the backbone later. "
   ]
  },
  {
   "cell_type": "code",
   "execution_count": 87,
   "metadata": {},
   "outputs": [],
   "source": [
    "data = tgd.Data(x = fmat, edge_index = edge_index, edge_attr = edge_attr[:,0], y = tvals[0])"
   ]
  },
  {
   "cell_type": "markdown",
   "metadata": {},
   "source": [
    "Currently my actual node features are just the bare minimum ones. However, we could add whatever ChIPseq/depth/compartment information we wanted to. Since we're only interested in Population Hi-C as a baseline, lets only consider our base features plus some ChIPseq (information such as chromatin compartments should be implicit within the graph structure). \n",
    "\n",
    "However, we could feasibly be interested in using ChIPseq as well so lets put in:\n",
    "\n",
    "- Nanog\n",
    "- Klf4\n",
    "- Oct4\n",
    "- Smc3\n",
    "- Med12\n",
    "- Med1\n",
    "- Mbd3\n",
    "- Chd4\n",
    "- p300\n",
    "- CTCF\n",
    "- Otx2\n",
    "- H3K9me3\n",
    "- H3K27me3\n",
    "- H3K27ac\n",
    "- H3K4me1\n",
    "- H3K4me3\n",
    "- H3K36me3\n",
    "- Poised enhancers\n",
    "- Active enhancers\n",
    "- Bivalent promoters\n",
    "- Active promoters\n",
    "\n",
    "We'll also add in some structural data from the single-cell approaches:\n",
    "\n",
    "- Nuclear Depth Mean/Standard Deviation\n",
    "- Chromosomal Depth Mean/Standard Deviation\n",
    "- Local Radius of Gyration Mean/Standard Deviation"
   ]
  },
  {
   "cell_type": "markdown",
   "metadata": {},
   "source": [
    "Below is just a quick helper function which takes our single-cell data and interpolates it to whatever binSize we want before creating a long per-node feature vector which will eventually be added to our graph"
   ]
  },
  {
   "cell_type": "code",
   "execution_count": 37,
   "metadata": {},
   "outputs": [],
   "source": [
    "def interpolate_sc_features(sc_file, feature, chrlims, binSize):\n",
    "    chroms = [str(i+1) for i in np.arange(19)] + ['X']\n",
    "    \n",
    "    bdtrack = -np.ones(gvals.shape)\n",
    "    f = h.File(sc_file,'r')\n",
    "\n",
    "    mydtrack = f['dataTracks']['derived'][feature]\n",
    "    mygenpos = {chrom: f['structures']['0']['particles'][chrom]['positions'] for chrom in mydtrack}\n",
    "    for chrom in mydtrack:\n",
    "        for idx, pos in enumerate(mygenpos[chrom]):\n",
    "            try:\n",
    "                popidx = bp_to_idx(pos + 0.5*binSize, chrom, chrlims, binSize, chroms)\n",
    "                bdtrack[popidx] = np.mean(mydtrack[chrom][:, idx])\n",
    "            except:\n",
    "                print(chrom, pos, popidx)\n",
    "\n",
    "    f.close()\n",
    "\n",
    "    from scipy.interpolate import CubicSpline\n",
    "\n",
    "    interpolationpoints = {chrom : [idx_to_bp(idx, chrlims, binSize, chroms)[1] + 0.5*binSize for idx in np.where(bdtrack > -1)[0] if idx_to_bp(idx, chrlims, binSize, chroms)[0] == chrom]for chrom in chroms}\n",
    "    cs = {chrom: CubicSpline(interpolationpoints[chrom],\n",
    "                         [bdtrack[idx] for idx in np.where(bdtrack > -1)[0] if idx_to_bp(idx, chrlims, binSize, chroms)[0] == chrom]\n",
    "                        ) for chrom in chroms}\n",
    "\n",
    "    maxval = np.max(bdtrack[bdtrack > -1])\n",
    "    minval = np.min(bdtrack[bdtrack > -1])\n",
    "    for idx in np.arange(len(bdtrack)):\n",
    "        if bdtrack[idx] == -1:\n",
    "            chrom, bp = idx_to_bp(idx, chrlims, binSize, chroms)\n",
    "            bdtrack[idx] = np.maximum(minval, np.minimum(maxval,cs[chrom](bp + 0.5*binSize)))\n",
    "            \n",
    "    \n",
    "    return bdtrack"
   ]
  },
  {
   "cell_type": "code",
   "execution_count": 49,
   "metadata": {},
   "outputs": [
    {
     "name": "stdout",
     "output_type": "stream",
     "text": [
      "nuclear_depth...\n",
      "X 170800000.0 51456\n",
      "done\n",
      "local_RoG2Mb...\n",
      "X 170800000.0 51456\n",
      "done\n",
      "chromosomal_depth...\n",
      "X 170800000.0 51456\n",
      "done\n"
     ]
    }
   ],
   "source": [
    "for feature in ['nuclear_depth', 'local_RoG2Mb', 'chromosomal_depth']:\n",
    "    print(feature + \"...\")\n",
    "    scfmat = np.empty((1,gvals.shape[0]))\n",
    "    for file in cell_list[0]:\n",
    "        x = interpolate_sc_features(file, feature, chrlims, binSize)[None,:]\n",
    "        scfmat = np.append(scfmat,x, axis = 0)\n",
    "        \n",
    "    means = np.mean(scfmat, axis = 0)\n",
    "    std = np.std(scfmat, axis = 0)\n",
    "    \n",
    "    bb_chip_dict['mean_' + feature] = means\n",
    "    bb_chip_dict['std_' + feature] = std\n",
    "    \n",
    "    print('done')"
   ]
  },
  {
   "cell_type": "markdown",
   "metadata": {},
   "source": [
    "Lets just list all of our features here and then add them into our feature matrix!"
   ]
  },
  {
   "cell_type": "code",
   "execution_count": 79,
   "metadata": {},
   "outputs": [],
   "source": [
    "ourfeaturenames = ['Nanog_hapmESC_highconfpeaks',\n",
    "                   'Klf4_hapmESC_highconfpeaks',\n",
    "                   'Oct4_ESC',\n",
    "                   'Smc3_hapmESC',\n",
    "                   'Med12_ESC',\n",
    "                   'Med1_ESC',\n",
    "                   'Mbd3_ESC',\n",
    "                   'Chd4_ESC',\n",
    "                   'p300_ESC',\n",
    "                   'CTCF_hapmESC',\n",
    "                   'Otx2_ESC',\n",
    "                   'H3K9me3_hapmESC_highconfpeaks',\n",
    "                   'H3K27me3_hapmESC_highconfpeaks',\n",
    "                   'H3K27ac_hapmESC_highconfpeaks',\n",
    "                   'H3K4me1_hapmESC_highconfpeaks',\n",
    "                   'H3K4me3_hapmESC_highconfpeaks',\n",
    "                   'H3K36me3_hapmESC_highconfpeaks',\n",
    "                   'bivalent_promoters',\n",
    "                   'active_promoters',\n",
    "                   'poised_enhancers',\n",
    "                   'active_enhancers',\n",
    "                   'mean_nuclear_depth',\n",
    "                   'std_nuclear_depth',\n",
    "                   'mean_chromosomal_depth',\n",
    "                   'std_chromosomal_depth',\n",
    "                   'mean_local_RoG2Mb',\n",
    "                   'std_local_RoG2Mb'\n",
    "                  ]\n",
    "\n",
    "featureidxs = {name: 21 + idx for idx, name in enumerate(ourfeaturenames)}\n",
    "\n"
   ]
  },
  {
   "cell_type": "code",
   "execution_count": 88,
   "metadata": {},
   "outputs": [],
   "source": [
    "fmat = make_basic_feature_matrix(chrlims)\n",
    "for chipseq in ourfeaturenames:\n",
    "    fmat = torch.cat((fmat, torch.tensor(bb_chip_dict[chipseq][:,None], dtype = torch.long)), dim = 1)"
   ]
  },
  {
   "cell_type": "code",
   "execution_count": 89,
   "metadata": {},
   "outputs": [],
   "source": [
    "#normalise our features by column\n",
    "for col in np.arange(fmat.shape[1]):\n",
    "    scaler = MMS()\n",
    "    x = scaler.fit_transform(fmat[:,col][:,None])\n",
    "    fmat[:,col] = torch.tensor(x[:,0], dtype = torch.long)\n",
    "\n",
    "data.x = fmat"
   ]
  },
  {
   "cell_type": "markdown",
   "metadata": {},
   "source": [
    "Finally let's include data regarding what each of our feature columns means"
   ]
  },
  {
   "cell_type": "code",
   "execution_count": 90,
   "metadata": {},
   "outputs": [],
   "source": [
    "data.featureidxs = featureidxs"
   ]
  },
  {
   "cell_type": "code",
   "execution_count": 91,
   "metadata": {},
   "outputs": [
    {
     "data": {
      "text/plain": [
       "Data(edge_attr=[31280210], edge_index=[2, 31280210], featureidxs={'Nanog_hapmESC_highconfpeaks': 21, 'Klf4_hapmESC_highconfpeaks': 22, 'Oct4_ESC': 23, 'Smc3_hapmESC': 24, 'Med12_ESC': 25, 'Med1_ESC': 26, 'Mbd3_ESC': 27, 'Chd4_ESC': 28, 'p300_ESC': 29, 'CTCF_hapmESC': 30, 'Otx2_ESC': 31, 'H3K9me3_hapmESC_highconfpeaks': 32, 'H3K27me3_hapmESC_highconfpeaks': 33, 'H3K27ac_hapmESC_highconfpeaks': 34, 'H3K4me1_hapmESC_highconfpeaks': 35, 'H3K4me3_hapmESC_highconfpeaks': 36, 'H3K36me3_hapmESC_highconfpeaks': 37, 'bivalent_promoters': 38, 'active_promoters': 39, 'poised_enhancers': 40, 'active_enhancers': 41, 'mean_nuclear_depth': 42, 'std_nuclear_depth': 43, 'mean_chromosomal_depth': 44, 'std_chromosomal_depth': 45, 'mean_local_RoG2Mb': 46, 'std_local_RoG2Mb': 47}, x=[51456, 48], y=[ 0.          0.          0.         ...  0.         10.21839083\n",
       "  0.        ])"
      ]
     },
     "execution_count": 91,
     "metadata": {},
     "output_type": "execute_result"
    }
   ],
   "source": [
    "data"
   ]
  },
  {
   "cell_type": "markdown",
   "metadata": {},
   "source": [
    "## Graph Diffusion Convolution\n",
    "\n",
    "I'm running here graph diffusion on our dataset for each of the features named above based on the code provided on the pytorch geometric website"
   ]
  },
  {
   "cell_type": "code",
   "execution_count": 82,
   "metadata": {},
   "outputs": [
    {
     "ename": "RuntimeError",
     "evalue": "value cannot be converted to type int64_t without overflow: inf",
     "output_type": "error",
     "traceback": [
      "\u001b[0;31m---------------------------------------------------------------------------\u001b[0m",
      "\u001b[0;31mRuntimeError\u001b[0m                              Traceback (most recent call last)",
      "\u001b[0;32m<ipython-input-82-9bf5ac1bbf21>\u001b[0m in \u001b[0;36m<module>\u001b[0;34m()\u001b[0m\n\u001b[1;32m      4\u001b[0m                 sparsification_kwargs=dict(method='topk', k=128,\n\u001b[1;32m      5\u001b[0m                                            dim=0), exact=True)\n\u001b[0;32m----> 6\u001b[0;31m \u001b[0mdata\u001b[0m \u001b[0;34m=\u001b[0m \u001b[0mmy_gdc\u001b[0m\u001b[0;34m(\u001b[0m\u001b[0mdata\u001b[0m\u001b[0;34m)\u001b[0m\u001b[0;34m\u001b[0m\u001b[0;34m\u001b[0m\u001b[0m\n\u001b[0m",
      "\u001b[0;32m/usr/local/lib/python3.7/dist-packages/torch/autograd/grad_mode.py\u001b[0m in \u001b[0;36mdecorate_no_grad\u001b[0;34m(*args, **kwargs)\u001b[0m\n\u001b[1;32m     47\u001b[0m         \u001b[0;32mdef\u001b[0m \u001b[0mdecorate_no_grad\u001b[0m\u001b[0;34m(\u001b[0m\u001b[0;34m*\u001b[0m\u001b[0margs\u001b[0m\u001b[0;34m,\u001b[0m \u001b[0;34m**\u001b[0m\u001b[0mkwargs\u001b[0m\u001b[0;34m)\u001b[0m\u001b[0;34m:\u001b[0m\u001b[0;34m\u001b[0m\u001b[0;34m\u001b[0m\u001b[0m\n\u001b[1;32m     48\u001b[0m             \u001b[0;32mwith\u001b[0m \u001b[0mself\u001b[0m\u001b[0;34m:\u001b[0m\u001b[0;34m\u001b[0m\u001b[0;34m\u001b[0m\u001b[0m\n\u001b[0;32m---> 49\u001b[0;31m                 \u001b[0;32mreturn\u001b[0m \u001b[0mfunc\u001b[0m\u001b[0;34m(\u001b[0m\u001b[0;34m*\u001b[0m\u001b[0margs\u001b[0m\u001b[0;34m,\u001b[0m \u001b[0;34m**\u001b[0m\u001b[0mkwargs\u001b[0m\u001b[0;34m)\u001b[0m\u001b[0;34m\u001b[0m\u001b[0;34m\u001b[0m\u001b[0m\n\u001b[0m\u001b[1;32m     50\u001b[0m         \u001b[0;32mreturn\u001b[0m \u001b[0mdecorate_no_grad\u001b[0m\u001b[0;34m\u001b[0m\u001b[0;34m\u001b[0m\u001b[0m\n\u001b[1;32m     51\u001b[0m \u001b[0;34m\u001b[0m\u001b[0m\n",
      "\u001b[0;32m/mnt/delphi/dh486/PhD/GNN_Work/utils/my_transforms.py\u001b[0m in \u001b[0;36m__call__\u001b[0;34m(self, data)\u001b[0m\n\u001b[1;32m    108\u001b[0m         \u001b[0;32mif\u001b[0m \u001b[0mself\u001b[0m\u001b[0;34m.\u001b[0m\u001b[0mexact\u001b[0m\u001b[0;34m:\u001b[0m\u001b[0;34m\u001b[0m\u001b[0;34m\u001b[0m\u001b[0m\n\u001b[1;32m    109\u001b[0m             edge_index, edge_weight = self.transition_matrix(\n\u001b[0;32m--> 110\u001b[0;31m                 edge_index, edge_weight, N, self.normalization_in)\n\u001b[0m\u001b[1;32m    111\u001b[0m             diff_mat = self.diffusion_matrix_exact(edge_index, edge_weight, N,\n\u001b[1;32m    112\u001b[0m                                                    **self.diffusion_kwargs)\n",
      "\u001b[0;32m/mnt/delphi/dh486/PhD/GNN_Work/utils/my_transforms.py\u001b[0m in \u001b[0;36mtransition_matrix\u001b[0;34m(self, edge_index, edge_weight, num_nodes, normalization)\u001b[0m\n\u001b[1;32m    155\u001b[0m             \u001b[0mdeg\u001b[0m \u001b[0;34m=\u001b[0m \u001b[0mscatter_add\u001b[0m\u001b[0;34m(\u001b[0m\u001b[0medge_weight\u001b[0m\u001b[0;34m,\u001b[0m \u001b[0mcol\u001b[0m\u001b[0;34m,\u001b[0m \u001b[0mdim\u001b[0m\u001b[0;34m=\u001b[0m\u001b[0;36m0\u001b[0m\u001b[0;34m,\u001b[0m \u001b[0mdim_size\u001b[0m\u001b[0;34m=\u001b[0m\u001b[0mnum_nodes\u001b[0m\u001b[0;34m)\u001b[0m\u001b[0;34m\u001b[0m\u001b[0;34m\u001b[0m\u001b[0m\n\u001b[1;32m    156\u001b[0m             \u001b[0mdeg_inv_sqrt\u001b[0m \u001b[0;34m=\u001b[0m \u001b[0mdeg\u001b[0m\u001b[0;34m.\u001b[0m\u001b[0mpow\u001b[0m\u001b[0;34m(\u001b[0m\u001b[0;34m-\u001b[0m\u001b[0;36m0.5\u001b[0m\u001b[0;34m)\u001b[0m\u001b[0;34m\u001b[0m\u001b[0;34m\u001b[0m\u001b[0m\n\u001b[0;32m--> 157\u001b[0;31m             \u001b[0mdeg_inv_sqrt\u001b[0m\u001b[0;34m[\u001b[0m\u001b[0mdeg_inv_sqrt\u001b[0m \u001b[0;34m==\u001b[0m \u001b[0mfloat\u001b[0m\u001b[0;34m(\u001b[0m\u001b[0;34m'inf'\u001b[0m\u001b[0;34m)\u001b[0m\u001b[0;34m]\u001b[0m \u001b[0;34m=\u001b[0m \u001b[0;36m0\u001b[0m\u001b[0;34m\u001b[0m\u001b[0;34m\u001b[0m\u001b[0m\n\u001b[0m\u001b[1;32m    158\u001b[0m             \u001b[0medge_weight\u001b[0m \u001b[0;34m=\u001b[0m \u001b[0mdeg_inv_sqrt\u001b[0m\u001b[0;34m[\u001b[0m\u001b[0mrow\u001b[0m\u001b[0;34m]\u001b[0m \u001b[0;34m*\u001b[0m \u001b[0medge_weight\u001b[0m \u001b[0;34m*\u001b[0m \u001b[0mdeg_inv_sqrt\u001b[0m\u001b[0;34m[\u001b[0m\u001b[0mcol\u001b[0m\u001b[0;34m]\u001b[0m\u001b[0;34m\u001b[0m\u001b[0;34m\u001b[0m\u001b[0m\n\u001b[1;32m    159\u001b[0m         \u001b[0;32melif\u001b[0m \u001b[0mnormalization\u001b[0m \u001b[0;34m==\u001b[0m \u001b[0;34m'col'\u001b[0m\u001b[0;34m:\u001b[0m\u001b[0;34m\u001b[0m\u001b[0;34m\u001b[0m\u001b[0m\n",
      "\u001b[0;31mRuntimeError\u001b[0m: value cannot be converted to type int64_t without overflow: inf"
     ]
    }
   ],
   "source": [
    "my_gdc = gdc(self_loop_weight=1, normalization_in='sym',\n",
    "                normalization_out='col',\n",
    "                diffusion_kwargs=dict(method='ppr', alpha=0.05),\n",
    "                sparsification_kwargs=dict(method='topk', k=128,\n",
    "                                           dim=0), exact=True)\n",
    "data = my_gdc(data)"
   ]
  },
  {
   "cell_type": "markdown",
   "metadata": {},
   "source": [
    "As can be seen - we hit an overflow bug and I think this is because I am trying to run this particular transform on a CPU rather than a GPU. This could be easily fixed since we have GPU access so in this case i'm going to re-add the backbone edge information and save the data object to be reloaded easily in the future.\n",
    "\n",
    "This notebook can just be copied for further processing of population hi-C datasets from future timepoints etc. "
   ]
  },
  {
   "cell_type": "code",
   "execution_count": 102,
   "metadata": {},
   "outputs": [],
   "source": [
    "#Re-adding the backbone edge data\n",
    "data.edge_attr = edge_attr"
   ]
  },
  {
   "cell_type": "markdown",
   "metadata": {},
   "source": [
    "# EXAMPLE GAT MODEL"
   ]
  },
  {
   "cell_type": "code",
   "execution_count": null,
   "metadata": {},
   "outputs": [],
   "source": [
    "data.train_idx = train_idx\n",
    "data.test_idx = test_idx\n",
    "data.val_idx = val_idx"
   ]
  },
  {
   "cell_type": "code",
   "execution_count": null,
   "metadata": {},
   "outputs": [],
   "source": [
    "import os.path as osp\n",
    "\n",
    "import torch\n",
    "import torch.nn.functional as F\n",
    "import torch_geometric.transforms as T\n",
    "from torch_geometric.nn import GATConv\n",
    "\n",
    "class Net(torch.nn.Module):\n",
    "    def __init__(self):\n",
    "        super(Net, self).__init__()\n",
    "        self.conv1 = GATConv(dataset.num_features, 8, heads=8, dropout=0.6)\n",
    "        # On the Pubmed dataset, use heads=8 in conv2.\n",
    "        self.conv2 = GATConv(\n",
    "            8 * 8, 10, heads=1, concat=True, dropout=0.6)\n",
    "\n",
    "    def forward(self):\n",
    "        x = F.dropout(data.x, p=0.8, training=self.train_idx)\n",
    "        x = F.relu(self.conv1(x, data.edge_index))\n",
    "        x = F.dropout(x, p=0.8, training=self.train_idx)\n",
    "        x = self.conv2(x, data.edge_index)\n",
    "        return F.log_softmax(x, dim=1)\n",
    "\n",
    "\n",
    "device = torch.device('cuda' if torch.cuda.is_available() else 'cpu')\n",
    "model, data = Net().to(device), data.to(device)\n",
    "optimizer = torch.optim.Adam(model.parameters(), lr=0.005, weight_decay=5e-4)\n",
    "\n",
    "\n",
    "def train():\n",
    "    model.train()\n",
    "    optimizer.zero_grad()\n",
    "    F.nll_loss(model()[data.train_mask], data.y[data.train_mask]).backward()\n",
    "    optimizer.step()\n",
    "\n",
    "\n",
    "def test():\n",
    "    model.eval()\n",
    "    logits, accs = model(), []\n",
    "    for _, mask in data('train_mask', 'val_mask', 'test_mask'):\n",
    "        pred = logits[mask].max(1)[1]\n",
    "        acc = pred.eq(data.y[mask]).sum().item() / mask.sum().item()\n",
    "        accs.append(acc)\n",
    "    return accs\n",
    "\n",
    "\n",
    "for epoch in range(1, 201):\n",
    "    train()\n",
    "    log = 'Epoch: {:03d}, Train: {:.4f}, Val: {:.4f}, Test: {:.4f}'\n",
    "    print(log.format(epoch, *test()))"
   ]
  },
  {
   "cell_type": "markdown",
   "metadata": {},
   "source": [
    "# Misc Stuff - Ignore"
   ]
  },
  {
   "cell_type": "code",
   "execution_count": 22,
   "metadata": {},
   "outputs": [],
   "source": [
    "def set_node_attributes(G, name, values):\n",
    "    try:\n",
    "        values.items\n",
    "    except AttributeError:\n",
    "        # Treat `value` as the attribute value for each node.\n",
    "        values = dict(zip(G.nodes(), [values] * len(G)))\n",
    "\n",
    "    for node, value in values.items():\n",
    "        G.node[node][name] = value\n",
    "        \n",
    "def set_edge_attributes(G, name, values):\n",
    "    try:\n",
    "        values.items\n",
    "    except AttributeError:\n",
    "        # Treat `value` as the attribute value for each edge.\n",
    "        if G.is_multigraph():\n",
    "            edges = G.edges(keys=True)\n",
    "        else:\n",
    "            edges = G.edges()\n",
    "        values = dict(zip(edges, [values] * len(edges)))\n",
    "\n",
    "    if G.is_multigraph():\n",
    "        for (u, v, key), value in values.items():\n",
    "            G[u][v][key][name] = value\n",
    "    else:\n",
    "        for (u, v), value in values.items():\n",
    "            G[u][v][name] = value\n",
    "\n",
    "def nx_contact_graph(npz_file,\n",
    "                     normalize = True,\n",
    "                     inc_features = False,\n",
    "                     features = {}):\n",
    "    shape, binSize, chr_lims, edge_index, edge_attr = make_ptg_pophic_edge_index(npz_file)  \n",
    "    \n",
    "    print(shape)\n",
    "    #Make our output graph object\n",
    "    G = nx.Graph()\n",
    "    G.add_nodes_from(np.arange(shape[0]))\n",
    "    chroms = [str(i+1) for i in np.arange(19)] + ['X']\n",
    "    set_node_attributes(G, 'chrom', {idx: idx_to_bp(idx, chr_lims, binSize, chroms)[0] for idx in G.nodes()})\n",
    "    set_node_attributes(G, 'bp', {idx: idx_to_bp(idx, chr_lims, binSize, chroms)[1] for idx in G.nodes()})\n",
    "    \n",
    "    if inc_features:\n",
    "        feature_dict = {}\n",
    "        IDdict = {}\n",
    "        for feature in features:\n",
    "            file = features[feature]\n",
    "            try:\n",
    "                IDdf, fvals = load.binDatatrackIDs(file, chrranges, chr_lims, binSize = binSize)\n",
    "                feature_dict[feature] = fvals\n",
    "                IDdict[feature] = IDdf\n",
    "            except:\n",
    "                b = []\n",
    "                r,v = load.load_data_track(file)\n",
    "                for chrom in r:\n",
    "                    for idx in np.arange(r[chrom].shape[0]):\n",
    "                        if abs(r[chrom][idx,1] - r[chrom][idx,0]) > 5e3:\n",
    "                            mean = 0.5*((r[chrom][idx,1] + r[chrom][idx,0]))\n",
    "                            r[chrom][idx, :] = np.array([mean - 1e3, mean + 1e3])\n",
    "                t = load.binDataTrack(r,v, chr_lims, binSize = binSize)\n",
    "                for chrom in chroms:\n",
    "                    b.append(t[chrom])\n",
    "    \n",
    "                b = np.concatenate(b)\n",
    "                b = MMS().fit_transform(b)\n",
    "            \n",
    "                feature_dict[feature] = fvals\n",
    "                \n",
    "                \n",
    "\n",
    "        for feature in feature_dict:\n",
    "            nx.set_node_attributes(G, feature, {idx: features[key][idx]})\n",
    "        for feature in ID_dict:\n",
    "            ID_attr = {}\n",
    "            for val in set(ID_dict[feature].values[0,:]):\n",
    "                idxs = np.where(ID_dict[feature].values[0,:] == val)\n",
    "                ID_attr[val] = ID_dict.columns.values[idxs]\n",
    "            nx.set_node_attributes(G, feature + \"_IDs\", ID_attr)\n",
    "    \n",
    "    G.add_edges_from([(edge_index[0,idx], edge_index[1,idx]) for idx in np.arange(edge_index.shape[1])])\n",
    "    set_edge_attributes(G, 'backbone', {(edge_index[0,idx], edge_index[1,idx]): edge_attr[idx,1] for idx in np.arange(edge_index.shape[1])})\n",
    "    set_edge_attributes(G, 'freq', {(edge_index[0,idx], edge_index[1,idx]): edge_attr[idx,0] for idx in np.arange(edge_index.shape[1])})\n",
    "    \n",
    "    return G, chr_lims, binSize   \n",
    "\n",
    "def get_local_contact_graph(G,\n",
    "                            chrom,\n",
    "                            pos,\n",
    "                            numhops,\n",
    "                            binSize = 1e5,\n",
    "                            ncutoff = 50):\n",
    "    \n",
    "    chroms = [str(i+1) for i in np.arange(19)] + ['X']\n",
    "    idx = bp_to_idx(pos, chrom, chr_lims, binSize, chroms)\n",
    "    \n",
    "    cutoffnodes = nx.single_source_shortest_path_length(graph, idx, cutoff=numhops)\n",
    "    \n",
    "    subG = graph.subgraph([idx for idx in cutoffnodes])\n",
    "    \n",
    "    cutoffedges = [(item[0], item[1], item[2]['freq']) for item in subG.edges(data = True)]\n",
    "    idxs = np.argsort(np.array([item[2] for item in cutoffedges]))\n",
    "    \n",
    "    \n",
    "    closeedges = [cutoffedges[idx] for idx in idxs[:ncutoff]]\n",
    "    closenodes = list(set([item[0] for item in closeedges] + [item[1] for item in closeedges]))\n",
    "    \n",
    "    nsubG = subG.subgraph(closenodes)\n",
    "    \n",
    "    return nsubG, nodename"
   ]
  },
  {
   "cell_type": "code",
   "execution_count": 8,
   "metadata": {},
   "outputs": [
    {
     "name": "stdout",
     "output_type": "stream",
     "text": [
      "(51456, 51456)\n"
     ]
    }
   ],
   "source": [
    "G, chrlims, binSize = nx_contact_graph(pophic[0])"
   ]
  },
  {
   "cell_type": "code",
   "execution_count": 10,
   "metadata": {},
   "outputs": [
    {
     "ename": "NameError",
     "evalue": "name 'chr_lims' is not defined",
     "output_type": "error",
     "traceback": [
      "\u001b[0;31m---------------------------------------------------------------------------\u001b[0m",
      "\u001b[0;31mNameError\u001b[0m                                 Traceback (most recent call last)",
      "\u001b[0;32m<ipython-input-10-b2f7509a641f>\u001b[0m in \u001b[0;36m<module>\u001b[0;34m()\u001b[0m\n\u001b[0;32m----> 1\u001b[0;31m \u001b[0mget_local_contact_graph\u001b[0m\u001b[0;34m(\u001b[0m\u001b[0mG\u001b[0m\u001b[0;34m,\u001b[0m\u001b[0;34m'12'\u001b[0m\u001b[0;34m,\u001b[0m\u001b[0;36m6000000\u001b[0m\u001b[0;34m,\u001b[0m\u001b[0;36m1\u001b[0m\u001b[0;34m,\u001b[0m\u001b[0mbinSize\u001b[0m \u001b[0;34m=\u001b[0m \u001b[0;36m1e5\u001b[0m\u001b[0;34m,\u001b[0m\u001b[0mncutoff\u001b[0m \u001b[0;34m=\u001b[0m \u001b[0;36m50\u001b[0m\u001b[0;34m)\u001b[0m\u001b[0;34m\u001b[0m\u001b[0;34m\u001b[0m\u001b[0m\n\u001b[0m",
      "\u001b[0;32m<ipython-input-7-8f00d35dd35f>\u001b[0m in \u001b[0;36mget_local_contact_graph\u001b[0;34m(G, chrom, pos, numhops, binSize, ncutoff)\u001b[0m\n\u001b[1;32m     92\u001b[0m \u001b[0;34m\u001b[0m\u001b[0m\n\u001b[1;32m     93\u001b[0m     \u001b[0mchroms\u001b[0m \u001b[0;34m=\u001b[0m \u001b[0;34m[\u001b[0m\u001b[0mstr\u001b[0m\u001b[0;34m(\u001b[0m\u001b[0mi\u001b[0m\u001b[0;34m+\u001b[0m\u001b[0;36m1\u001b[0m\u001b[0;34m)\u001b[0m \u001b[0;32mfor\u001b[0m \u001b[0mi\u001b[0m \u001b[0;32min\u001b[0m \u001b[0mnp\u001b[0m\u001b[0;34m.\u001b[0m\u001b[0marange\u001b[0m\u001b[0;34m(\u001b[0m\u001b[0;36m19\u001b[0m\u001b[0;34m)\u001b[0m\u001b[0;34m]\u001b[0m \u001b[0;34m+\u001b[0m \u001b[0;34m[\u001b[0m\u001b[0;34m'X'\u001b[0m\u001b[0;34m]\u001b[0m\u001b[0;34m\u001b[0m\u001b[0;34m\u001b[0m\u001b[0m\n\u001b[0;32m---> 94\u001b[0;31m     \u001b[0midx\u001b[0m \u001b[0;34m=\u001b[0m \u001b[0mbp_to_idx\u001b[0m\u001b[0;34m(\u001b[0m\u001b[0mpos\u001b[0m\u001b[0;34m,\u001b[0m \u001b[0mchrom\u001b[0m\u001b[0;34m,\u001b[0m \u001b[0mchr_lims\u001b[0m\u001b[0;34m,\u001b[0m \u001b[0mbinSize\u001b[0m\u001b[0;34m,\u001b[0m \u001b[0mchroms\u001b[0m\u001b[0;34m)\u001b[0m\u001b[0;34m\u001b[0m\u001b[0;34m\u001b[0m\u001b[0m\n\u001b[0m\u001b[1;32m     95\u001b[0m \u001b[0;34m\u001b[0m\u001b[0m\n\u001b[1;32m     96\u001b[0m     \u001b[0mcutoffnodes\u001b[0m \u001b[0;34m=\u001b[0m \u001b[0mnx\u001b[0m\u001b[0;34m.\u001b[0m\u001b[0msingle_source_shortest_path_length\u001b[0m\u001b[0;34m(\u001b[0m\u001b[0mgraph\u001b[0m\u001b[0;34m,\u001b[0m \u001b[0midx\u001b[0m\u001b[0;34m,\u001b[0m \u001b[0mcutoff\u001b[0m\u001b[0;34m=\u001b[0m\u001b[0mnumhops\u001b[0m\u001b[0;34m)\u001b[0m\u001b[0;34m\u001b[0m\u001b[0;34m\u001b[0m\u001b[0m\n",
      "\u001b[0;31mNameError\u001b[0m: name 'chr_lims' is not defined"
     ]
    }
   ],
   "source": [
    "get_local_contact_graph(G,'12',6000000,1,binSize = 1e5,ncutoff = 50)"
   ]
  },
  {
   "cell_type": "code",
   "execution_count": null,
   "metadata": {},
   "outputs": [],
   "source": [
    "def draw_local_graph_spring_pos(G,\n",
    "                                chrom,\n",
    "                                pos,\n",
    "                                numhops,\n",
    "                                locusname = '',\n",
    "                                binSize = 1e5,\n",
    "                                gtype = 'contact',\n",
    "                                num_nearest = 50,\n",
    "                                cellname = ''\n",
    "                               ):\n",
    "\n",
    "    mpl.rcParams['figure.figsize'] = (10,10)\n",
    "   \n",
    "    if gtype == 'contact':   \n",
    "        temp, centralnode = get_local_contact_graph(G, chrom, pos, numhops, binSize = binSize, ncutoff = 50)\n",
    "    else:\n",
    "        temp, centralnode = get_local_contact_graph(G, chrom, pos, 1, binSize = binSize, ncutoff = 50)\n",
    "\n",
    "    \n",
    "    pos=nx.spring_layout(temp)\n",
    "    chroms = [item.split(\"/\")[0]for item in temp.nodes()]\n",
    "        \n",
    "    print(temp.nodes())\n",
    "    backbone_edges = [item for item in temp.edges() if \n",
    "            ((abs(int(item[0].split(\"/\")[-1]) - int(item[1].split(\"/\")[-1])) < 1.5*binSize) and\n",
    "            (item[0].split(\"/\")[0] == item[1].split(\"/\")[0]))]\n",
    "    non_backbone_edges = [item for item in temp.edges() if item not in backbone_edges]\n",
    "    involved_chroms = list(set(chroms))\n",
    "    involved_chroms = [centralnode.split(\"/\")[0]] + [item for item in involved_chroms if centralnode.split(\"/\")[0] not in item]\n",
    "\n",
    "    cmap = plt.cm.Set1\n",
    "    colors = {chrom: mplc.to_hex(cmap(idx)) for idx, chrom in enumerate(involved_chroms)}\n",
    "\n",
    "\n",
    "    for idx,chrom in enumerate(involved_chroms):\n",
    "        chromlabel = True\n",
    "        chr_edges = [item for item in backbone_edges if chrom in item[0].split(\"/\")[0]]\n",
    "        chr_nodes = [item for item in temp.nodes() if chrom in item.split(\"/\")[0]]\n",
    "    \n",
    "\n",
    "        edge_cols = np.full(len(chr_edges), idx)\n",
    "        node_cols = np.full(len(chr_nodes), idx)\n",
    "    \n",
    "        if len(chr_edges) > 0:\n",
    "            if chromlabel:\n",
    "                nx.draw_networkx_edges(temp,\n",
    "                               pos,\n",
    "                               edgelist = chr_edges,\n",
    "                               width = 2.0,\n",
    "                               edge_color = colors[chrom],\n",
    "                               label = \"Chr{} Backbone\".format(chrom))\n",
    "            else:\n",
    "                nx.draw_networkx_edges(temp,\n",
    "                               pos,\n",
    "                               edgelist = chr_edges, \n",
    "                               width = 2.0,\n",
    "                               edge_color = colors[chrom])\n",
    "                chromlabel = False\n",
    "            \n",
    "            nx.draw_networkx_nodes(temp,\n",
    "                           pos,\n",
    "                           nodelist = chr_nodes,\n",
    "                           node_size = 10,\n",
    "                           node_color = colors[chrom],\n",
    "                           with_labels = False)\n",
    "        else:\n",
    "            nx.draw_networkx_nodes(temp,\n",
    "                           pos,\n",
    "                           nodelist = chr_nodes,\n",
    "                           node_size = 10,\n",
    "                           node_color = colors[chrom],\n",
    "                           with_labels = False, label = \"Chr {}\".format(chrom))\n",
    "\n",
    "    \n",
    "    if gtype == 'contact':\n",
    "        nx.draw_networkx_edges(temp, pos, edge_color = 'black', style = 'dashed', alpha = 0.2, label = 'snHi-C Contact')\n",
    "    else:\n",
    "        dists = [edge[-1] for edge in temp.edges(data='weight')]\n",
    "        maxdist = np.max(dists)\n",
    "        mindist = np.min(dists)\n",
    "        for edge in temp.edges(data='weight'):\n",
    "            dist = edge[-1]\n",
    "            alpha = 0.1 + 0.8*(dist - mindist)/(maxdist - mindist)\n",
    "            nx.draw_networkx_edges(temp, pos, edgelist = [edge], edge_color = 'black', style = 'dashed', alpha = alpha)\n",
    "\n",
    "    # Draw ego as large and red\n",
    "    nx.draw_networkx_nodes(temp,pos,nodelist=[centralnode],node_size=400,node_color= '#ff00ffff', label = locusname)\n",
    "    plt.legend(markerscale = 0.5, prop={'size':15}, bbox_to_anchor = [1.1,1])\n",
    "    plt.title(\"Local {} Graph Structure, Cell {}\".format(locusname, cellname), size = 15)\n",
    "    plt.xticks([],[])\n",
    "    plt.yticks([],[])  "
   ]
  },
  {
   "cell_type": "code",
   "execution_count": null,
   "metadata": {},
   "outputs": [],
   "source": [
    "def get_local_contact_graph(graph, chrom, pos, numhops, binSize = 1e5, ncutoff = 50):\n",
    "    roundedpos = int(np.floor(pos/binSize)*binSize)\n",
    "    nodename = str(chrom) + \"/\" + str(roundedpos)\n",
    "    \n",
    "    cutoffnodes = nx.single_source_shortest_path_length(graph, nodename, cutoff=numhops)\n",
    "    \n",
    "    subG = graph.subgraph([key for key in cutoffnodes])\n",
    "    \n",
    "    cutoffedges = [(item[0], item[1], item[2]['weight']) for item in subG.edges(data = True)]\n",
    "    idxs = np.argsort(np.array([item[2] for item in cutoffedges]))\n",
    "    \n",
    "    \n",
    "    closeedges = [cutoffedges[idx] for idx in idxs[:ncutoff]]\n",
    "    closenodes = list(set([item[0] for item in closeedges] + [item[1] for item in closeedges]))\n",
    "    \n",
    "    nsubG = subG.subgraph(closenodes)\n",
    "    \n",
    "    return nsubG, nodename"
   ]
  },
  {
   "cell_type": "code",
   "execution_count": null,
   "metadata": {},
   "outputs": [],
   "source": [
    "G, lims, binSize = contact_graph(pophic[0])"
   ]
  },
  {
   "cell_type": "code",
   "execution_count": null,
   "metadata": {},
   "outputs": [],
   "source": [
    "temp, n = get_local_contact_graph(G,'chr6',12000000, 1, binSize = 5e4)"
   ]
  },
  {
   "cell_type": "code",
   "execution_count": null,
   "metadata": {
    "scrolled": true
   },
   "outputs": [],
   "source": [
    "draw_local_graph_spring_pos(G,\n",
    "                            'chr6',\n",
    "                            12000000,\n",
    "                            1,\n",
    "                            locusname = '',\n",
    "                            binSize = 5e4,\n",
    "                            gtype = 'dist',\n",
    "                            num_nearest = 10)"
   ]
  },
  {
   "cell_type": "code",
   "execution_count": null,
   "metadata": {},
   "outputs": [],
   "source": []
  }
 ],
 "metadata": {
  "kernelspec": {
   "display_name": "Python 3",
   "language": "python",
   "name": "python3"
  },
  "language_info": {
   "codemirror_mode": {
    "name": "ipython",
    "version": 3
   },
   "file_extension": ".py",
   "mimetype": "text/x-python",
   "name": "python",
   "nbconvert_exporter": "python",
   "pygments_lexer": "ipython3",
   "version": "3.7.4+"
  }
 },
 "nbformat": 4,
 "nbformat_minor": 2
}
