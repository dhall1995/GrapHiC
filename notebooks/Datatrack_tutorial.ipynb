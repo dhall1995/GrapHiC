{
 "cells": [
  {
   "cell_type": "markdown",
   "metadata": {},
   "source": [
    "# Datatrack.py Tutorial\n",
    "Datatracks are the bread and butter of a great deal of research computational biology. After much of the preprocessing of experimental sequencing data we are usually left with a file which in some way details how some measurement of interest varies across the genome. The simplest way of thinking about a datatrack is just as a function which can take real values. If we let $\\mathbf{C}$ be the set of chromosomes then we might define a datatrack as a function:\n",
    "\n",
    "\n",
    "\\begin{equation}\n",
    "    f: \\mathbb{N}_{+}\\times\\mathbf{C} \\to \\mathbb{R}\n",
    "\\end{equation}\n",
    "\n",
    "Where we input a positive integer and chromosome and we get a real value. This value could, for example, tell us about the strength of binding of a given protein to a given basepair. Or it could be the number of reads which we observe at that basepair.\n",
    "\n",
    "### The DataTrack Class\n",
    "Simple and quick manipulation of the functions which we come across for various ChIPseq datasets (or, for example, DNA methylation dataset datasets) vastly increases the speed at which different hypotheses can be tested. Being able to keep track of variables also greatly reduces mental load! The Datatrack class is a quick way to load up data from standard data sources and interrogate them to find out properties of the underlying functions which they represent. \n",
    "\n",
    "### dtrack_utils\n",
    "The Datatrack class makes heavy use of a cython module called GrapHiC.utils.dtrack_utils. Mastering this module will allow users to implement much more complicated things than in this notebook. However, the datatrack class is useful as-is for a lot of analysis. It's been implemented in cython so that many of the most common tasks such as overlapping two datatracks or collecting statistics on some group of regions can be done faster than would be possible in python.\n"
   ]
  },
  {
   "cell_type": "markdown",
   "metadata": {},
   "source": [
    "## Importing Modules"
   ]
  },
  {
   "cell_type": "code",
   "execution_count": 22,
   "metadata": {},
   "outputs": [],
   "source": [
    "#dtrack_utils Cython Module\n",
    "#from GrapHiC.utils import dtrack_utils as dtu\n",
    "#Numpy is always useful for numerical manipulation\n",
    "import numpy as np\n",
    "import itertools\n",
    "import pandas as pd\n",
    "#Import our datatrack classes!\n",
    "from GrapHiC.utils.Datatrack import DataTrack_rvp as dtrvp\n",
    "from GrapHiC.utils.Datatrack import DataTrack_bigwig as dtbw\n",
    "\n",
    "from GrapHiC.Datatrack_creation import evaluate_tracks_over_cooler_bins, evaluate_tracks_over_bed_dataframe"
   ]
  },
  {
   "cell_type": "markdown",
   "metadata": {},
   "source": [
    "# Basic Datatrack creation over cooler bins\n",
    "\n",
    "One of the basic things to do with datatracks is to collect statistics for those tracks over hi-C data for each bin. We can do this using the evaluate_tracks_over_cooler_bins function:"
   ]
  },
  {
   "cell_type": "code",
   "execution_count": 23,
   "metadata": {},
   "outputs": [],
   "source": [
    "contact_path = 'tutorial_data/WT_contacts.cool'\n",
    "nanog_peaks = \"tutorial_data/GSEXXXXXHendrich20161026_Nanog_ESC_peaks.bed\"\n",
    "nanog_bigwig = \"tutorial_data/GSE71932_Nanog_mESCs_treat_pileup_filter.bw\""
   ]
  },
  {
   "cell_type": "code",
   "execution_count": 24,
   "metadata": {},
   "outputs": [
    {
     "name": "stdout",
     "output_type": "stream",
     "text": [
      "nanog_bigwig tutorial_data/GSEXXXXXHendrich20161026_Nanog_ESC_peaks.bed\n",
      "\tmean\n",
      "\tmax\n",
      "\tstd\n",
      "nanog_peaks tutorial_data/GSE71932_Nanog_mESCs_treat_pileup_filter.bw\n",
      "\tmean\n",
      "\tmax\n",
      "\tstd\n"
     ]
    },
    {
     "data": {
      "text/html": [
       "<div>\n",
       "<style scoped>\n",
       "    .dataframe tbody tr th:only-of-type {\n",
       "        vertical-align: middle;\n",
       "    }\n",
       "\n",
       "    .dataframe tbody tr th {\n",
       "        vertical-align: top;\n",
       "    }\n",
       "\n",
       "    .dataframe thead th {\n",
       "        text-align: right;\n",
       "    }\n",
       "</style>\n",
       "<table border=\"1\" class=\"dataframe\">\n",
       "  <thead>\n",
       "    <tr style=\"text-align: right;\">\n",
       "      <th></th>\n",
       "      <th>nanog_bigwig_mean</th>\n",
       "      <th>nanog_bigwig_max</th>\n",
       "      <th>nanog_bigwig_std</th>\n",
       "      <th>nanog_peaks_mean</th>\n",
       "      <th>nanog_peaks_max</th>\n",
       "      <th>nanog_peaks_std</th>\n",
       "    </tr>\n",
       "  </thead>\n",
       "  <tbody>\n",
       "    <tr>\n",
       "      <th>0</th>\n",
       "      <td>0.0</td>\n",
       "      <td>0.0</td>\n",
       "      <td>0.0</td>\n",
       "      <td>0.0</td>\n",
       "      <td>0.0</td>\n",
       "      <td>0.0</td>\n",
       "    </tr>\n",
       "    <tr>\n",
       "      <th>1</th>\n",
       "      <td>0.0</td>\n",
       "      <td>0.0</td>\n",
       "      <td>0.0</td>\n",
       "      <td>0.0</td>\n",
       "      <td>0.0</td>\n",
       "      <td>0.0</td>\n",
       "    </tr>\n",
       "    <tr>\n",
       "      <th>2</th>\n",
       "      <td>0.0</td>\n",
       "      <td>0.0</td>\n",
       "      <td>0.0</td>\n",
       "      <td>0.0</td>\n",
       "      <td>0.0</td>\n",
       "      <td>0.0</td>\n",
       "    </tr>\n",
       "    <tr>\n",
       "      <th>3</th>\n",
       "      <td>0.0</td>\n",
       "      <td>0.0</td>\n",
       "      <td>0.0</td>\n",
       "      <td>0.0</td>\n",
       "      <td>0.0</td>\n",
       "      <td>0.0</td>\n",
       "    </tr>\n",
       "    <tr>\n",
       "      <th>4</th>\n",
       "      <td>0.0</td>\n",
       "      <td>0.0</td>\n",
       "      <td>0.0</td>\n",
       "      <td>0.0</td>\n",
       "      <td>0.0</td>\n",
       "      <td>0.0</td>\n",
       "    </tr>\n",
       "    <tr>\n",
       "      <th>...</th>\n",
       "      <td>...</td>\n",
       "      <td>...</td>\n",
       "      <td>...</td>\n",
       "      <td>...</td>\n",
       "      <td>...</td>\n",
       "      <td>...</td>\n",
       "    </tr>\n",
       "    <tr>\n",
       "      <th>26346</th>\n",
       "      <td>0.0</td>\n",
       "      <td>0.0</td>\n",
       "      <td>0.0</td>\n",
       "      <td>0.0</td>\n",
       "      <td>0.0</td>\n",
       "      <td>0.0</td>\n",
       "    </tr>\n",
       "    <tr>\n",
       "      <th>26347</th>\n",
       "      <td>0.0</td>\n",
       "      <td>0.0</td>\n",
       "      <td>0.0</td>\n",
       "      <td>0.10049</td>\n",
       "      <td>6.0</td>\n",
       "      <td>0.586188</td>\n",
       "    </tr>\n",
       "    <tr>\n",
       "      <th>26348</th>\n",
       "      <td>0.0</td>\n",
       "      <td>0.0</td>\n",
       "      <td>0.0</td>\n",
       "      <td>0.092287</td>\n",
       "      <td>6.0</td>\n",
       "      <td>0.501517</td>\n",
       "    </tr>\n",
       "    <tr>\n",
       "      <th>26349</th>\n",
       "      <td>0.0</td>\n",
       "      <td>0.0</td>\n",
       "      <td>0.0</td>\n",
       "      <td>0.147928</td>\n",
       "      <td>3.0</td>\n",
       "      <td>0.489231</td>\n",
       "    </tr>\n",
       "    <tr>\n",
       "      <th>26350</th>\n",
       "      <td>0.0</td>\n",
       "      <td>0.0</td>\n",
       "      <td>0.0</td>\n",
       "      <td>0.0</td>\n",
       "      <td>0.0</td>\n",
       "      <td>0.0</td>\n",
       "    </tr>\n",
       "  </tbody>\n",
       "</table>\n",
       "<p>5488 rows × 6 columns</p>\n",
       "</div>"
      ],
      "text/plain": [
       "      nanog_bigwig_mean nanog_bigwig_max nanog_bigwig_std nanog_peaks_mean  \\\n",
       "0                   0.0              0.0              0.0              0.0   \n",
       "1                   0.0              0.0              0.0              0.0   \n",
       "2                   0.0              0.0              0.0              0.0   \n",
       "3                   0.0              0.0              0.0              0.0   \n",
       "4                   0.0              0.0              0.0              0.0   \n",
       "...                 ...              ...              ...              ...   \n",
       "26346               0.0              0.0              0.0              0.0   \n",
       "26347               0.0              0.0              0.0          0.10049   \n",
       "26348               0.0              0.0              0.0         0.092287   \n",
       "26349               0.0              0.0              0.0         0.147928   \n",
       "26350               0.0              0.0              0.0              0.0   \n",
       "\n",
       "      nanog_peaks_max nanog_peaks_std  \n",
       "0                 0.0             0.0  \n",
       "1                 0.0             0.0  \n",
       "2                 0.0             0.0  \n",
       "3                 0.0             0.0  \n",
       "4                 0.0             0.0  \n",
       "...               ...             ...  \n",
       "26346             0.0             0.0  \n",
       "26347             6.0        0.586188  \n",
       "26348             6.0        0.501517  \n",
       "26349             3.0        0.489231  \n",
       "26350             0.0             0.0  \n",
       "\n",
       "[5488 rows x 6 columns]"
      ]
     },
     "execution_count": 24,
     "metadata": {},
     "output_type": "execute_result"
    }
   ],
   "source": [
    "df = evaluate_tracks_over_cooler_bins(contact_path,\n",
    "                             paths = [nanog_peaks,nanog_bigwig],\n",
    "                             names = ['nanog_bigwig','nanog_peaks'],\n",
    "                             stats_types = ['mean','max','std'],\n",
    "                             allowed_chroms = ['chr1','chr2','chrX'],\n",
    "                                      value_col = 4\n",
    "                            )\n",
    "df"
   ]
  },
  {
   "cell_type": "markdown",
   "metadata": {},
   "source": [
    "## Evaluation over arbitrary regions\n",
    "alternatively, we can evaluate datatracks over arbitrary regions specificed by a bed file. Let's take a look at some regions of active promoters:"
   ]
  },
  {
   "cell_type": "code",
   "execution_count": 25,
   "metadata": {},
   "outputs": [
    {
     "name": "stdout",
     "output_type": "stream",
     "text": [
      "nanog_bigwig tutorial_data/GSEXXXXXHendrich20161026_Nanog_ESC_peaks.bed\n",
      "\tmean\n",
      "\tmax\n",
      "\tstd\n",
      "nanog_peaks tutorial_data/GSE71932_Nanog_mESCs_treat_pileup_filter.bw\n",
      "\tmean\n",
      "\tmax\n",
      "\tstd\n"
     ]
    },
    {
     "data": {
      "text/html": [
       "<div>\n",
       "<style scoped>\n",
       "    .dataframe tbody tr th:only-of-type {\n",
       "        vertical-align: middle;\n",
       "    }\n",
       "\n",
       "    .dataframe tbody tr th {\n",
       "        vertical-align: top;\n",
       "    }\n",
       "\n",
       "    .dataframe thead th {\n",
       "        text-align: right;\n",
       "    }\n",
       "</style>\n",
       "<table border=\"1\" class=\"dataframe\">\n",
       "  <thead>\n",
       "    <tr style=\"text-align: right;\">\n",
       "      <th></th>\n",
       "      <th>nanog_bigwig_mean</th>\n",
       "      <th>nanog_bigwig_max</th>\n",
       "      <th>nanog_bigwig_std</th>\n",
       "      <th>nanog_peaks_mean</th>\n",
       "      <th>nanog_peaks_max</th>\n",
       "      <th>nanog_peaks_std</th>\n",
       "    </tr>\n",
       "  </thead>\n",
       "  <tbody>\n",
       "    <tr>\n",
       "      <th>0</th>\n",
       "      <td>0.00000</td>\n",
       "      <td>0.0</td>\n",
       "      <td>0.000000</td>\n",
       "      <td>7.225386</td>\n",
       "      <td>37.0</td>\n",
       "      <td>7.559524</td>\n",
       "    </tr>\n",
       "    <tr>\n",
       "      <th>1</th>\n",
       "      <td>0.00000</td>\n",
       "      <td>0.0</td>\n",
       "      <td>0.000000</td>\n",
       "      <td>4.174326</td>\n",
       "      <td>13.0</td>\n",
       "      <td>2.608505</td>\n",
       "    </tr>\n",
       "    <tr>\n",
       "      <th>2</th>\n",
       "      <td>0.00000</td>\n",
       "      <td>0.0</td>\n",
       "      <td>0.000000</td>\n",
       "      <td>3.006454</td>\n",
       "      <td>9.0</td>\n",
       "      <td>1.850368</td>\n",
       "    </tr>\n",
       "    <tr>\n",
       "      <th>3</th>\n",
       "      <td>0.00000</td>\n",
       "      <td>0.0</td>\n",
       "      <td>0.000000</td>\n",
       "      <td>3.074620</td>\n",
       "      <td>8.0</td>\n",
       "      <td>1.882457</td>\n",
       "    </tr>\n",
       "    <tr>\n",
       "      <th>4</th>\n",
       "      <td>7.74675</td>\n",
       "      <td>99.0</td>\n",
       "      <td>26.587894</td>\n",
       "      <td>4.073532</td>\n",
       "      <td>16.0</td>\n",
       "      <td>3.523583</td>\n",
       "    </tr>\n",
       "    <tr>\n",
       "      <th>...</th>\n",
       "      <td>...</td>\n",
       "      <td>...</td>\n",
       "      <td>...</td>\n",
       "      <td>...</td>\n",
       "      <td>...</td>\n",
       "      <td>...</td>\n",
       "    </tr>\n",
       "    <tr>\n",
       "      <th>10208</th>\n",
       "      <td>0.00000</td>\n",
       "      <td>0.0</td>\n",
       "      <td>0.000000</td>\n",
       "      <td>2.200084</td>\n",
       "      <td>6.0</td>\n",
       "      <td>1.574169</td>\n",
       "    </tr>\n",
       "    <tr>\n",
       "      <th>10209</th>\n",
       "      <td>0.00000</td>\n",
       "      <td>0.0</td>\n",
       "      <td>0.000000</td>\n",
       "      <td>1.917015</td>\n",
       "      <td>8.0</td>\n",
       "      <td>1.600306</td>\n",
       "    </tr>\n",
       "    <tr>\n",
       "      <th>10210</th>\n",
       "      <td>0.00000</td>\n",
       "      <td>0.0</td>\n",
       "      <td>0.000000</td>\n",
       "      <td>2.287324</td>\n",
       "      <td>18.0</td>\n",
       "      <td>2.841367</td>\n",
       "    </tr>\n",
       "    <tr>\n",
       "      <th>10211</th>\n",
       "      <td>0.00000</td>\n",
       "      <td>0.0</td>\n",
       "      <td>0.000000</td>\n",
       "      <td>1.609052</td>\n",
       "      <td>5.0</td>\n",
       "      <td>1.164586</td>\n",
       "    </tr>\n",
       "    <tr>\n",
       "      <th>10212</th>\n",
       "      <td>0.00000</td>\n",
       "      <td>0.0</td>\n",
       "      <td>0.000000</td>\n",
       "      <td>2.955551</td>\n",
       "      <td>14.0</td>\n",
       "      <td>3.159173</td>\n",
       "    </tr>\n",
       "  </tbody>\n",
       "</table>\n",
       "<p>10213 rows × 6 columns</p>\n",
       "</div>"
      ],
      "text/plain": [
       "       nanog_bigwig_mean  nanog_bigwig_max  nanog_bigwig_std  \\\n",
       "0                0.00000               0.0          0.000000   \n",
       "1                0.00000               0.0          0.000000   \n",
       "2                0.00000               0.0          0.000000   \n",
       "3                0.00000               0.0          0.000000   \n",
       "4                7.74675              99.0         26.587894   \n",
       "...                  ...               ...               ...   \n",
       "10208            0.00000               0.0          0.000000   \n",
       "10209            0.00000               0.0          0.000000   \n",
       "10210            0.00000               0.0          0.000000   \n",
       "10211            0.00000               0.0          0.000000   \n",
       "10212            0.00000               0.0          0.000000   \n",
       "\n",
       "       nanog_peaks_mean  nanog_peaks_max  nanog_peaks_std  \n",
       "0              7.225386             37.0         7.559524  \n",
       "1              4.174326             13.0         2.608505  \n",
       "2              3.006454              9.0         1.850368  \n",
       "3              3.074620              8.0         1.882457  \n",
       "4              4.073532             16.0         3.523583  \n",
       "...                 ...              ...              ...  \n",
       "10208          2.200084              6.0         1.574169  \n",
       "10209          1.917015              8.0         1.600306  \n",
       "10210          2.287324             18.0         2.841367  \n",
       "10211          1.609052              5.0         1.164586  \n",
       "10212          2.955551             14.0         3.159173  \n",
       "\n",
       "[10213 rows x 6 columns]"
      ]
     },
     "execution_count": 25,
     "metadata": {},
     "output_type": "execute_result"
    }
   ],
   "source": [
    "df = pd.read_table(\"tutorial_data/active_promoters.csv\")\n",
    "\n",
    "colnames, arr = evaluate_tracks_over_bed_dataframe(df,\n",
    "                             paths = [nanog_peaks,nanog_bigwig],\n",
    "                             names = ['nanog_bigwig','nanog_peaks'],\n",
    "                             stats_types = ['mean','max','std'],\n",
    "                             value_col = 4\n",
    "                            )\n",
    "pd.DataFrame(data = arr, columns = colnames)"
   ]
  },
  {
   "cell_type": "markdown",
   "metadata": {},
   "source": [
    "# Region-Value Pair Datatracks\n",
    "## BED format files\n",
    "One of the most common formats for storing datatracks is in region-value-pair format. That is, on each chromosome we simple detail the regions where the function $f$ takes nonzero values and we specify the value that the function takes in that region. Below is an example of bed file created for a Nanog ChIPseq from naive embryonic stem cells:"
   ]
  },
  {
   "cell_type": "code",
   "execution_count": 27,
   "metadata": {},
   "outputs": [
    {
     "name": "stdout",
     "output_type": "stream",
     "text": [
      "chr1\t3062626\t3063246\tGSEXXXXXHendrich20161026_Nanog_ESC_peak_1\t1091\r\n",
      "chr1\t3445421\t3446366\tGSEXXXXXHendrich20161026_Nanog_ESC_peak_2\t658\r\n",
      "chr1\t3681365\t3681811\tGSEXXXXXHendrich20161026_Nanog_ESC_peak_3\t48\r\n",
      "chr1\t3947036\t3947306\tGSEXXXXXHendrich20161026_Nanog_ESC_peak_4\t55\r\n",
      "chr1\t4150783\t4151277\tGSEXXXXXHendrich20161026_Nanog_ESC_peak_5\t1017\r\n",
      "chr1\t4447859\t4448346\tGSEXXXXXHendrich20161026_Nanog_ESC_peak_6\t329\r\n",
      "chr1\t4611937\t4612228\tGSEXXXXXHendrich20161026_Nanog_ESC_peak_7\t104\r\n",
      "chr1\t4660171\t4660590\tGSEXXXXXHendrich20161026_Nanog_ESC_peak_8\t195\r\n",
      "chr1\t4802495\t4802928\tGSEXXXXXHendrich20161026_Nanog_ESC_peak_9\t424\r\n",
      "chr1\t4819456\t4819933\tGSEXXXXXHendrich20161026_Nanog_ESC_peak_10\t346\r\n"
     ]
    }
   ],
   "source": [
    "!head tutorial_data/GSEXXXXXHendrich20161026_Nanog_ESC_peaks.bed"
   ]
  },
  {
   "cell_type": "markdown",
   "metadata": {},
   "source": [
    "We can see that there is chromosome information in collumn zero, then a region start collumn, a region end collumn, some unique IDs for each peak and then a value collumn detailing the size of the function at each peak. Lets go ahead and load this information into a DataTrack_rvp object (the rvp stands for region-value-pairs) using the .from_bed() method:"
   ]
  },
  {
   "cell_type": "code",
   "execution_count": 28,
   "metadata": {},
   "outputs": [
    {
     "data": {
      "text/plain": [
       "<GrapHiC.utils.Datatrack.DataTrack_rvp at 0x7fd6ed2ae510>"
      ]
     },
     "execution_count": 28,
     "metadata": {},
     "output_type": "execute_result"
    }
   ],
   "source": [
    "#In order to initialise our Datatrack all we need to do is specify a name. So lets create datatrack object\n",
    "#with name nanog and save it in the variable nanog\n",
    "nanog = dtrvp(\"Nanog\")\n",
    "\n",
    "#Lets now construct the datatrack from the bed file\n",
    "nanog.from_bed(nanog_peaks,\n",
    "               chrom_col = 0, #What collumn is our chromosome information in?\n",
    "               region_cols = (1,2), #What collumns are our region start and region end?\n",
    "               value_col = 4, #What collumns are our values in?\n",
    "               ID_col = 3) #What collumns are our region IDs in?)"
   ]
  },
  {
   "cell_type": "markdown",
   "metadata": {},
   "source": [
    "Note that we could also ignore the ID and value information and simply put all values as a constant:"
   ]
  },
  {
   "cell_type": "code",
   "execution_count": 29,
   "metadata": {},
   "outputs": [],
   "source": [
    "nanog = dtrvp(\"Nanog\").from_bed(nanog_peaks,\n",
    "                                chrom_col = 0, #What collumn is our chromosome information in?\n",
    "                                region_cols = (1,2), #What collumns are our region start and region end?\n",
    "                                value_col = None, #What collumns are our values in?\n",
    "                                value_fill = 1,\n",
    "                                ID_col = None)"
   ]
  },
  {
   "cell_type": "markdown",
   "metadata": {},
   "source": [
    "Now we can take a look at the data which is in our datatrack object:"
   ]
  },
  {
   "cell_type": "code",
   "execution_count": 30,
   "metadata": {},
   "outputs": [
    {
     "data": {
      "text/plain": [
       "array([[  3062626,   3063246],\n",
       "       [  3445421,   3446366],\n",
       "       [  3681365,   3681811],\n",
       "       ...,\n",
       "       [194354695, 194354978],\n",
       "       [194472371, 194472801],\n",
       "       [194890314, 194890780]], dtype=int32)"
      ]
     },
     "execution_count": 30,
     "metadata": {},
     "output_type": "execute_result"
    }
   ],
   "source": [
    "#Lets take a look at our regions first\n",
    "nanog.regions['chr1']"
   ]
  },
  {
   "cell_type": "code",
   "execution_count": 31,
   "metadata": {},
   "outputs": [
    {
     "data": {
      "text/plain": [
       "array([[1.],\n",
       "       [1.],\n",
       "       [1.],\n",
       "       ...,\n",
       "       [1.],\n",
       "       [1.],\n",
       "       [1.]])"
      ]
     },
     "execution_count": 31,
     "metadata": {},
     "output_type": "execute_result"
    }
   ],
   "source": [
    "#Now our values in chromosome 2\n",
    "nanog.values['chr2']"
   ]
  },
  {
   "cell_type": "code",
   "execution_count": 32,
   "metadata": {},
   "outputs": [
    {
     "name": "stdout",
     "output_type": "stream",
     "text": [
      "'nanog' is a datatrack of type: region-value-pairs\n",
      "It has name: Nanog\n"
     ]
    }
   ],
   "source": [
    "#We can also look at the name and type of our datatrack if we forget\n",
    "print(\"'nanog' is a datatrack of type: {}\".format(nanog.dtrack_type))\n",
    "print(\"It has name: {}\".format(nanog.name))"
   ]
  },
  {
   "cell_type": "markdown",
   "metadata": {},
   "source": [
    "## Interrogating the datatrack function\n",
    "Lets now look at functions for investigating region-value-pair functions. "
   ]
  },
  {
   "cell_type": "markdown",
   "metadata": {},
   "source": [
    "### Chromosome Limits\n",
    "One of the first things we might be interested in is what the lengths of our chromosomes actually are! The Datatrack class doesn't assume that the chromosomes have any particular length and leaves these as functions which are free to be input by the user. However, we can estimate the chromosome limits from the maximum and minimum values of the regions we observe on each chromosome:"
   ]
  },
  {
   "cell_type": "code",
   "execution_count": 33,
   "metadata": {},
   "outputs": [
    {
     "data": {
      "text/plain": [
       "{'chr1': [3062626, 194890780],\n",
       " 'chr10': [3302560, 130420449],\n",
       " 'chr11': [3145328, 121964594],\n",
       " 'chr12': [3124034, 119777974],\n",
       " 'chr13': [3712816, 119334473],\n",
       " 'chr14': [7809188, 124446400],\n",
       " 'chr15': [3748080, 103383326],\n",
       " 'chr16': [3531957, 97936334],\n",
       " 'chr17': [3505534, 94866952],\n",
       " 'chr18': [3006850, 90581368],\n",
       " 'chr19': [3532657, 61321440],\n",
       " 'chr2': [3100032, 181773870],\n",
       " 'chr3': [3370820, 159615381],\n",
       " 'chr4': [3368156, 156194661],\n",
       " 'chr5': [3293540, 151645339],\n",
       " 'chr6': [4118617, 149357512],\n",
       " 'chr7': [3507008, 145139802],\n",
       " 'chr8': [3100430, 128538866],\n",
       " 'chr9': [3376306, 123731738],\n",
       " 'chrX': [6279324, 169906459],\n",
       " 'chrY': [4829304, 4829578]}"
      ]
     },
     "execution_count": 33,
     "metadata": {},
     "output_type": "execute_result"
    }
   ],
   "source": [
    "nanog.chrlims_from_regions()\n",
    "nanog.chr_lims"
   ]
  },
  {
   "cell_type": "markdown",
   "metadata": {},
   "source": [
    "### Datatrack function evaluation\n",
    "\n",
    "Now that we have estimated our chromosome limits let's look at interrogating our function. Looking at the function for all values in a given region is simple and just uses the .func method. We just provide a midpoint and a windowsize (or buffer) around that midpoint where we want to evaluate the function:"
   ]
  },
  {
   "cell_type": "code",
   "execution_count": 34,
   "metadata": {},
   "outputs": [
    {
     "data": {
      "text/plain": [
       "array([[0., 0., 0., 0., 0., 0., 0., 0., 0., 0., 0., 0., 0., 0., 0., 0.,\n",
       "        0., 0., 0., 0., 0., 0., 0., 0., 0., 0., 0., 0., 0., 0., 0., 0.,\n",
       "        0., 0., 0., 0., 0., 0., 0., 0., 0., 0., 0., 0., 0., 0., 0., 0.,\n",
       "        0., 0., 0., 0., 0., 0., 0., 0., 0., 0., 0., 0., 0., 0., 0., 0.,\n",
       "        0., 0., 0., 0., 0., 0., 0., 0., 0., 0., 0., 0., 0., 0., 0., 0.,\n",
       "        0., 0., 0., 0., 0., 0., 0., 0., 0., 0., 0., 0., 0., 0., 0., 0.,\n",
       "        0., 0., 0., 0., 0., 0., 0., 0., 0., 0., 0., 0., 0., 0., 0., 0.,\n",
       "        0., 0., 0., 0., 0., 0., 0., 0., 0., 0., 0., 0., 0., 0., 0., 0.,\n",
       "        0., 0., 0., 0., 0., 0., 0., 0., 0., 0., 0., 0., 0., 0., 0., 0.,\n",
       "        0., 0., 0., 0., 0., 0., 0., 0., 0., 0., 0., 0., 0., 0., 0., 0.,\n",
       "        0., 0., 0., 0., 0., 0., 0., 0., 0., 0., 0., 0., 0., 0., 0., 0.,\n",
       "        0., 0., 0., 0., 0., 0., 0., 0., 0., 0., 0., 0., 0., 0., 0., 0.,\n",
       "        0., 0., 0., 0., 0., 0., 0., 0.]])"
      ]
     },
     "execution_count": 34,
     "metadata": {},
     "output_type": "execute_result"
    }
   ],
   "source": [
    "#Here is the start of a peak in our Nanog datatrack on chromosome 1\n",
    "nanog.func('1',[3062586], buffer = 100)"
   ]
  },
  {
   "cell_type": "markdown",
   "metadata": {},
   "source": [
    "Note that we can provide multiple midpoints and we'll get multiple rows in our output array:"
   ]
  },
  {
   "cell_type": "code",
   "execution_count": 35,
   "metadata": {},
   "outputs": [
    {
     "data": {
      "text/plain": [
       "array([[0., 0., 0., 0., 0., 0., 0., 0., 0., 0., 0., 0., 0., 0., 0., 0.,\n",
       "        0., 0., 0., 0.],\n",
       "       [0., 0., 0., 0., 0., 0., 0., 0., 0., 0., 0., 0., 0., 0., 0., 0.,\n",
       "        0., 0., 0., 0.]])"
      ]
     },
     "execution_count": 35,
     "metadata": {},
     "output_type": "execute_result"
    }
   ],
   "source": [
    "#Here is the start of a peak in our Nanog datatrack on chromosome 1\n",
    "nanog.func('1',[3062686,194354695], buffer = 10)"
   ]
  },
  {
   "cell_type": "markdown",
   "metadata": {},
   "source": [
    "This comes in use when we might want to evaluate a function across an entire set of genomic regions. For example active promoters:"
   ]
  },
  {
   "cell_type": "code",
   "execution_count": 36,
   "metadata": {},
   "outputs": [
    {
     "data": {
      "text/plain": [
       "array([[ 57993971,  57997971],\n",
       "       [ 11412112,  11416112],\n",
       "       [136129183, 136133183],\n",
       "       [ 91296338,  91300338],\n",
       "       [ 43443751,  43447751],\n",
       "       [193033698, 193037698],\n",
       "       [ 91364430,  91368430],\n",
       "       [ 75140786,  75144786],\n",
       "       [ 64120282,  64124282],\n",
       "       [151258914, 151262914],\n",
       "       [ 75208778,  75212778],\n",
       "       [181838568, 181842568],\n",
       "       [ 52117438,  52121438],\n",
       "       [155081266, 155085266],\n",
       "       [152764351, 152768351],\n",
       "       [161967186, 161971186],\n",
       "       [ 63174825,  63178825],\n",
       "       [166000960, 166004960],\n",
       "       [ 86524736,  86528736],\n",
       "       [ 52628705,  52632705],\n",
       "       [ 53295018,  53299018],\n",
       "       [ 88006551,  88010551],\n",
       "       [156717001, 156721001],\n",
       "       [ 45793166,  45797166],\n",
       "       [ 72581251,  72585251],\n",
       "       [178403881, 178407881],\n",
       "       [ 80338480,  80342480],\n",
       "       [166378493, 166382493],\n",
       "       [131960967, 131964967],\n",
       "       [152764542, 152768542],\n",
       "       [177794511, 177798511],\n",
       "       [163401641, 163405641],\n",
       "       [  9745648,   9749648],\n",
       "       [ 56969491,  56973491],\n",
       "       [ 93340854,  93344854],\n",
       "       [ 75217253,  75221253],\n",
       "       [ 60178599,  60182599],\n",
       "       [143775278, 143779278],\n",
       "       [ 92639985,  92643985],\n",
       "       [157410595, 157414595],\n",
       "       [191715834, 191719834],\n",
       "       [134492660, 134496660],\n",
       "       [ 53311624,  53315624],\n",
       "       [ 36305733,  36309733],\n",
       "       [ 67036872,  67040872],\n",
       "       [191819444, 191823444],\n",
       "       [182515495, 182519495],\n",
       "       [ 55129231,  55133231],\n",
       "       [ 37888411,  37892411],\n",
       "       [151753374, 151757374],\n",
       "       [153897926, 153901926],\n",
       "       [171293024, 171297024],\n",
       "       [ 97660074,  97664074],\n",
       "       [186703992, 186707992],\n",
       "       [171358798, 171362798],\n",
       "       [ 93633722,  93637722],\n",
       "       [ 13060019,  13064019],\n",
       "       [134359999, 134363999],\n",
       "       [192134898, 192138898],\n",
       "       [ 20949626,  20953626],\n",
       "       [131795381, 131799381],\n",
       "       [121085405, 121089405],\n",
       "       [195129570, 195133570],\n",
       "       [ 74282738,  74286738],\n",
       "       [182122737, 182126737],\n",
       "       [175690776, 175694776],\n",
       "       [182407172, 182411172],\n",
       "       [135718061, 135722061],\n",
       "       [ 53295095,  53299095],\n",
       "       [ 92904989,  92908989],\n",
       "       [119911208, 119915208],\n",
       "       [134453531, 134457531],\n",
       "       [177256203, 177260203],\n",
       "       [170172957, 170176957],\n",
       "       [ 63196031,  63200031],\n",
       "       [ 57405101,  57409101],\n",
       "       [172026444, 172030444],\n",
       "       [180811776, 180815776],\n",
       "       [164247046, 164251046],\n",
       "       [171248421, 171252421],\n",
       "       [135144824, 135148824],\n",
       "       [130715327, 130719327],\n",
       "       [162546551, 162550551],\n",
       "       [130460576, 130464576],\n",
       "       [ 63175983,  63179983],\n",
       "       [130460744, 130464744],\n",
       "       [156034480, 156038480],\n",
       "       [136413519, 136417519],\n",
       "       [193271188, 193275188],\n",
       "       [ 16655552,  16659552],\n",
       "       [169529464, 169533464],\n",
       "       [183386981, 183390981],\n",
       "       [133608411, 133612411],\n",
       "       [ 75433930,  75437930],\n",
       "       [164501307, 164505307],\n",
       "       [136694211, 136698211],\n",
       "       [157456580, 157460580],\n",
       "       [ 75505077,  75509077],\n",
       "       [ 58503148,  58507148],\n",
       "       [172519044, 172523044],\n",
       "       [184031998, 184035998],\n",
       "       [171111918, 171115918],\n",
       "       [ 74586246,  74590246],\n",
       "       [ 71650837,  71654837],\n",
       "       [180933022, 180937022],\n",
       "       [ 33755794,  33759794],\n",
       "       [ 34431199,  34435199],\n",
       "       [111862909, 111866909],\n",
       "       [ 79774143,  79778143],\n",
       "       [191181340, 191185340],\n",
       "       [ 86301221,  86305221],\n",
       "       [119524359, 119528359],\n",
       "       [ 65049149,  65053149],\n",
       "       [176812660, 176816660],\n",
       "       [ 64530804,  64534804],\n",
       "       [132005607, 132009607],\n",
       "       [191023350, 191027350],\n",
       "       [135106961, 135110961],\n",
       "       [ 85892281,  85896281],\n",
       "       [ 43096622,  43100622],\n",
       "       [153747426, 153751426],\n",
       "       [ 57375504,  57379504],\n",
       "       [120072074, 120076074],\n",
       "       [172374531, 172378531],\n",
       "       [171343646, 171347646],\n",
       "       [ 64735750,  64739750],\n",
       "       [171435535, 171439535],\n",
       "       [ 55235177,  55239177],\n",
       "       [120119078, 120123078],\n",
       "       [189920363, 189924363],\n",
       "       [ 74282930,  74286930],\n",
       "       [136622901, 136626901],\n",
       "       [ 46852046,  46856046],\n",
       "       [ 24676544,  24680544],\n",
       "       [155415415, 155419415],\n",
       "       [193505530, 193509530],\n",
       "       [160904418, 160908418],\n",
       "       [136344104, 136348104],\n",
       "       [  9545948,   9549948],\n",
       "       [ 65184750,  65188750],\n",
       "       [ 34847976,  34851976],\n",
       "       [136413271, 136417271],\n",
       "       [191573763, 191577763],\n",
       "       [ 63176677,  63180677],\n",
       "       [189726268, 189730268],\n",
       "       [194974375, 194978375],\n",
       "       [ 36066400,  36070400],\n",
       "       [179666210, 179670210],\n",
       "       [ 13372083,  13376083],\n",
       "       [ 63728318,  63732318],\n",
       "       [ 16617489,  16621489],\n",
       "       [ 74853029,  74857029],\n",
       "       [125433727, 125437727],\n",
       "       [160790938, 160794938],\n",
       "       [132189436, 132193436],\n",
       "       [  7395801,   7399801],\n",
       "       [ 83036448,  83040448],\n",
       "       [184844451, 184848451],\n",
       "       [179958472, 179962472],\n",
       "       [ 23920317,  23924317],\n",
       "       [ 63443891,  63447891],\n",
       "       [ 74303622,  74307622],\n",
       "       [161874661, 161878661],\n",
       "       [ 62701285,  62705285],\n",
       "       [ 16518112,  16522112],\n",
       "       [ 33905816,  33909816],\n",
       "       [191395041, 191399041],\n",
       "       [ 14753454,  14757454],\n",
       "       [170883065, 170887065],\n",
       "       [132201803, 132205803],\n",
       "       [ 92908783,  92912783],\n",
       "       [ 86580904,  86584904],\n",
       "       [ 16654865,  16658865],\n",
       "       [ 82722890,  82726890],\n",
       "       [ 86580629,  86584629],\n",
       "       [ 37863299,  37867299],\n",
       "       [ 54247208,  54251208],\n",
       "       [ 38834090,  38838090],\n",
       "       [  6213292,   6217292],\n",
       "       [131865224, 131869224],\n",
       "       [ 54436971,  54440971],\n",
       "       [ 75189923,  75193923],\n",
       "       [ 84837841,  84841841],\n",
       "       [132196088, 132200088],\n",
       "       [125559016, 125563016],\n",
       "       [136232280, 136236280],\n",
       "       [143775068, 143779068],\n",
       "       [165192433, 165196433],\n",
       "       [171327145, 171331145],\n",
       "       [187213508, 187217508],\n",
       "       [ 59911006,  59915006],\n",
       "       [143776928, 143780928],\n",
       "       [153898208, 153902208],\n",
       "       [165458465, 165462465],\n",
       "       [ 82314452,  82318452],\n",
       "       [  6212590,   6216590],\n",
       "       [140244216, 140248216],\n",
       "       [172630974, 172634974],\n",
       "       [105988406, 105992406],\n",
       "       [170213397, 170217397],\n",
       "       [135582773, 135586773],\n",
       "       [ 75315637,  75319637],\n",
       "       [ 93510079,  93514079],\n",
       "       [119420248, 119424248],\n",
       "       [127772164, 127776164],\n",
       "       [161129511, 161133511],\n",
       "       [ 93303915,  93307915],\n",
       "       [ 72210307,  72214307],\n",
       "       [130729976, 130733976],\n",
       "       [ 21077229,  21081229],\n",
       "       [ 20888622,  20892622],\n",
       "       [ 36556349,  36560349],\n",
       "       [165234943, 165238943],\n",
       "       [ 54248683,  54252683],\n",
       "       [187213465, 187217465],\n",
       "       [156937626, 156941626],\n",
       "       [171435318, 171439318],\n",
       "       [ 23254406,  23258406],\n",
       "       [182407020, 182411020],\n",
       "       [ 36545201,  36549201],\n",
       "       [156419159, 156423159],\n",
       "       [ 59480147,  59484147],\n",
       "       [ 92932376,  92936376],\n",
       "       [ 44549511,  44553511],\n",
       "       [ 74504058,  74508058],\n",
       "       [ 93341482,  93345482],\n",
       "       [174499825, 174503825],\n",
       "       [138617696, 138621696],\n",
       "       [ 74586289,  74590289],\n",
       "       [118457265, 118461265],\n",
       "       [  9698209,   9702209],\n",
       "       [ 75178392,  75182392],\n",
       "       [ 59118096,  59122096],\n",
       "       [170974547, 170978547],\n",
       "       [ 89931290,  89935290],\n",
       "       [ 75477471,  75481471],\n",
       "       [192769213, 192773213],\n",
       "       [167306670, 167310670],\n",
       "       [181851189, 181855189],\n",
       "       [177441270, 177445270],\n",
       "       [170212860, 170216860],\n",
       "       [ 74848895,  74852895],\n",
       "       [171268328, 171272328],\n",
       "       [ 60407619,  60411619],\n",
       "       [ 14308200,  14312200],\n",
       "       [180902274, 180906274],\n",
       "       [ 23381175,  23385175],\n",
       "       [ 36556359,  36560359],\n",
       "       [154078199, 154082199],\n",
       "       [151569186, 151573186],\n",
       "       [ 16663207,  16667207],\n",
       "       [181148931, 181152931],\n",
       "       [186965416, 186969416],\n",
       "       [ 37869738,  37873738],\n",
       "       [ 72234465,  72238465],\n",
       "       [ 44116808,  44120808],\n",
       "       [167347025, 167351025],\n",
       "       [190909770, 190913770],\n",
       "       [ 37428103,  37432103],\n",
       "       [ 90601425,  90605425],\n",
       "       [171279186, 171283186],\n",
       "       [ 72234946,  72238946],\n",
       "       [132415453, 132419453],\n",
       "       [119647000, 119651000],\n",
       "       [ 51914071,  51918071],\n",
       "       [ 66698831,  66702831],\n",
       "       [136622650, 136626650],\n",
       "       [ 91538565,  91542565],\n",
       "       [ 72242213,  72246213],\n",
       "       [135256472, 135260472],\n",
       "       [ 93801965,  93805965],\n",
       "       [ 34437851,  34441851],\n",
       "       [159230326, 159234326],\n",
       "       [ 43825800,  43829800],\n",
       "       [155156703, 155160703],\n",
       "       [ 96870221,  96874221],\n",
       "       [171220514, 171224514],\n",
       "       [ 86152780,  86156780],\n",
       "       [ 63177004,  63181004],\n",
       "       [ 75504452,  75508452],\n",
       "       [ 37995346,  37999346],\n",
       "       [ 34437672,  34441672],\n",
       "       [ 66861277,  66865277],\n",
       "       [180891108, 180895108],\n",
       "       [ 36681183,  36685183],\n",
       "       [ 63198313,  63202313],\n",
       "       [113962134, 113966134],\n",
       "       [132389281, 132393281],\n",
       "       [ 91492668,  91496668],\n",
       "       [ 97768172,  97772172],\n",
       "       [ 74584972,  74588972],\n",
       "       [ 39517533,  39521533],\n",
       "       [177442661, 177446661],\n",
       "       [169967241, 169971241],\n",
       "       [133688108, 133692108],\n",
       "       [ 37888477,  37892477],\n",
       "       [167288125, 167292125],\n",
       "       [136695374, 136699374],\n",
       "       [ 44116957,  44120957],\n",
       "       [ 63212543,  63216543],\n",
       "       [135282084, 135286084],\n",
       "       [178316549, 178320549],\n",
       "       [133129782, 133133782],\n",
       "       [ 59762279,  59766279],\n",
       "       [ 11412105,  11416105],\n",
       "       [119051619, 119055619],\n",
       "       [169967409, 169971409],\n",
       "       [ 91412038,  91416038],\n",
       "       [132314126, 132318126],\n",
       "       [165459037, 165463037],\n",
       "       [179801376, 179805376],\n",
       "       [171148711, 171152711],\n",
       "       [ 72282314,  72286314],\n",
       "       [ 57772162,  57776162],\n",
       "       [ 64688455,  64692455],\n",
       "       [178527125, 178531125],\n",
       "       [ 88700221,  88704221],\n",
       "       [ 39649182,  39653182],\n",
       "       [ 24098341,  24102341],\n",
       "       [ 58971522,  58975522],\n",
       "       [ 53350752,  53354752],\n",
       "       [191988138, 191992138],\n",
       "       [ 33667843,  33671843],\n",
       "       [ 57375620,  57379620],\n",
       "       [ 38985814,  38989814],\n",
       "       [132475045, 132479045],\n",
       "       [ 51476399,  51480399],\n",
       "       [ 42849233,  42853233],\n",
       "       [ 93752838,  93756838],\n",
       "       [ 92908764,  92912764],\n",
       "       [ 82837446,  82841446],\n",
       "       [170883540, 170887540],\n",
       "       [136129389, 136133389],\n",
       "       [  9746382,   9750382],\n",
       "       [ 57404328,  57408328],\n",
       "       [ 54555684,  54559684],\n",
       "       [191060932, 191064932],\n",
       "       [ 86357574,  86361574],\n",
       "       [131525903, 131529903],\n",
       "       [ 85791441,  85795441],\n",
       "       [143737029, 143741029],\n",
       "       [155810883, 155814883],\n",
       "       [ 21216575,  21220575],\n",
       "       [185360865, 185364865],\n",
       "       [172498047, 172502047],\n",
       "       [128242181, 128246181],\n",
       "       [106169752, 106173752],\n",
       "       [ 59117833,  59121833],\n",
       "       [ 24003505,  24007505],\n",
       "       [179544370, 179548370],\n",
       "       [ 37863298,  37867298],\n",
       "       [191904767, 191908767],\n",
       "       [ 95311628,  95315628],\n",
       "       [ 82723117,  82727117],\n",
       "       [185330149, 185334149],\n",
       "       [135686105, 135690105],\n",
       "       [ 58027931,  58031931],\n",
       "       [ 52815688,  52819688],\n",
       "       [ 89928234,  89932234],\n",
       "       [161032849, 161036849],\n",
       "       [171501163, 171505163],\n",
       "       [152384688, 152388688],\n",
       "       [155097636, 155101636],\n",
       "       [ 69683960,  69687960],\n",
       "       [ 16103774,  16107774],\n",
       "       [ 88275661,  88279661],\n",
       "       [171501478, 171505478],\n",
       "       [165761746, 165765746],\n",
       "       [170866645, 170870645],\n",
       "       [171343670, 171347670],\n",
       "       [167347991, 167351991],\n",
       "       [171502111, 171506111],\n",
       "       [151342736, 151346736],\n",
       "       [132282447, 132286447],\n",
       "       [ 89068415,  89072415],\n",
       "       [119502794, 119506794],\n",
       "       [192853752, 192857752],\n",
       "       [185453568, 185457568],\n",
       "       [ 36509867,  36513867],\n",
       "       [ 74659745,  74663745],\n",
       "       [ 55050770,  55054770],\n",
       "       [171285991, 171289991],\n",
       "       [131151181, 131155181],\n",
       "       [  4855814,   4859814],\n",
       "       [ 43090588,  43094588],\n",
       "       [184997549, 185001549],\n",
       "       [178274639, 178278639],\n",
       "       [170587861, 170591861],\n",
       "       [119524425, 119528425],\n",
       "       [ 97768411,  97772411],\n",
       "       [ 87851287,  87855287],\n",
       "       [ 90201980,  90205980],\n",
       "       [133043667, 133047667],\n",
       "       [134960565, 134964565],\n",
       "       [172479788, 172483788],\n",
       "       [ 20888473,  20892473],\n",
       "       [167391841, 167395841],\n",
       "       [157410352, 157414352],\n",
       "       [186747396, 186751396],\n",
       "       [138961436, 138965436],\n",
       "       [182280804, 182284804],\n",
       "       [ 58584384,  58588384],\n",
       "       [135583355, 135587355],\n",
       "       [133422377, 133426377],\n",
       "       [ 54924387,  54928387],\n",
       "       [135764119, 135768119],\n",
       "       [133361572, 133365572],\n",
       "       [ 64954824,  64958824],\n",
       "       [138854854, 138858854],\n",
       "       [191222474, 191226474],\n",
       "       [ 60096247,  60100247],\n",
       "       [192136010, 192140010],\n",
       "       [134077120, 134081120],\n",
       "       [192852928, 192856928],\n",
       "       [171245122, 171249122],\n",
       "       [ 43096710,  43100710],\n",
       "       [191061012, 191065012],\n",
       "       [ 93683694,  93687694],\n",
       "       [194974959, 194978959],\n",
       "       [ 98093646,  98097646],\n",
       "       [ 58584323,  58588323],\n",
       "       [ 53783224,  53787224],\n",
       "       [ 74389509,  74393509],\n",
       "       [ 89452811,  89456811],\n",
       "       [ 36443271,  36447271],\n",
       "       [ 33717882,  33721882],\n",
       "       [ 86701804,  86705804],\n",
       "       [118456747, 118460747],\n",
       "       [ 75477532,  75481532],\n",
       "       [ 58971430,  58975430],\n",
       "       [184881218, 184885218],\n",
       "       [ 44100441,  44104441],\n",
       "       [143700893, 143704893],\n",
       "       [  5081173,   5085173],\n",
       "       [ 24003656,  24007656],\n",
       "       [127202986, 127206986],\n",
       "       [ 75519529,  75523529],\n",
       "       [ 72282369,  72286369],\n",
       "       [185452848, 185456848],\n",
       "       [119524160, 119528160],\n",
       "       [ 55086132,  55090132],\n",
       "       [ 64615242,  64619242],\n",
       "       [ 44145847,  44149847],\n",
       "       [167283127, 167287127],\n",
       "       [ 74392310,  74396310],\n",
       "       [186115310, 186119310],\n",
       "       [180940344, 180944344],\n",
       "       [ 64688659,  64692659],\n",
       "       [155556120, 155560120],\n",
       "       [ 43932002,  43936002],\n",
       "       [189005840, 189009840],\n",
       "       [ 52231232,  52235232],\n",
       "       [ 91396783,  91400783],\n",
       "       [191905527, 191909527],\n",
       "       [ 36689487,  36693487],\n",
       "       [155970890, 155974890],\n",
       "       [171409313, 171413313],\n",
       "       [163400283, 163404283],\n",
       "       [192743571, 192747571],\n",
       "       [ 93823240,  93827240],\n",
       "       [153184447, 153188447],\n",
       "       [ 12989177,  12993177],\n",
       "       [ 66815562,  66819562],\n",
       "       [ 75166646,  75170646],\n",
       "       [183219529, 183223529],\n",
       "       [ 75140368,  75144368],\n",
       "       [166377097, 166381097],\n",
       "       [ 52498679,  52502679],\n",
       "       [  9543408,   9547408],\n",
       "       [ 60041087,  60045087],\n",
       "       [ 14753966,  14757966],\n",
       "       [ 91248311,  91252311],\n",
       "       [ 75207731,  75211731],\n",
       "       [ 75190151,  75194151],\n",
       "       [ 74599445,  74603445],\n",
       "       [152088320, 152092320],\n",
       "       [193507803, 193511803],\n",
       "       [132137685, 132141685],\n",
       "       [ 75208838,  75212838],\n",
       "       [ 96870171,  96874171],\n",
       "       [161068767, 161072767],\n",
       "       [ 74599397,  74603397],\n",
       "       [ 59235231,  59239231],\n",
       "       [163992889, 163996889],\n",
       "       [ 39648176,  39652176],\n",
       "       [163777583, 163781583],\n",
       "       [120119187, 120123187],\n",
       "       [131825493, 131829493],\n",
       "       [106794728, 106798728],\n",
       "       [ 75234465,  75238465]], dtype=int32)"
      ]
     },
     "execution_count": 36,
     "metadata": {},
     "output_type": "execute_result"
    }
   ],
   "source": [
    "x = pd.read_table('tutorial_data/active_promoters.csv')\n",
    "x = {k1: np.concatenate([item[None,1:3] for item in list(g1)],\n",
    "                                       axis = 0).astype('int32') for k1,g1 in itertools.groupby(sorted(x.values,\n",
    "                                                                                                       key = lambda x:x[0]),\n",
    "                                                                                                lambda x: x[0])}\n",
    "x['chr1']"
   ]
  },
  {
   "cell_type": "markdown",
   "metadata": {},
   "source": [
    "These are the active promoter regions on chromosome 1 in naive ES cells. Lets look at nanog signal within +/-1kb of the active promoter centres on chromosome 1:"
   ]
  },
  {
   "cell_type": "code",
   "execution_count": 37,
   "metadata": {},
   "outputs": [
    {
     "name": "stdout",
     "output_type": "stream",
     "text": [
      "couldn't find active promoter info for chromosome chrY\n"
     ]
    }
   ],
   "source": [
    "buffer = 1000\n",
    "promoter_nanog_signal = np.zeros(2*buffer)\n",
    "numproms = 0\n",
    "for chrom in nanog.chromosomes:\n",
    "    try:\n",
    "        mids = np.mean(x[chrom], axis = 1).astype('int')\n",
    "    except:\n",
    "        print(\"couldn't find active promoter info for chromosome {}\".format(chrom))\n",
    "        continue\n",
    "        \n",
    "    promoter_nanog_signal += np.sum(nanog.func(chrom, mids, buffer = buffer), axis = 0)\n",
    "    numproms += len(mids)\n",
    "\n",
    "promoter_nanog_signal /= numproms"
   ]
  },
  {
   "cell_type": "code",
   "execution_count": 38,
   "metadata": {},
   "outputs": [
    {
     "data": {
      "text/plain": [
       "Text(0.5, 1.0, 'Active promoter nanog signal\\nNaive mESCs')"
      ]
     },
     "execution_count": 38,
     "metadata": {},
     "output_type": "execute_result"
    },
    {
     "data": {
      "image/png": "[encoded data removed]",
      "text/plain": [
       "<Figure size 864x720 with 1 Axes>"
      ]
     },
     "metadata": {
      "needs_background": "light"
     },
     "output_type": "display_data"
    }
   ],
   "source": [
    "import matplotlib.pyplot as plt\n",
    "\n",
    "fig = plt.figure(figsize = (12,10))\n",
    "plot = plt.plot(np.arange(len(promoter_nanog_signal)), promoter_nanog_signal)\n",
    "xticks = plt.xticks([0,500,1000,1500,2000], [-1000, -500, 0, 500,1000])\n",
    "plt.tick_params(labelsize = 15)\n",
    "plt.ylabel(\"Average Signal\", size = 20)\n",
    "plt.xlabel(\"Distance from active promoter centre\", size = 20)\n",
    "plt.title(\"Active promoter nanog signal\\nNaive mESCs\", size = 20)"
   ]
  },
  {
   "cell_type": "markdown",
   "metadata": {},
   "source": [
    "We might also just be interested in looking at coverage over certain regions. We can therefore replace the datatrack values with constants if we want to when evaluating the function:"
   ]
  },
  {
   "cell_type": "code",
   "execution_count": 39,
   "metadata": {},
   "outputs": [
    {
     "name": "stdout",
     "output_type": "stream",
     "text": [
      "couldn't find active promoter info for chromosome chrY\n"
     ]
    },
    {
     "data": {
      "text/plain": [
       "Text(0.5, 1.0, 'Chromosome 1 active promoter nanog signal\\nNaive mESCs')"
      ]
     },
     "execution_count": 39,
     "metadata": {},
     "output_type": "execute_result"
    },
    {
     "data": {
      "image/png": "[encoded data removed]",
      "text/plain": [
       "<Figure size 864x720 with 1 Axes>"
      ]
     },
     "metadata": {
      "needs_background": "light"
     },
     "output_type": "display_data"
    }
   ],
   "source": [
    "buffer = 1000\n",
    "promoter_nanog_signal = np.zeros(2*buffer)\n",
    "numproms = 0\n",
    "for chrom in nanog.chromosomes:\n",
    "    try:\n",
    "        mids = np.mean(x[chrom], axis = 1).astype('int')\n",
    "    except:\n",
    "        print(\"couldn't find active promoter info for chromosome {}\".format(chrom))\n",
    "        continue\n",
    "        \n",
    "    promoter_nanog_signal += np.sum(nanog.func(chrom, mids, buffer = buffer, use_constant_val = 1), axis = 0)\n",
    "    numproms += len(mids)\n",
    "\n",
    "promoter_nanog_signal /= numproms\n",
    "fig = plt.figure(figsize = (12,10))\n",
    "plot = plt.plot(np.arange(len(promoter_nanog_signal)), promoter_nanog_signal)\n",
    "xticks = plt.xticks([0,500,1000,1500,2000], [-1000, -500, 0, 500,1000])\n",
    "plt.tick_params(labelsize = 15)\n",
    "plt.ylabel(\"Average Coverage\", size = 20)\n",
    "plt.xlabel(\"Distance from active promoter centre\", size = 20)\n",
    "plt.title(\"Chromosome 1 active promoter nanog signal\\nNaive mESCs\", size = 20)"
   ]
  },
  {
   "cell_type": "markdown",
   "metadata": {},
   "source": [
    "### Raw data within an interval \n",
    "We might instead want to get the actual raw region-value-pair information which overlaps with a region:"
   ]
  },
  {
   "cell_type": "code",
   "execution_count": 40,
   "metadata": {},
   "outputs": [
    {
     "data": {
      "text/plain": [
       "{'regions': array([[3062626, 3063246]], dtype=int32), 'values': array([[1.]])}"
      ]
     },
     "execution_count": 40,
     "metadata": {},
     "output_type": "execute_result"
    }
   ],
   "source": [
    "nanog.data_in_interval('chr1', [3062586, 3062686])"
   ]
  },
  {
   "cell_type": "markdown",
   "metadata": {},
   "source": [
    "### Binning Data within an interval\n",
    "One more thing we might like to do is bin all of our information within a given region. For example, we might want to bin the entirety of chromosome 19 at a bin-size of 1000000 basepairs per bin and we're interested in the average Nanog signal per basepair in each bin:\n",
    "\n",
    "#### mean per-basepair signal"
   ]
  },
  {
   "cell_type": "code",
   "execution_count": 41,
   "metadata": {},
   "outputs": [
    {
     "data": {
      "text/plain": [
       "array([0.00303 , 0.006552, 0.001425, 0.000669, 0.00132 , 0.00296 ,\n",
       "       0.002537, 0.003173, 0.001201, 0.002482, 0.001221, 0.00664 ,\n",
       "       0.002168, 0.00283 , 0.000415, 0.004411, 0.000977, 0.001374,\n",
       "       0.003797, 0.007565, 0.007639, 0.00335 , 0.001578, 0.002382,\n",
       "       0.007922, 0.005926, 0.003652, 0.001017, 0.002473, 0.003697,\n",
       "       0.00318 , 0.004725, 0.002021, 0.002326, 0.008272, 0.001042,\n",
       "       0.004696, 0.003917, 0.004359, 0.002566, 0.003806, 0.002973,\n",
       "       0.00468 , 0.003173, 0.001299, 0.001785, 0.001107, 0.001866,\n",
       "       0.000896, 0.003227, 0.001479, 0.003052, 0.00401 , 0.003168,\n",
       "       0.003457, 0.002755, 0.004034, 0.001409])"
      ]
     },
     "execution_count": 41,
     "metadata": {},
     "output_type": "execute_result"
    }
   ],
   "source": [
    "nanog.bin_single_interval('chr19',\n",
    "                          int(1e6),\n",
    "                          interval = nanog.chr_lims['chr19'],\n",
    "                          stats_type = 'mean')[1]"
   ]
  },
  {
   "cell_type": "markdown",
   "metadata": {},
   "source": [
    "We could also look at the coverage (in basepairs) within each bin:\n",
    "\n",
    "#### Coverage"
   ]
  },
  {
   "cell_type": "code",
   "execution_count": 42,
   "metadata": {},
   "outputs": [
    {
     "data": {
      "text/plain": [
       "array([3030., 6552., 1425.,  669., 1320., 2960., 2537., 3173., 1201.,\n",
       "       2482., 1221., 6640., 2168., 2830.,  415., 4411.,  977., 1374.,\n",
       "       3797., 7565., 7639., 3350., 1578., 2382., 7922., 5926., 3652.,\n",
       "       1017., 2473., 3697., 3180., 4725., 2021., 2326., 8272., 1042.,\n",
       "       4696., 3917., 4359., 2566., 3806., 2973., 4680., 3173., 1299.,\n",
       "       1785., 1107., 1866.,  896., 3227., 1479., 3052., 4010., 3168.,\n",
       "       3457., 2755., 4034., 1409.])"
      ]
     },
     "execution_count": 42,
     "metadata": {},
     "output_type": "execute_result"
    }
   ],
   "source": [
    "nanog.bin_single_interval('chr19',\n",
    "                          int(1e6),\n",
    "                          interval = nanog.chr_lims['chr19'],\n",
    "                          stats_type = 'coverage')[1]"
   ]
  },
  {
   "cell_type": "markdown",
   "metadata": {},
   "source": [
    "We may also be interested in the mean signal within basepairs where we observe any signal at all:\n",
    "\n",
    "#### Mean per-region signal"
   ]
  },
  {
   "cell_type": "code",
   "execution_count": 43,
   "metadata": {},
   "outputs": [
    {
     "data": {
      "text/plain": [
       "array([1., 1., 1., 1., 1., 1., 1., 1., 1., 1., 1., 1., 1., 1., 1., 1., 1.,\n",
       "       1., 1., 1., 1., 1., 1., 1., 1., 1., 1., 1., 1., 1., 1., 1., 1., 1.,\n",
       "       1., 1., 1., 1., 1., 1., 1., 1., 1., 1., 1., 1., 1., 1., 1., 1., 1.,\n",
       "       1., 1., 1., 1., 1., 1., 1.])"
      ]
     },
     "execution_count": 43,
     "metadata": {},
     "output_type": "execute_result"
    }
   ],
   "source": [
    "nanog.bin_single_interval('chr19',\n",
    "                          int(1e6),\n",
    "                          interval = nanog.chr_lims['chr19'],\n",
    "                          stats_type = 'per_region_mean')[1]"
   ]
  },
  {
   "cell_type": "markdown",
   "metadata": {},
   "source": [
    "Finally we might be interested in the sum of all basepair signals in our data over each bin\n",
    "#### Sum of all signals"
   ]
  },
  {
   "cell_type": "code",
   "execution_count": 44,
   "metadata": {},
   "outputs": [
    {
     "data": {
      "text/plain": [
       "array([3030., 6552., 1425.,  669., 1320., 2960., 2537., 3173., 1201.,\n",
       "       2482., 1221., 6640., 2168., 2830.,  415., 4411.,  977., 1374.,\n",
       "       3797., 7565., 7639., 3350., 1578., 2382., 7922., 5926., 3652.,\n",
       "       1017., 2473., 3697., 3180., 4725., 2021., 2326., 8272., 1042.,\n",
       "       4696., 3917., 4359., 2566., 3806., 2973., 4680., 3173., 1299.,\n",
       "       1785., 1107., 1866.,  896., 3227., 1479., 3052., 4010., 3168.,\n",
       "       3457., 2755., 4034., 1409.])"
      ]
     },
     "execution_count": 44,
     "metadata": {},
     "output_type": "execute_result"
    }
   ],
   "source": [
    "nanog.bin_single_interval('chr19',\n",
    "                          int(1e6),\n",
    "                          interval = nanog.chr_lims['chr19'],\n",
    "                          stats_type = 'sum')[1]"
   ]
  },
  {
   "cell_type": "markdown",
   "metadata": {},
   "source": [
    "## Statistics over an interval\n",
    "We can also just input random intervals and get statistics across these intervals. Here we can use the stats function to pass an interval as well as a statistic of interest (stats_type) for regions within this interval. As with the func method we can also access multiple intervals at once:"
   ]
  },
  {
   "cell_type": "markdown",
   "metadata": {},
   "source": [
    "### Coverage"
   ]
  },
  {
   "cell_type": "code",
   "execution_count": 45,
   "metadata": {},
   "outputs": [
    {
     "data": {
      "text/plain": [
       "array([25946., 38367.])"
      ]
     },
     "execution_count": 45,
     "metadata": {},
     "output_type": "execute_result"
    }
   ],
   "source": [
    "nanog.stats('chr1', [[0,1e7],[1e7,2e7]], stats_type= 'coverage')"
   ]
  },
  {
   "cell_type": "markdown",
   "metadata": {},
   "source": [
    "### Maximum value"
   ]
  },
  {
   "cell_type": "code",
   "execution_count": 46,
   "metadata": {},
   "outputs": [
    {
     "data": {
      "text/plain": [
       "array([1., 1.])"
      ]
     },
     "execution_count": 46,
     "metadata": {},
     "output_type": "execute_result"
    }
   ],
   "source": [
    "nanog.stats('chr1', [[0,1e7],[1e7,2e7]], stats_type= 'max')"
   ]
  },
  {
   "cell_type": "markdown",
   "metadata": {},
   "source": [
    "### Minimum value"
   ]
  },
  {
   "cell_type": "code",
   "execution_count": 47,
   "metadata": {},
   "outputs": [
    {
     "data": {
      "text/plain": [
       "array([0., 0.])"
      ]
     },
     "execution_count": 47,
     "metadata": {},
     "output_type": "execute_result"
    }
   ],
   "source": [
    "nanog.stats('chr1', [[0,1e7],[1e7,2e7]], stats_type= 'min')"
   ]
  },
  {
   "cell_type": "markdown",
   "metadata": {},
   "source": [
    "### Minimum value in regions with coverage"
   ]
  },
  {
   "cell_type": "code",
   "execution_count": 48,
   "metadata": {},
   "outputs": [
    {
     "data": {
      "text/plain": [
       "array([1., 1.])"
      ]
     },
     "execution_count": 48,
     "metadata": {},
     "output_type": "execute_result"
    }
   ],
   "source": [
    "nanog.stats('chr1', [[0,1e7],[1e7,2e7]], stats_type= 'per_region_min')"
   ]
  },
  {
   "cell_type": "markdown",
   "metadata": {},
   "source": [
    "### Standard deviation of values"
   ]
  },
  {
   "cell_type": "code",
   "execution_count": 49,
   "metadata": {},
   "outputs": [
    {
     "data": {
      "text/plain": [
       "array([0.05087109, 0.06182216])"
      ]
     },
     "execution_count": 49,
     "metadata": {},
     "output_type": "execute_result"
    }
   ],
   "source": [
    "nanog.stats('chr1', [[0,1e7],[1e7,2e7]], stats_type= 'std')"
   ]
  },
  {
   "cell_type": "markdown",
   "metadata": {},
   "source": [
    "### Standard deviation of values in regions with coverage"
   ]
  },
  {
   "cell_type": "code",
   "execution_count": 50,
   "metadata": {},
   "outputs": [
    {
     "data": {
      "text/plain": [
       "array([0., 0.])"
      ]
     },
     "execution_count": 50,
     "metadata": {},
     "output_type": "execute_result"
    }
   ],
   "source": [
    "nanog.stats('chr1', [[0,1e7],[1e7,2e7]], stats_type= 'per_region_std')"
   ]
  },
  {
   "cell_type": "markdown",
   "metadata": {},
   "source": [
    "### Mean value"
   ]
  },
  {
   "cell_type": "code",
   "execution_count": 51,
   "metadata": {},
   "outputs": [
    {
     "data": {
      "text/plain": [
       "array([0.0025946, 0.0038367])"
      ]
     },
     "execution_count": 51,
     "metadata": {},
     "output_type": "execute_result"
    }
   ],
   "source": [
    "nanog.stats('chr1', [[0,1e7],[1e7,2e7]], stats_type= 'mean')"
   ]
  },
  {
   "cell_type": "markdown",
   "metadata": {},
   "source": [
    "### Mean value in regions with coverage"
   ]
  },
  {
   "cell_type": "code",
   "execution_count": 52,
   "metadata": {},
   "outputs": [
    {
     "data": {
      "text/plain": [
       "array([1., 1.])"
      ]
     },
     "execution_count": 52,
     "metadata": {},
     "output_type": "execute_result"
    }
   ],
   "source": [
    "nanog.stats('chr1', [[0,1e7],[1e7,2e7]], stats_type= 'per_region_mean')"
   ]
  },
  {
   "cell_type": "markdown",
   "metadata": {},
   "source": [
    "### Sum of all values"
   ]
  },
  {
   "cell_type": "code",
   "execution_count": 53,
   "metadata": {},
   "outputs": [
    {
     "data": {
      "text/plain": [
       "array([25946., 38367.])"
      ]
     },
     "execution_count": 53,
     "metadata": {},
     "output_type": "execute_result"
    }
   ],
   "source": [
    "nanog.stats('chr1', [[0,1e7],[1e7,2e7]], stats_type= 'sum')"
   ]
  },
  {
   "cell_type": "markdown",
   "metadata": {},
   "source": [
    "# BigWig files\n",
    "\n",
    "BigWig data isn't actually included in the tutorial data since it is a"
   ]
  },
  {
   "cell_type": "code",
   "execution_count": 54,
   "metadata": {},
   "outputs": [],
   "source": [
    "nanog = dtbw(\"Nanog\").from_bw(nanog_bigwig)"
   ]
  },
  {
   "cell_type": "code",
   "execution_count": 55,
   "metadata": {},
   "outputs": [
    {
     "data": {
      "text/plain": [
       "{'chr1': [0, 195471971],\n",
       " 'chr3': [0, 160039680],\n",
       " 'chr2': [0, 182113224],\n",
       " 'chr4': [0, 156508116],\n",
       " 'chr7': [0, 145441459],\n",
       " 'chr6': [0, 149736546],\n",
       " 'chr9': [0, 124595110],\n",
       " 'chr5': [0, 151834684],\n",
       " 'chr11': [0, 122082543],\n",
       " 'chr12': [0, 120129022],\n",
       " 'chr8': [0, 129401213],\n",
       " 'chrY': [0, 91744698],\n",
       " 'chrX': [0, 171031299],\n",
       " 'chr10': [0, 130694993],\n",
       " 'chr13': [0, 120421639],\n",
       " 'chr15': [0, 104043685],\n",
       " 'chr14': [0, 124902244],\n",
       " 'chr16': [0, 98207768],\n",
       " 'chr19': [0, 61431566],\n",
       " 'chr18': [0, 90702639],\n",
       " 'chr17': [0, 94987271]}"
      ]
     },
     "execution_count": 55,
     "metadata": {},
     "output_type": "execute_result"
    }
   ],
   "source": [
    "nanog.chr_lims"
   ]
  },
  {
   "cell_type": "code",
   "execution_count": 56,
   "metadata": {},
   "outputs": [
    {
     "data": {
      "text/plain": [
       "{'version': 4,\n",
       " 'nLevels': 10,\n",
       " 'nBasesCovered': 2722424231,\n",
       " 'minVal': 0,\n",
       " 'maxVal': 410,\n",
       " 'sumData': 6747542629,\n",
       " 'sumSquared': 99418129997}"
      ]
     },
     "execution_count": 56,
     "metadata": {},
     "output_type": "execute_result"
    }
   ],
   "source": [
    "nanog.header"
   ]
  },
  {
   "cell_type": "code",
   "execution_count": 57,
   "metadata": {},
   "outputs": [
    {
     "data": {
      "text/plain": [
       "array([[ 5.,  5.,  6.,  6.,  6.,  6.,  6.,  6.,  6.,  6.,  6.,  6.,  6.,\n",
       "         6.,  6.,  6.,  6.,  6.,  6.,  6.,  6.,  6.,  6.,  6.,  6.,  7.,\n",
       "         7.,  7.,  7.,  7.,  7.,  7.,  7.,  7.,  6.,  6.,  6.,  6.,  6.,\n",
       "         6.,  6.,  6.,  6.,  6.,  6.,  6.,  6.,  6.,  6.,  6.,  6.,  6.,\n",
       "         6.,  6.,  6.,  7.,  7.,  7.,  7.,  7.,  7.,  7.,  7.,  7.,  7.,\n",
       "         7.,  7.,  7.,  7.,  7.,  7.,  8.,  8.,  8.,  8.,  8.,  8.,  8.,\n",
       "         8.,  8.,  8.,  8.,  8.,  8.,  8.,  8.,  8.,  8.,  8.,  8.,  8.,\n",
       "         8.,  8.,  7.,  8.,  8.,  8.,  9.,  9.,  9.,  9.,  9.,  9.,  9.,\n",
       "         9.,  9.,  9., 10., 10., 10., 10.,  9.,  9.,  9.,  9.,  9.,  9.,\n",
       "         9.,  9.,  9., 10., 10., 10., 10., 10., 10., 10., 10., 11., 11.,\n",
       "        11., 11., 11., 11., 11., 12., 12., 12., 12., 13., 13., 12., 12.,\n",
       "        12., 12., 13., 13., 13., 13., 13., 13., 13., 13., 13., 13., 14.,\n",
       "        14., 14., 14., 15., 15., 15., 15., 15., 15., 15., 15., 15., 15.,\n",
       "        15., 15., 15., 15., 15., 15., 15., 15., 15., 15., 15., 15., 15.,\n",
       "        15., 15., 15., 16., 16., 16., 16., 16., 16., 16., 16., 16., 16.,\n",
       "        16., 16., 16., 16., 16.]])"
      ]
     },
     "execution_count": 57,
     "metadata": {},
     "output_type": "execute_result"
    }
   ],
   "source": [
    "#Here is the start of a peak in our Nanog datatrack on chromosome 1\n",
    "nanog.func('chr1',[3062586], buffer = 100)"
   ]
  },
  {
   "cell_type": "markdown",
   "metadata": {},
   "source": [
    "Lets reload our promoter info and see if we can form similar plots as above when we used the BED files:"
   ]
  },
  {
   "cell_type": "code",
   "execution_count": 59,
   "metadata": {},
   "outputs": [
    {
     "name": "stdout",
     "output_type": "stream",
     "text": [
      "chr1\n",
      "chr3\n",
      "chr2\n",
      "chr4\n",
      "chr7\n",
      "chr6\n",
      "chr9\n",
      "chr5\n",
      "chr11\n",
      "chr12\n",
      "chr8\n",
      "chrY\n",
      "couldn't find active promoter info for chromosome chrY\n",
      "chrX\n",
      "chr10\n",
      "chr13\n",
      "chr15\n",
      "chr14\n",
      "chr16\n",
      "chr19\n",
      "chr18\n",
      "chr17\n"
     ]
    }
   ],
   "source": [
    "buffer = 1000\n",
    "promoter_nanog_signal = np.zeros(200)\n",
    "numproms = 0\n",
    "for chrom in nanog.chromosomes:\n",
    "    print(chrom)\n",
    "    try:\n",
    "        mids = np.mean(x[chrom], axis = 1).astype('int')\n",
    "    except:\n",
    "        print(\"couldn't find active promoter info for chromosome {}\".format(chrom))\n",
    "        continue\n",
    "        \n",
    "    promoter_nanog_signal += np.sum(nanog.func(chrom, mids, buffer = buffer, binSize = 10), axis = 0)\n",
    "    numproms += len(mids)\n",
    "\n",
    "promoter_nanog_signal /= numproms"
   ]
  },
  {
   "cell_type": "code",
   "execution_count": 60,
   "metadata": {},
   "outputs": [
    {
     "data": {
      "text/plain": [
       "Text(0.5, 1.0, 'Active promoter nanog signal\\nNaive mESCs')"
      ]
     },
     "execution_count": 60,
     "metadata": {},
     "output_type": "execute_result"
    },
    {
     "data": {
      "image/png": "[encoded data removed]",
      "text/plain": [
       "<Figure size 864x720 with 1 Axes>"
      ]
     },
     "metadata": {
      "needs_background": "light"
     },
     "output_type": "display_data"
    }
   ],
   "source": [
    "import matplotlib.pyplot as plt\n",
    "fig = plt.figure(figsize = (12,10))\n",
    "plot = plt.plot(np.arange(len(promoter_nanog_signal)), promoter_nanog_signal)\n",
    "xticks = plt.xticks([0,50,100,150,200], [-1000, -500, 0, 500,1000])\n",
    "plt.tick_params(labelsize = 15)\n",
    "plt.ylabel(\"Average Signal\", size = 20)\n",
    "plt.xlabel(\"Distance from active promoter centre\", size = 20)\n",
    "plt.title(\"Active promoter nanog signal\\nNaive mESCs\", size = 20)"
   ]
  },
  {
   "cell_type": "code",
   "execution_count": null,
   "metadata": {},
   "outputs": [],
   "source": []
  },
  {
   "cell_type": "code",
   "execution_count": null,
   "metadata": {},
   "outputs": [],
   "source": []
  }
 ],
 "metadata": {
  "kernelspec": {
   "display_name": "graphic",
   "language": "python",
   "name": "graphic"
  },
  "language_info": {
   "codemirror_mode": {
    "name": "ipython",
    "version": 3
   },
   "file_extension": ".py",
   "mimetype": "text/x-python",
   "name": "python",
   "nbconvert_exporter": "python",
   "pygments_lexer": "ipython3",
   "version": "3.7.10"
  }
 },
 "nbformat": 4,
 "nbformat_minor": 4
}
